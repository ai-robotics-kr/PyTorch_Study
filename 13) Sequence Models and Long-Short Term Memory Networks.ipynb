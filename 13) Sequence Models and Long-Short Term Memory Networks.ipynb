{
 "cells": [
  {
   "cell_type": "code",
   "execution_count": 1,
   "metadata": {},
   "outputs": [],
   "source": [
    "%matplotlib inline"
   ]
  },
  {
   "cell_type": "markdown",
   "metadata": {},
   "source": [
    "\n",
    "Sequence Models and Long-Short Term Memory Networks\n",
    "===================================================\n",
    "\n",
    "https://pytorch.org/tutorials/beginner/nlp/sequence_models_tutorial.html#sphx-glr-beginner-nlp-sequence-models-tutorial-py\n",
    "\n",
    "At this point, we have seen various feed-forward networks. That is,\n",
    "there is no state maintained by the network at all. This might not be\n",
    "the behavior we want. Sequence models are central to NLP: they are\n",
    "models where there is some sort of dependence through time between your\n",
    "inputs. The classical example of a sequence model is the Hidden Markov\n",
    "Model for part-of-speech tagging. Another example is the conditional\n",
    "random field.\n",
    "\n",
    "A recurrent neural network is a network that maintains some kind of\n",
    "state. For example, its output could be used as part of the next input,\n",
    "so that information can propogate along as the network passes over the\n",
    "sequence. In the case of an LSTM, for each element in the sequence,\n",
    "there is a corresponding *hidden state* $h_t$, which in principle\n",
    "can contain information from arbitrary points earlier in the sequence.\n",
    "We can use the hidden state to predict words in a language model,\n",
    "part-of-speech tags, and a myriad of other things.\n",
    "\n",
    "\n",
    "LSTM's in Pytorch\n",
    "~~~~~~~~~~~~~~~~~\n",
    "\n",
    "Before getting to the example, note a few things. Pytorch's LSTM expects\n",
    "all of its inputs to be 3D tensors. The semantics of the axes of these\n",
    "tensors is important. The first axis is the sequence itself, the second\n",
    "indexes instances in the mini-batch, and the third indexes elements of\n",
    "the input. We haven't discussed mini-batching, so lets just ignore that\n",
    "and assume we will always have just 1 dimension on the second axis. If\n",
    "we want to run the sequence model over the sentence \"The cow jumped\",\n",
    "our input should look like\n",
    "\n",
    "\\begin{align}\\begin{bmatrix}\n",
    "   \\overbrace{q_\\text{The}}^\\text{row vector} \\\\\n",
    "   q_\\text{cow} \\\\\n",
    "   q_\\text{jumped}\n",
    "   \\end{bmatrix}\\end{align}\n",
    "\n",
    "Except remember there is an additional 2nd dimension with size 1.\n",
    "\n",
    "In addition, you could go through the sequence one at a time, in which\n",
    "case the 1st axis will have size 1 also.\n",
    "\n",
    "Let's see a quick example.\n",
    "\n"
   ]
  },
  {
   "cell_type": "code",
   "execution_count": 2,
   "metadata": {},
   "outputs": [
    {
     "data": {
      "text/plain": [
       "<torch._C.Generator at 0x21b375263f0>"
      ]
     },
     "execution_count": 2,
     "metadata": {},
     "output_type": "execute_result"
    }
   ],
   "source": [
    "# Author: Robert Guthrie\n",
    "\n",
    "import torch\n",
    "import torch.nn as nn\n",
    "import torch.nn.functional as F\n",
    "import torch.optim as optim\n",
    "\n",
    "torch.manual_seed(1)"
   ]
  },
  {
   "cell_type": "code",
   "execution_count": 20,
   "metadata": {},
   "outputs": [],
   "source": [
    "lstm = nn.LSTM(3, 3)  # Input dim is 3, output dim is 3\n",
    "inputs = [torch.randn(1, 3) for _ in range(5)]  # make a sequence of length 5"
   ]
  },
  {
   "cell_type": "code",
   "execution_count": 21,
   "metadata": {},
   "outputs": [
    {
     "name": "stdout",
     "output_type": "stream",
     "text": [
      "out: tensor([[[-0.4785, -0.3109, -0.1566]]], grad_fn=<StackBackward>) \n",
      "hidden: (tensor([[[-0.4785, -0.3109, -0.1566]]], grad_fn=<StackBackward>), tensor([[[-1.7379, -0.7764, -0.2700]]], grad_fn=<StackBackward>)) \n",
      "\n",
      "out: tensor([[[-0.5050, -0.0986,  0.1477]]], grad_fn=<StackBackward>) \n",
      "hidden: (tensor([[[-0.5050, -0.0986,  0.1477]]], grad_fn=<StackBackward>), tensor([[[-0.9401, -0.1817,  0.1908]]], grad_fn=<StackBackward>)) \n",
      "\n",
      "out: tensor([[[-0.2325,  0.2996,  0.4022]]], grad_fn=<StackBackward>) \n",
      "hidden: (tensor([[[-0.2325,  0.2996,  0.4022]]], grad_fn=<StackBackward>), tensor([[[-0.5746,  0.4480,  0.5650]]], grad_fn=<StackBackward>)) \n",
      "\n",
      "out: tensor([[[-0.0279,  0.2914,  0.1493]]], grad_fn=<StackBackward>) \n",
      "hidden: (tensor([[[-0.0279,  0.2914,  0.1493]]], grad_fn=<StackBackward>), tensor([[[-0.0859,  0.5432,  0.1916]]], grad_fn=<StackBackward>)) \n",
      "\n",
      "out: tensor([[[0.1621, 0.1617, 0.0159]]], grad_fn=<StackBackward>) \n",
      "hidden: (tensor([[[0.1621, 0.1617, 0.0159]]], grad_fn=<StackBackward>), tensor([[[0.3854, 0.4061, 0.0197]]], grad_fn=<StackBackward>)) \n",
      "\n"
     ]
    }
   ],
   "source": [
    "# initialize the hidden state.\n",
    "hidden = (torch.randn(1, 1, 3),\n",
    "          torch.randn(1, 1, 3))\n",
    "for i in inputs:\n",
    "    # Step through the sequence one element at a time.\n",
    "    # after each step, hidden contains the hidden state.\n",
    "    out, hidden = lstm(i.view(1, 1, -1), hidden)\n",
    "    print(\"out:\", out, \"\\nhidden:\", hidden, '\\n')"
   ]
  },
  {
   "cell_type": "code",
   "execution_count": 22,
   "metadata": {},
   "outputs": [
    {
     "name": "stdout",
     "output_type": "stream",
     "text": [
      "tensor([[[ 0.2927, -0.2960, -0.5345]],\n",
      "\n",
      "        [[ 1.7612, -1.0814, -1.1957]],\n",
      "\n",
      "        [[ 0.2728, -1.9361, -1.2940]],\n",
      "\n",
      "        [[-0.4160, -0.2229,  0.2163]],\n",
      "\n",
      "        [[ 0.5239,  0.6090,  0.7696]]])\n",
      "tensor([[[-0.2434,  0.3961,  0.5102]],\n",
      "\n",
      "        [[-0.1092,  0.4521,  0.6861]],\n",
      "\n",
      "        [[-0.0508,  0.6531,  0.6779]],\n",
      "\n",
      "        [[ 0.0516,  0.4963,  0.3378]],\n",
      "\n",
      "        [[ 0.2076,  0.2732,  0.0846]]], grad_fn=<StackBackward>)\n",
      "(tensor([[[0.2076, 0.2732, 0.0846]]], grad_fn=<StackBackward>), tensor([[[0.5179, 0.7412, 0.1040]]], grad_fn=<StackBackward>))\n"
     ]
    }
   ],
   "source": [
    "# alternatively, we can do the entire sequence all at once.\n",
    "# the first value returned by LSTM is all of the hidden states throughout\n",
    "# the sequence. the second is just the most recent hidden state\n",
    "# (compare the last slice of \"out\" with \"hidden\" below, they are the same)\n",
    "# The reason for this is that:\n",
    "# \"out\" will give you access to all hidden states in the sequence\n",
    "# \"hidden\" will allow you to continue the sequence and backpropagate,\n",
    "# by passing it as an argument  to the lstm at a later time\n",
    "# Add the extra 2nd dimension\n",
    "inputs = torch.cat(inputs).view(len(inputs), 1, -1)\n",
    "hidden = (torch.randn(1, 1, 3), torch.randn(1, 1, 3))  # clean out hidden state\n",
    "out, hidden = lstm(inputs, hidden)\n",
    "print(inputs)\n",
    "print(out)\n",
    "print(hidden)"
   ]
  },
  {
   "cell_type": "markdown",
   "metadata": {},
   "source": [
    "Example: An LSTM for Part-of-Speech Tagging\n",
    "~~~~~~~~~~~~~~~~~~~~~~~~~~~~~~~~~~~~~~~~~~~\n",
    "\n",
    "In this section, we will use an LSTM to get part of speech tags. We will\n",
    "not use Viterbi or Forward-Backward or anything like that, but as a\n",
    "(challenging) exercise to the reader, think about how Viterbi could be\n",
    "used after you have seen what is going on.\n",
    "\n",
    "The model is as follows: let our input sentence be\n",
    "$w_1, \\dots, w_M$, where $w_i \\in V$, our vocab. Also, let\n",
    "$T$ be our tag set, and $y_i$ the tag of word $w_i$.\n",
    "Denote our prediction of the tag of word $w_i$ by\n",
    "$\\hat{y}_i$.\n",
    "\n",
    "This is a structure prediction, model, where our output is a sequence\n",
    "$\\hat{y}_1, \\dots, \\hat{y}_M$, where $\\hat{y}_i \\in T$.\n",
    "\n",
    "To do the prediction, pass an LSTM over the sentence. Denote the hidden\n",
    "state at timestep $i$ as $h_i$. Also, assign each tag a\n",
    "unique index (like how we had word\\_to\\_ix in the word embeddings\n",
    "section). Then our prediction rule for $\\hat{y}_i$ is\n",
    "\n",
    "\\begin{align}\\hat{y}_i = \\text{argmax}_j \\  (\\log \\text{Softmax}(Ah_i + b))_j\\end{align}\n",
    "\n",
    "That is, take the log softmax of the affine map of the hidden state,\n",
    "and the predicted tag is the tag that has the maximum value in this\n",
    "vector. Note this implies immediately that the dimensionality of the\n",
    "target space of $A$ is $|T|$.\n",
    "\n",
    "\n",
    "Prepare data:\n",
    "\n"
   ]
  },
  {
   "cell_type": "code",
   "execution_count": 23,
   "metadata": {},
   "outputs": [
    {
     "name": "stdout",
     "output_type": "stream",
     "text": [
      "{'The': 0, 'dog': 1, 'ate': 2, 'the': 3, 'apple': 4, 'Everybody': 5, 'read': 6, 'that': 7, 'book': 8}\n"
     ]
    }
   ],
   "source": [
    "def prepare_sequence(seq, to_ix):\n",
    "    idxs = [to_ix[w] for w in seq]\n",
    "    return torch.tensor(idxs, dtype=torch.long)\n",
    "\n",
    "\n",
    "training_data = [\n",
    "    (\"The dog ate the apple\".split(), [\"DET\", \"NN\", \"V\", \"DET\", \"NN\"]),\n",
    "    (\"Everybody read that book\".split(), [\"NN\", \"V\", \"DET\", \"NN\"])\n",
    "]\n",
    "word_to_ix = {}\n",
    "for sent, tags in training_data:\n",
    "    for word in sent:\n",
    "        if word not in word_to_ix:\n",
    "            word_to_ix[word] = len(word_to_ix)\n",
    "print(word_to_ix)\n",
    "tag_to_ix = {\"DET\": 0, \"NN\": 1, \"V\": 2}\n",
    "\n",
    "# These will usually be more like 32 or 64 dimensional.\n",
    "# We will keep them small, so we can see how the weights change as we train.\n",
    "EMBEDDING_DIM = 6\n",
    "HIDDEN_DIM = 6"
   ]
  },
  {
   "cell_type": "markdown",
   "metadata": {},
   "source": [
    "Create the model:\n",
    "\n"
   ]
  },
  {
   "cell_type": "code",
   "execution_count": 24,
   "metadata": {},
   "outputs": [],
   "source": [
    "class LSTMTagger(nn.Module):\n",
    "\n",
    "    def __init__(self, embedding_dim, hidden_dim, vocab_size, tagset_size):\n",
    "        super(LSTMTagger, self).__init__()\n",
    "        self.hidden_dim = hidden_dim\n",
    "\n",
    "        self.word_embeddings = nn.Embedding(vocab_size, embedding_dim)\n",
    "\n",
    "        # The LSTM takes word embeddings as inputs, and outputs hidden states\n",
    "        # with dimensionality hidden_dim.\n",
    "        self.lstm = nn.LSTM(embedding_dim, hidden_dim)\n",
    "\n",
    "        # The linear layer that maps from hidden state space to tag space\n",
    "        self.hidden2tag = nn.Linear(hidden_dim, tagset_size)\n",
    "\n",
    "    def forward(self, sentence):\n",
    "        embeds = self.word_embeddings(sentence)\n",
    "        lstm_out, _ = self.lstm(embeds.view(len(sentence), 1, -1))\n",
    "        tag_space = self.hidden2tag(lstm_out.view(len(sentence), -1))\n",
    "        tag_scores = F.log_softmax(tag_space, dim=1)\n",
    "        return tag_scores"
   ]
  },
  {
   "cell_type": "markdown",
   "metadata": {},
   "source": [
    "Train the model:\n",
    "\n"
   ]
  },
  {
   "cell_type": "code",
   "execution_count": 30,
   "metadata": {},
   "outputs": [
    {
     "name": "stdout",
     "output_type": "stream",
     "text": [
      "tensor([[-0.7902, -1.1744, -1.4388],\n",
      "        [-0.8913, -1.1091, -1.3471],\n",
      "        [-0.8219, -1.0954, -1.4873],\n",
      "        [-0.8637, -1.1071, -1.3948],\n",
      "        [-0.8489, -1.1626, -1.3493]])\n",
      "tensor([[-0.0626, -3.4730, -3.5194],\n",
      "        [-5.6880, -0.0325, -3.5535],\n",
      "        [-2.9017, -3.0503, -0.1079],\n",
      "        [-0.0713, -5.1233, -2.7666],\n",
      "        [-3.7204, -0.0445, -3.9485]])\n"
     ]
    }
   ],
   "source": [
    "model = LSTMTagger(EMBEDDING_DIM, HIDDEN_DIM, len(word_to_ix), len(tag_to_ix))\n",
    "loss_function = nn.NLLLoss()\n",
    "optimizer = optim.SGD(model.parameters(), lr=0.1)\n",
    "\n",
    "# See what the scores are before training\n",
    "# Note that element i,j of the output is the score for tag j for word i.\n",
    "# Here we don't need to train, so the code is wrapped in torch.no_grad()\n",
    "with torch.no_grad():\n",
    "    inputs = prepare_sequence(training_data[0][0], word_to_ix)\n",
    "    tag_scores = model(inputs)\n",
    "    print(tag_scores)\n",
    "\n",
    "for epoch in range(300):  # again, normally you would NOT do 300 epochs, it is toy data\n",
    "    for sentence, tags in training_data:\n",
    "        # Step 1. Remember that Pytorch accumulates gradients.\n",
    "        # We need to clear them out before each instance\n",
    "        model.zero_grad()\n",
    "\n",
    "        # Step 2. Get our inputs ready for the network, that is, turn them into\n",
    "        # Tensors of word indices.\n",
    "        sentence_in = prepare_sequence(sentence, word_to_ix)\n",
    "        targets = prepare_sequence(tags, tag_to_ix)\n",
    "\n",
    "        # Step 3. Run our forward pass.\n",
    "        tag_scores = model(sentence_in)\n",
    "\n",
    "        # Step 4. Compute the loss, gradients, and update the parameters by\n",
    "        #  calling optimizer.step()\n",
    "        loss = loss_function(tag_scores, targets)\n",
    "        loss.backward()\n",
    "        optimizer.step()\n",
    "\n",
    "# See what the scores are after training\n",
    "with torch.no_grad():\n",
    "    inputs = prepare_sequence(training_data[0][0], word_to_ix)\n",
    "    tag_scores = model(inputs)\n",
    "\n",
    "    # The sentence is \"the dog ate the apple\".  i,j corresponds to score for tag j\n",
    "    # for word i. The predicted tag is the maximum scoring tag.\n",
    "    # Here, we can see the predicted sequence below is 0 1 2 0 1\n",
    "    # since 0 is index of the maximum value of row 1,\n",
    "    # 1 is the index of maximum value of row 2, etc.\n",
    "    # Which is DET NOUN VERB DET NOUN, the correct sequence!\n",
    "    print(tag_scores)"
   ]
  },
  {
   "cell_type": "markdown",
   "metadata": {},
   "source": [
    "Exercise: Augmenting the LSTM part-of-speech tagger with character-level features\n",
    "~~~~~~~~~~~~~~~~~~~~~~~~~~~~~~~~~~~~~~~~~~~~~~~~~~~~~~~~~~~~~~~~~~~~~~~~~~~~~~~~~\n",
    "\n",
    "In the example above, each word had an embedding, which served as the\n",
    "inputs to our sequence model. Let's augment the word embeddings with a\n",
    "representation derived from the characters of the word. We expect that\n",
    "this should help significantly, since character-level information like\n",
    "affixes have a large bearing on part-of-speech. For example, words with\n",
    "the affix *-ly* are almost always tagged as adverbs in English.\n",
    "\n",
    "To do this, let $c_w$ be the character-level representation of\n",
    "word $w$. Let $x_w$ be the word embedding as before. Then\n",
    "the input to our sequence model is the concatenation of $x_w$ and\n",
    "$c_w$. So if $x_w$ has dimension 5, and $c_w$\n",
    "dimension 3, then our LSTM should accept an input of dimension 8.\n",
    "\n",
    "To get the character level representation, do an LSTM over the\n",
    "characters of a word, and let $c_w$ be the final hidden state of\n",
    "this LSTM. Hints:\n",
    "\n",
    "* There are going to be two LSTM's in your new model.\n",
    "  The original one that outputs POS tag scores, and the new one that\n",
    "  outputs a character-level representation of each word.\n",
    "* To do a sequence model over characters, you will have to embed characters.\n",
    "  The character embeddings will be the input to the character LSTM.\n",
    "\n",
    "\n"
   ]
  },
  {
   "cell_type": "code",
   "execution_count": 50,
   "metadata": {},
   "outputs": [
    {
     "data": {
      "text/plain": [
       "{'T': 0,\n",
       " 'h': 1,\n",
       " 'e': 2,\n",
       " 'd': 3,\n",
       " 'o': 4,\n",
       " 'g': 5,\n",
       " 'a': 6,\n",
       " 't': 7,\n",
       " 'p': 8,\n",
       " 'l': 9,\n",
       " 'E': 10,\n",
       " 'v': 11,\n",
       " 'r': 12,\n",
       " 'y': 13,\n",
       " 'b': 14,\n",
       " 'k': 15}"
      ]
     },
     "execution_count": 50,
     "metadata": {},
     "output_type": "execute_result"
    }
   ],
   "source": [
    "char_to_ix = {}\n",
    "for sentence in training_data:\n",
    "    for word in sentence[0]:\n",
    "        for i in word:\n",
    "            if i not in char_to_ix.keys():\n",
    "                char_to_ix[i]=len(char_to_ix)\n",
    "            \n",
    "char_to_ix"
   ]
  },
  {
   "cell_type": "code",
   "execution_count": 55,
   "metadata": {},
   "outputs": [],
   "source": [
    "def word_to_charid(word):\n",
    "    tup = []\n",
    "    for letter in word:\n",
    "        tup.append(char_to_ix[letter])\n",
    "        \n",
    "    return torch.tensor(tup, dtype=torch.long)"
   ]
  },
  {
   "cell_type": "code",
   "execution_count": 56,
   "metadata": {},
   "outputs": [
    {
     "data": {
      "text/plain": [
       "tensor([0, 1, 2])"
      ]
     },
     "execution_count": 56,
     "metadata": {},
     "output_type": "execute_result"
    }
   ],
   "source": [
    "word_to_charid('The')"
   ]
  },
  {
   "cell_type": "code",
   "execution_count": 58,
   "metadata": {},
   "outputs": [],
   "source": [
    "char_embd = nn.Embedding(len(char_to_ix),10)\n",
    "exp = char_embd(word_to_charid('The'))"
   ]
  },
  {
   "cell_type": "code",
   "execution_count": 59,
   "metadata": {},
   "outputs": [
    {
     "data": {
      "text/plain": [
       "tensor([[ 0.5687, -0.4798, -0.3498,  0.3211,  0.8500,  0.0051,  0.6672, -0.5692,\n",
       "         -0.0385, -1.5256],\n",
       "        [ 0.6652,  1.1653,  0.2134,  0.3863,  1.2854, -0.1999,  1.3419, -0.7575,\n",
       "         -0.7325, -0.6029],\n",
       "        [ 0.3530,  0.5275,  1.1979,  0.0636,  0.3645, -2.2024,  1.0670,  0.8081,\n",
       "          0.7241,  0.9191]], grad_fn=<EmbeddingBackward>)"
      ]
     },
     "execution_count": 59,
     "metadata": {},
     "output_type": "execute_result"
    }
   ],
   "source": [
    "exp"
   ]
  },
  {
   "cell_type": "code",
   "execution_count": 46,
   "metadata": {},
   "outputs": [],
   "source": [
    "char_lstm = nn.LSTM(10, 10)"
   ]
  },
  {
   "cell_type": "code",
   "execution_count": 85,
   "metadata": {},
   "outputs": [
    {
     "data": {
      "text/plain": [
       "(tensor([[[-0.0487, -0.0262, -0.0476,  0.2024, -0.2146,  0.0440,  0.0017,\n",
       "            0.1622, -0.0500, -0.1084]],\n",
       " \n",
       "         [[-0.1682,  0.0048, -0.0721,  0.2477, -0.2436, -0.2171,  0.1408,\n",
       "            0.1826, -0.0187, -0.2535]],\n",
       " \n",
       "         [[-0.0400, -0.0619, -0.1487,  0.1101, -0.1976, -0.2235,  0.2390,\n",
       "            0.0536, -0.1614, -0.3146]]], grad_fn=<StackBackward>),\n",
       " tensor([[[-0.0400, -0.0619, -0.1487,  0.1101, -0.1976, -0.2235,  0.2390,\n",
       "            0.0536, -0.1614, -0.3146]]], grad_fn=<StackBackward>))"
      ]
     },
     "execution_count": 85,
     "metadata": {},
     "output_type": "execute_result"
    }
   ],
   "source": [
    "out, hidden = char_lstm(exp.view(len(exp),1,-1))\n",
    "out,hidden[0]"
   ]
  },
  {
   "cell_type": "code",
   "execution_count": 87,
   "metadata": {},
   "outputs": [
    {
     "data": {
      "text/plain": [
       "['The', 'dog', 'ate', 'the', 'apple']"
      ]
     },
     "execution_count": 87,
     "metadata": {},
     "output_type": "execute_result"
    }
   ],
   "source": [
    "sent = training_data[0][0]\n",
    "sent"
   ]
  },
  {
   "cell_type": "code",
   "execution_count": 93,
   "metadata": {},
   "outputs": [
    {
     "name": "stdout",
     "output_type": "stream",
     "text": [
      "tensor([[[-0.0400, -0.0619, -0.1487,  0.1101, -0.1976, -0.2235,  0.2390,\n",
      "           0.0536, -0.1614, -0.3146]]], grad_fn=<StackBackward>)\n",
      "tensor([[[ 0.0160,  0.0446, -0.1488, -0.2433, -0.1780, -0.2648,  0.2271,\n",
      "           0.0321, -0.1851, -0.1593]]], grad_fn=<StackBackward>)\n",
      "tensor([[[-0.0617, -0.0709, -0.2334, -0.1945, -0.1256, -0.1876,  0.3148,\n",
      "          -0.1416,  0.1069, -0.0444]]], grad_fn=<StackBackward>)\n",
      "tensor([[[-0.0903, -0.0421, -0.1940, -0.0220, -0.1727, -0.2428,  0.2860,\n",
      "           0.0084, -0.0191, -0.2089]]], grad_fn=<StackBackward>)\n",
      "tensor([[[-0.1958, -0.0469, -0.1374,  0.1330, -0.2946, -0.1278,  0.3522,\n",
      "           0.1662,  0.0944,  0.0571]]], grad_fn=<StackBackward>)\n"
     ]
    }
   ],
   "source": [
    "char_ten = []\n",
    "for word in sent:\n",
    "    _,hidden = char_lstm(char_embd(word_to_charid(word)).view(len(word),1,-1))\n",
    "    print(hidden[0])"
   ]
  },
  {
   "cell_type": "code",
   "execution_count": 105,
   "metadata": {},
   "outputs": [],
   "source": [
    "char_ten = torch.zeros((len(sent), 10))\n",
    "for i, word in enumerate(sent):\n",
    "    _,hidden = char_lstm(char_embd(word_to_charid(word)).view(len(word),1,-1))\n",
    "    char_ten[i] = hidden[0]"
   ]
  },
  {
   "cell_type": "code",
   "execution_count": 106,
   "metadata": {},
   "outputs": [
    {
     "data": {
      "text/plain": [
       "tensor([[-0.0400, -0.0619, -0.1487,  0.1101, -0.1976, -0.2235,  0.2390,  0.0536,\n",
       "         -0.1614, -0.3146],\n",
       "        [ 0.0160,  0.0446, -0.1488, -0.2433, -0.1780, -0.2648,  0.2271,  0.0321,\n",
       "         -0.1851, -0.1593],\n",
       "        [-0.0617, -0.0709, -0.2334, -0.1945, -0.1256, -0.1876,  0.3148, -0.1416,\n",
       "          0.1069, -0.0444],\n",
       "        [-0.0903, -0.0421, -0.1940, -0.0220, -0.1727, -0.2428,  0.2860,  0.0084,\n",
       "         -0.0191, -0.2089],\n",
       "        [-0.1958, -0.0469, -0.1374,  0.1330, -0.2946, -0.1278,  0.3522,  0.1662,\n",
       "          0.0944,  0.0571]], grad_fn=<CopySlices>)"
      ]
     },
     "execution_count": 106,
     "metadata": {},
     "output_type": "execute_result"
    }
   ],
   "source": [
    "char_ten"
   ]
  },
  {
   "cell_type": "code",
   "execution_count": 100,
   "metadata": {},
   "outputs": [
    {
     "data": {
      "text/plain": [
       "tensor([[0., 0., 0.],\n",
       "        [0., 0., 0.]])"
      ]
     },
     "execution_count": 100,
     "metadata": {},
     "output_type": "execute_result"
    }
   ],
   "source": [
    "test = torch.zeros((2,3))\n",
    "test"
   ]
  },
  {
   "cell_type": "code",
   "execution_count": 102,
   "metadata": {},
   "outputs": [
    {
     "data": {
      "text/plain": [
       "tensor([[2., 3., 1.],\n",
       "        [0., 0., 0.]])"
      ]
     },
     "execution_count": 102,
     "metadata": {},
     "output_type": "execute_result"
    }
   ],
   "source": [
    "test[0] = torch.tensor([2,3,1])\n",
    "test"
   ]
  },
  {
   "cell_type": "code",
   "execution_count": 94,
   "metadata": {},
   "outputs": [],
   "source": [
    "word_embeddings = nn.Embedding(len(word_to_ix), 10)"
   ]
  },
  {
   "cell_type": "code",
   "execution_count": 107,
   "metadata": {},
   "outputs": [
    {
     "data": {
      "text/plain": [
       "tensor([[-1.7832e+00,  6.4986e-01,  1.0964e-05, -9.4343e-01, -2.5621e+00,\n",
       "         -9.0340e-01, -1.1404e+00,  3.0870e-01,  9.2925e-01, -1.1099e+00],\n",
       "        [ 2.9609e-01,  9.7363e-01, -6.8629e-02,  4.6452e-01,  1.3876e+00,\n",
       "         -4.5444e-01,  8.8294e-01, -9.1006e-01, -1.3159e+00, -4.0962e-01],\n",
       "        [ 5.9175e-01,  1.1058e+00, -4.1602e-01, -1.2163e-01, -5.2085e-01,\n",
       "         -2.8114e-01, -1.5574e+00,  1.3124e+00,  5.1202e-01,  1.4130e+00],\n",
       "        [-6.4393e-01, -3.5775e+00,  1.8989e-01, -5.9293e-01, -8.3293e-01,\n",
       "         -3.5120e-01,  5.8266e-01, -1.8223e+00,  2.7854e-01, -1.9936e+00],\n",
       "        [-1.1515e+00,  6.8468e-01,  3.5912e-01,  6.1814e-01,  3.1925e-01,\n",
       "         -4.7079e-01,  2.5327e-01, -1.7997e-01, -3.7535e-02,  3.3131e-01]],\n",
       "       grad_fn=<EmbeddingBackward>)"
      ]
     },
     "execution_count": 107,
     "metadata": {},
     "output_type": "execute_result"
    }
   ],
   "source": [
    "word_vec = word_embeddings(prepare_sequence(sent, word_to_ix))\n",
    "word_vec"
   ]
  },
  {
   "cell_type": "code",
   "execution_count": 108,
   "metadata": {},
   "outputs": [
    {
     "data": {
      "text/plain": [
       "(torch.Size([5, 10]), torch.Size([5, 10]))"
      ]
     },
     "execution_count": 108,
     "metadata": {},
     "output_type": "execute_result"
    }
   ],
   "source": [
    "char_ten.size(), word_vec.size()"
   ]
  },
  {
   "cell_type": "code",
   "execution_count": 115,
   "metadata": {},
   "outputs": [
    {
     "data": {
      "text/plain": [
       "torch.Size([10, 10])"
      ]
     },
     "execution_count": 115,
     "metadata": {},
     "output_type": "execute_result"
    }
   ],
   "source": [
    "torch.cat((word_vec, char_ten), dim=1).size()"
   ]
  },
  {
   "cell_type": "code",
   "execution_count": 152,
   "metadata": {},
   "outputs": [],
   "source": [
    "class LSTMTagger_char(nn.Module):\n",
    "\n",
    "    def __init__(self, embedding_dim, hidden_dim, char_embedding_dim, char_hidden_dim\n",
    "                 ,vocab_size, tagset_size, char_size ):\n",
    "        super(LSTMTagger_char, self).__init__()\n",
    "        self.hidden_dim = hidden_dim\n",
    "        self.char_hidden_dim = char_hidden_dim\n",
    "\n",
    "        self.word_embeddings = nn.Embedding(vocab_size, embedding_dim)\n",
    "        self.char_embeddings = nn.Embedding(char_size, char_embedding_dim)\n",
    "        self.char_lstm = nn.LSTM(char_embedding_dim, char_hidden_dim)\n",
    "    \n",
    "        # The LSTM takes word embeddings as inputs, and outputs hidden states\n",
    "        # with dimensionality hidden_dim.\n",
    "        self.lstm = nn.LSTM(embedding_dim, hidden_dim)\n",
    "\n",
    "        # The linear layer that maps from hidden state space to tag space\n",
    "        self.hidden2tag = nn.Linear(hidden_dim, tagset_size)\n",
    "\n",
    "    def forward(self, sentence, sentence_in):\n",
    "        embeds = self.word_embeddings(sentence_in)\n",
    "        \n",
    "        char_ten = torch.zeros((len(sentence), self.char_hidden_dim))\n",
    "        for i, word in enumerate(sentence):\n",
    "            _,hidden = char_lstm(char_embd(word_to_charid(word)).view(len(word),1,-1))\n",
    "            char_ten[i] = hidden[0]\n",
    "        \n",
    "        vec = torch.cat((embeds, char_ten),dim=1)\n",
    "        \n",
    "        lstm_out, _ = self.lstm(vec.view(len(sentence), 1, -1))\n",
    "        tag_space = self.hidden2tag(lstm_out.view(len(sentence), -1))\n",
    "        tag_scores = F.log_softmax(tag_space, dim=1)\n",
    "        return tag_scores"
   ]
  },
  {
   "cell_type": "code",
   "execution_count": 154,
   "metadata": {},
   "outputs": [
    {
     "ename": "RuntimeError",
     "evalue": "The expanded size of the tensor (6) must match the existing size (10) at non-singleton dimension 0.  Target sizes: [6].  Tensor sizes: [10]",
     "output_type": "error",
     "traceback": [
      "\u001b[1;31m---------------------------------------------------------------------------\u001b[0m",
      "\u001b[1;31mRuntimeError\u001b[0m                              Traceback (most recent call last)",
      "\u001b[1;32m<ipython-input-154-6c5beb2deb23>\u001b[0m in \u001b[0;36m<module>\u001b[1;34m\u001b[0m\n\u001b[0;32m      8\u001b[0m \u001b[1;32mwith\u001b[0m \u001b[0mtorch\u001b[0m\u001b[1;33m.\u001b[0m\u001b[0mno_grad\u001b[0m\u001b[1;33m(\u001b[0m\u001b[1;33m)\u001b[0m\u001b[1;33m:\u001b[0m\u001b[1;33m\u001b[0m\u001b[1;33m\u001b[0m\u001b[0m\n\u001b[0;32m      9\u001b[0m     \u001b[0minputs\u001b[0m \u001b[1;33m=\u001b[0m \u001b[0mprepare_sequence\u001b[0m\u001b[1;33m(\u001b[0m\u001b[0mtraining_data\u001b[0m\u001b[1;33m[\u001b[0m\u001b[1;36m0\u001b[0m\u001b[1;33m]\u001b[0m\u001b[1;33m[\u001b[0m\u001b[1;36m0\u001b[0m\u001b[1;33m]\u001b[0m\u001b[1;33m,\u001b[0m \u001b[0mword_to_ix\u001b[0m\u001b[1;33m)\u001b[0m\u001b[1;33m\u001b[0m\u001b[1;33m\u001b[0m\u001b[0m\n\u001b[1;32m---> 10\u001b[1;33m     \u001b[0mtag_scores\u001b[0m \u001b[1;33m=\u001b[0m \u001b[0mmodel\u001b[0m\u001b[1;33m(\u001b[0m\u001b[0mtraining_data\u001b[0m\u001b[1;33m[\u001b[0m\u001b[1;36m0\u001b[0m\u001b[1;33m]\u001b[0m\u001b[1;33m[\u001b[0m\u001b[1;36m0\u001b[0m\u001b[1;33m]\u001b[0m\u001b[1;33m,\u001b[0m \u001b[0minputs\u001b[0m\u001b[1;33m)\u001b[0m\u001b[1;33m\u001b[0m\u001b[1;33m\u001b[0m\u001b[0m\n\u001b[0m\u001b[0;32m     11\u001b[0m     \u001b[0mprint\u001b[0m\u001b[1;33m(\u001b[0m\u001b[0mtag_scores\u001b[0m\u001b[1;33m)\u001b[0m\u001b[1;33m\u001b[0m\u001b[1;33m\u001b[0m\u001b[0m\n\u001b[0;32m     12\u001b[0m \u001b[1;33m\u001b[0m\u001b[0m\n",
      "\u001b[1;32mG:\\Anaconda3\\envs\\pytorch_ev\\lib\\site-packages\\torch\\nn\\modules\\module.py\u001b[0m in \u001b[0;36m__call__\u001b[1;34m(self, *input, **kwargs)\u001b[0m\n\u001b[0;32m    491\u001b[0m             \u001b[0mresult\u001b[0m \u001b[1;33m=\u001b[0m \u001b[0mself\u001b[0m\u001b[1;33m.\u001b[0m\u001b[0m_slow_forward\u001b[0m\u001b[1;33m(\u001b[0m\u001b[1;33m*\u001b[0m\u001b[0minput\u001b[0m\u001b[1;33m,\u001b[0m \u001b[1;33m**\u001b[0m\u001b[0mkwargs\u001b[0m\u001b[1;33m)\u001b[0m\u001b[1;33m\u001b[0m\u001b[1;33m\u001b[0m\u001b[0m\n\u001b[0;32m    492\u001b[0m         \u001b[1;32melse\u001b[0m\u001b[1;33m:\u001b[0m\u001b[1;33m\u001b[0m\u001b[1;33m\u001b[0m\u001b[0m\n\u001b[1;32m--> 493\u001b[1;33m             \u001b[0mresult\u001b[0m \u001b[1;33m=\u001b[0m \u001b[0mself\u001b[0m\u001b[1;33m.\u001b[0m\u001b[0mforward\u001b[0m\u001b[1;33m(\u001b[0m\u001b[1;33m*\u001b[0m\u001b[0minput\u001b[0m\u001b[1;33m,\u001b[0m \u001b[1;33m**\u001b[0m\u001b[0mkwargs\u001b[0m\u001b[1;33m)\u001b[0m\u001b[1;33m\u001b[0m\u001b[1;33m\u001b[0m\u001b[0m\n\u001b[0m\u001b[0;32m    494\u001b[0m         \u001b[1;32mfor\u001b[0m \u001b[0mhook\u001b[0m \u001b[1;32min\u001b[0m \u001b[0mself\u001b[0m\u001b[1;33m.\u001b[0m\u001b[0m_forward_hooks\u001b[0m\u001b[1;33m.\u001b[0m\u001b[0mvalues\u001b[0m\u001b[1;33m(\u001b[0m\u001b[1;33m)\u001b[0m\u001b[1;33m:\u001b[0m\u001b[1;33m\u001b[0m\u001b[1;33m\u001b[0m\u001b[0m\n\u001b[0;32m    495\u001b[0m             \u001b[0mhook_result\u001b[0m \u001b[1;33m=\u001b[0m \u001b[0mhook\u001b[0m\u001b[1;33m(\u001b[0m\u001b[0mself\u001b[0m\u001b[1;33m,\u001b[0m \u001b[0minput\u001b[0m\u001b[1;33m,\u001b[0m \u001b[0mresult\u001b[0m\u001b[1;33m)\u001b[0m\u001b[1;33m\u001b[0m\u001b[1;33m\u001b[0m\u001b[0m\n",
      "\u001b[1;32m<ipython-input-152-e50f43d98356>\u001b[0m in \u001b[0;36mforward\u001b[1;34m(self, sentence, sentence_in)\u001b[0m\n\u001b[0;32m     24\u001b[0m         \u001b[1;32mfor\u001b[0m \u001b[0mi\u001b[0m\u001b[1;33m,\u001b[0m \u001b[0mword\u001b[0m \u001b[1;32min\u001b[0m \u001b[0menumerate\u001b[0m\u001b[1;33m(\u001b[0m\u001b[0msentence\u001b[0m\u001b[1;33m)\u001b[0m\u001b[1;33m:\u001b[0m\u001b[1;33m\u001b[0m\u001b[1;33m\u001b[0m\u001b[0m\n\u001b[0;32m     25\u001b[0m             \u001b[0m_\u001b[0m\u001b[1;33m,\u001b[0m\u001b[0mhidden\u001b[0m \u001b[1;33m=\u001b[0m \u001b[0mchar_lstm\u001b[0m\u001b[1;33m(\u001b[0m\u001b[0mchar_embd\u001b[0m\u001b[1;33m(\u001b[0m\u001b[0mword_to_charid\u001b[0m\u001b[1;33m(\u001b[0m\u001b[0mword\u001b[0m\u001b[1;33m)\u001b[0m\u001b[1;33m)\u001b[0m\u001b[1;33m.\u001b[0m\u001b[0mview\u001b[0m\u001b[1;33m(\u001b[0m\u001b[0mlen\u001b[0m\u001b[1;33m(\u001b[0m\u001b[0mword\u001b[0m\u001b[1;33m)\u001b[0m\u001b[1;33m,\u001b[0m\u001b[1;36m1\u001b[0m\u001b[1;33m,\u001b[0m\u001b[1;33m-\u001b[0m\u001b[1;36m1\u001b[0m\u001b[1;33m)\u001b[0m\u001b[1;33m)\u001b[0m\u001b[1;33m\u001b[0m\u001b[1;33m\u001b[0m\u001b[0m\n\u001b[1;32m---> 26\u001b[1;33m             \u001b[0mchar_ten\u001b[0m\u001b[1;33m[\u001b[0m\u001b[0mi\u001b[0m\u001b[1;33m]\u001b[0m \u001b[1;33m=\u001b[0m \u001b[0mhidden\u001b[0m\u001b[1;33m[\u001b[0m\u001b[1;36m0\u001b[0m\u001b[1;33m]\u001b[0m\u001b[1;33m\u001b[0m\u001b[1;33m\u001b[0m\u001b[0m\n\u001b[0m\u001b[0;32m     27\u001b[0m \u001b[1;33m\u001b[0m\u001b[0m\n\u001b[0;32m     28\u001b[0m         \u001b[0mvec\u001b[0m \u001b[1;33m=\u001b[0m \u001b[0mtorch\u001b[0m\u001b[1;33m.\u001b[0m\u001b[0mcat\u001b[0m\u001b[1;33m(\u001b[0m\u001b[1;33m(\u001b[0m\u001b[0membeds\u001b[0m\u001b[1;33m,\u001b[0m \u001b[0mchar_ten\u001b[0m\u001b[1;33m)\u001b[0m\u001b[1;33m,\u001b[0m\u001b[0mdim\u001b[0m\u001b[1;33m=\u001b[0m\u001b[1;36m1\u001b[0m\u001b[1;33m)\u001b[0m\u001b[1;33m\u001b[0m\u001b[1;33m\u001b[0m\u001b[0m\n",
      "\u001b[1;31mRuntimeError\u001b[0m: The expanded size of the tensor (6) must match the existing size (10) at non-singleton dimension 0.  Target sizes: [6].  Tensor sizes: [10]"
     ]
    }
   ],
   "source": [
    "model = LSTMTagger_char(EMBEDDING_DIM, HIDDEN_DIM,EMBEDDING_DIM, HIDDEN_DIM, len(word_to_ix), len(tag_to_ix), len(char_to_ix))\n",
    "loss_function = nn.NLLLoss()\n",
    "optimizer = optim.SGD(model.parameters(), lr=0.1)\n",
    "\n",
    "# See what the scores are before training\n",
    "# Note that element i,j of the output is the score for tag j for word i.\n",
    "# Here we don't need to train, so the code is wrapped in torch.no_grad()\n",
    "# with torch.no_grad():\n",
    "#     inputs = prepare_sequence(training_data[0][0], word_to_ix)\n",
    "#     tag_scores = model(training_data[0][0], inputs)\n",
    "#     print(tag_scores)\n",
    "\n",
    "for epoch in range(300):  # again, normally you would NOT do 300 epochs, it is toy data\n",
    "    for sentence, tags in training_data:\n",
    "        # Step 1. Remember that Pytorch accumulates gradients.\n",
    "        # We need to clear them out before each instance\n",
    "        model.zero_grad()\n",
    "\n",
    "        # Step 2. Get our inputs ready for the network, that is, turn them into\n",
    "        # Tensors of word indices.\n",
    "        sentence_in = prepare_sequence(sentence, word_to_ix)\n",
    "        targets = prepare_sequence(tags, tag_to_ix)\n",
    "\n",
    "        # Step 3. Run our forward pass.\n",
    "        tag_scores = model(sentence, sentence_in)\n",
    "\n",
    "        # Step 4. Compute the loss, gradients, and update the parameters by\n",
    "        #  calling optimizer.step()\n",
    "        loss = loss_function(tag_scores, targets)\n",
    "        loss.backward()\n",
    "        optimizer.step()\n",
    "\n",
    "# See what the scores are after training\n",
    "# with torch.no_grad():\n",
    "#     inputs = prepare_sequence(training_data[0][0], word_to_ix)\n",
    "#     tag_scores = model(training_data[0][0], inputs)\n",
    "\n",
    "#     # The sentence is \"the dog ate the apple\".  i,j corresponds to score for tag j\n",
    "#     # for word i. The predicted tag is the maximum scoring tag.\n",
    "#     # Here, we can see the predicted sequence below is 0 1 2 0 1\n",
    "#     # since 0 is index of the maximum value of row 1,\n",
    "#     # 1 is the index of maximum value of row 2, etc.\n",
    "#     # Which is DET NOUN VERB DET NOUN, the correct sequence!\n",
    "#     print(tag_scores)"
   ]
  },
  {
   "cell_type": "code",
   "execution_count": 120,
   "metadata": {},
   "outputs": [
    {
     "name": "stderr",
     "output_type": "stream",
     "text": [
      "[nltk_data] Downloading package treebank to\n",
      "[nltk_data]     C:\\Users\\lih09\\AppData\\Roaming\\nltk_data...\n",
      "[nltk_data]   Package treebank is already up-to-date!\n"
     ]
    },
    {
     "data": {
      "text/plain": [
       "True"
      ]
     },
     "execution_count": 120,
     "metadata": {},
     "output_type": "execute_result"
    }
   ],
   "source": [
    "import nltk\n",
    "nltk.download('treebank')"
   ]
  },
  {
   "cell_type": "code",
   "execution_count": 132,
   "metadata": {},
   "outputs": [],
   "source": [
    "wsj = list(nltk.corpus.treebank.tagged_sents())"
   ]
  },
  {
   "cell_type": "code",
   "execution_count": 140,
   "metadata": {},
   "outputs": [
    {
     "data": {
      "text/plain": [
       "[('Pierre', 'NNP'),\n",
       " ('Vinken', 'NNP'),\n",
       " (',', ','),\n",
       " ('61', 'CD'),\n",
       " ('years', 'NNS'),\n",
       " ('old', 'JJ'),\n",
       " (',', ','),\n",
       " ('will', 'MD'),\n",
       " ('join', 'VB'),\n",
       " ('the', 'DT'),\n",
       " ('board', 'NN'),\n",
       " ('as', 'IN'),\n",
       " ('a', 'DT'),\n",
       " ('nonexecutive', 'JJ'),\n",
       " ('director', 'NN'),\n",
       " ('Nov.', 'NNP'),\n",
       " ('29', 'CD'),\n",
       " ('.', '.')]"
      ]
     },
     "execution_count": 140,
     "metadata": {},
     "output_type": "execute_result"
    }
   ],
   "source": [
    "wsj[0]"
   ]
  },
  {
   "cell_type": "code",
   "execution_count": 142,
   "metadata": {},
   "outputs": [
    {
     "data": {
      "text/plain": [
       "(['Pierre',\n",
       "  'Vinken',\n",
       "  ',',\n",
       "  '61',\n",
       "  'years',\n",
       "  'old',\n",
       "  ',',\n",
       "  'will',\n",
       "  'join',\n",
       "  'the',\n",
       "  'board',\n",
       "  'as',\n",
       "  'a',\n",
       "  'nonexecutive',\n",
       "  'director',\n",
       "  'Nov.',\n",
       "  '29',\n",
       "  '.'],\n",
       " ['NNP',\n",
       "  'NNP',\n",
       "  ',',\n",
       "  'CD',\n",
       "  'NNS',\n",
       "  'JJ',\n",
       "  ',',\n",
       "  'MD',\n",
       "  'VB',\n",
       "  'DT',\n",
       "  'NN',\n",
       "  'IN',\n",
       "  'DT',\n",
       "  'JJ',\n",
       "  'NN',\n",
       "  'NNP',\n",
       "  'CD',\n",
       "  '.'])"
      ]
     },
     "execution_count": 142,
     "metadata": {},
     "output_type": "execute_result"
    }
   ],
   "source": [
    "sent = []\n",
    "tt = []\n",
    "for word, vv in wsj[0]:\n",
    "    sent.append(word)\n",
    "    tt.append(vv)\n",
    "sent, tt"
   ]
  },
  {
   "cell_type": "code",
   "execution_count": 143,
   "metadata": {},
   "outputs": [
    {
     "data": {
      "text/plain": [
       "[(['The', 'dog', 'ate', 'the', 'apple'], ['DET', 'NN', 'V', 'DET', 'NN']),\n",
       " (['Everybody', 'read', 'that', 'book'], ['NN', 'V', 'DET', 'NN'])]"
      ]
     },
     "execution_count": 143,
     "metadata": {},
     "output_type": "execute_result"
    }
   ],
   "source": [
    "training_data"
   ]
  },
  {
   "cell_type": "code",
   "execution_count": 146,
   "metadata": {},
   "outputs": [],
   "source": [
    "data = []\n",
    "for example in wsj:\n",
    "    sent = []\n",
    "    tt = []\n",
    "    for word, vv in example:\n",
    "        sent.append(word)\n",
    "        tt.append(vv)\n",
    "    data.append((sent,tt))"
   ]
  },
  {
   "cell_type": "code",
   "execution_count": 147,
   "metadata": {},
   "outputs": [
    {
     "data": {
      "text/plain": [
       "3914"
      ]
     },
     "execution_count": 147,
     "metadata": {},
     "output_type": "execute_result"
    }
   ],
   "source": [
    "len(data)"
   ]
  },
  {
   "cell_type": "code",
   "execution_count": 156,
   "metadata": {},
   "outputs": [
    {
     "name": "stdout",
     "output_type": "stream",
     "text": [
      "{'NNP': 0, ',': 1, 'CD': 2, 'NNS': 3, 'JJ': 4, 'MD': 5, 'VB': 6, 'DT': 7, 'NN': 8, 'IN': 9, '.': 10, 'VBZ': 11, 'VBG': 12, 'CC': 13, 'VBD': 14, 'VBN': 15, '-NONE-': 16, 'RB': 17, 'TO': 18, 'PRP': 19, 'RBR': 20, 'WDT': 21, 'VBP': 22, 'RP': 23, 'PRP$': 24, 'JJS': 25, 'POS': 26, '``': 27, 'EX': 28, \"''\": 29, 'WP': 30, ':': 31, 'JJR': 32, 'WRB': 33, '$': 34, 'NNPS': 35, 'WP$': 36, '-LRB-': 37, '-RRB-': 38, 'PDT': 39, 'RBS': 40, 'FW': 41, 'UH': 42, 'SYM': 43, 'LS': 44, '#': 45}\n"
     ]
    }
   ],
   "source": [
    "\n",
    "word_to_ix = {}\n",
    "tag_to_ix = {}\n",
    "for sent, tags in data:\n",
    "    for word in sent:\n",
    "        if word not in word_to_ix:\n",
    "            word_to_ix[word] = len(word_to_ix)\n",
    "    for tag in tags:\n",
    "        if tag not in tag_to_ix:\n",
    "            tag_to_ix[tag] = len(tag_to_ix)\n",
    "            \n",
    "#print(word_to_ix)\n",
    "print(tag_to_ix)\n",
    "# These will usually be more like 32 or 64 dimensional.\n",
    "# We will keep them small, so we can see how the weights change as we train.\n",
    "EMBEDDING_DIM = 64\n",
    "HIDDEN_DIM = 64"
   ]
  },
  {
   "cell_type": "code",
   "execution_count": null,
   "metadata": {},
   "outputs": [
    {
     "name": "stdout",
     "output_type": "stream",
     "text": [
      "tensor([[-3.8764, -3.7409, -3.8481, -3.9418, -3.9173, -3.9522, -3.7120, -3.9219,\n",
      "         -3.7228, -3.9821, -3.8979, -3.8709, -3.8561, -3.8063, -3.9160, -3.6379,\n",
      "         -3.9320, -3.8169, -3.7379, -3.7923, -3.9456, -3.7972, -3.9303, -3.7655,\n",
      "         -3.8521, -3.6153, -3.8334, -3.8298, -3.7773, -3.9701, -3.9679, -3.7633,\n",
      "         -3.8201, -3.8374, -3.9446, -3.6983, -3.8390, -3.7510, -3.6550, -3.7869,\n",
      "         -3.6299, -3.7952, -3.8491, -3.8478, -3.9322, -4.0355],\n",
      "        [-3.8245, -3.8144, -3.7388, -3.9041, -3.8459, -3.9339, -3.7567, -3.9072,\n",
      "         -3.7484, -3.8215, -3.9124, -3.8258, -3.8126, -3.8808, -4.0223, -3.5737,\n",
      "         -3.8645, -3.7058, -3.8328, -3.8028, -3.9410, -3.7901, -3.9759, -3.8500,\n",
      "         -3.8742, -3.7302, -3.7876, -3.8023, -3.7700, -3.8519, -4.0148, -3.7772,\n",
      "         -3.7691, -3.8855, -3.9164, -3.6124, -3.9310, -3.7684, -3.6718, -3.8710,\n",
      "         -3.6223, -3.8906, -3.9613, -3.8650, -3.9715, -3.9202],\n",
      "        [-3.8504, -3.8841, -3.7788, -3.9211, -3.6939, -3.9064, -3.7493, -3.9693,\n",
      "         -3.7015, -3.8809, -3.8674, -3.9048, -3.7490, -3.7277, -3.8675, -3.7455,\n",
      "         -3.9383, -3.6668, -3.8918, -3.8560, -3.8487, -3.7993, -3.9449, -3.6804,\n",
      "         -3.9280, -3.6825, -3.7911, -3.8851, -3.7931, -3.7362, -3.9647, -3.8292,\n",
      "         -3.6789, -3.8382, -3.9472, -3.6479, -3.8534, -3.8666, -3.7181, -3.7770,\n",
      "         -3.8441, -3.9366, -3.9642, -3.8619, -4.0623, -3.9069],\n",
      "        [-3.8501, -3.8242, -3.8424, -3.7989, -3.8178, -3.8998, -3.9172, -3.8957,\n",
      "         -3.7746, -3.9158, -3.9118, -3.8449, -3.9403, -3.7481, -3.9067, -3.7683,\n",
      "         -4.0483, -3.6615, -3.8094, -4.0026, -3.9237, -3.7659, -3.8629, -3.7227,\n",
      "         -3.8107, -3.7019, -3.7745, -3.9538, -3.8083, -3.8302, -3.9130, -3.7470,\n",
      "         -3.7386, -3.8642, -3.9202, -3.6599, -3.7070, -3.8633, -3.6738, -3.8078,\n",
      "         -3.8413, -3.8003, -3.7887, -3.8628, -3.9049, -3.8633],\n",
      "        [-3.8322, -3.8284, -3.7535, -3.8950, -3.7994, -3.8591, -3.8878, -3.8732,\n",
      "         -3.8367, -3.8939, -3.9140, -3.8177, -3.7740, -3.7191, -3.9175, -3.7832,\n",
      "         -3.9468, -3.6633, -3.7848, -4.0632, -3.8828, -3.8112, -3.7998, -3.7335,\n",
      "         -3.9090, -3.8751, -3.8469, -3.7203, -3.7433, -3.7604, -3.9764, -3.7915,\n",
      "         -3.7611, -3.8182, -3.9208, -3.6872, -3.9281, -3.7903, -3.7032, -3.8143,\n",
      "         -3.7670, -3.8030, -3.8406, -3.9185, -3.8826, -3.9434],\n",
      "        [-3.8131, -3.7247, -3.8156, -3.8086, -3.7586, -3.9078, -3.9450, -3.9267,\n",
      "         -3.7962, -3.9439, -3.9380, -3.8325, -3.7825, -3.6976, -3.8441, -3.7298,\n",
      "         -3.9258, -3.8511, -3.8882, -4.0257, -3.8380, -3.6923, -3.7692, -3.7748,\n",
      "         -3.9547, -3.9287, -3.8143, -3.7744, -3.7235, -3.7697, -3.8345, -3.8126,\n",
      "         -3.7632, -3.6657, -3.8980, -3.7295, -3.8548, -3.7639, -3.7618, -3.8196,\n",
      "         -3.8318, -3.8159, -3.8938, -3.8979, -3.8876, -4.0619],\n",
      "        [-3.8419, -3.8042, -3.8122, -3.8164, -3.6670, -3.9428, -3.8484, -3.9469,\n",
      "         -3.6638, -3.9661, -3.8716, -3.9276, -3.7622, -3.6603, -3.8239, -3.8261,\n",
      "         -4.0002, -3.7009, -3.9258, -3.9316, -3.8131, -3.7364, -3.8539, -3.5983,\n",
      "         -3.9577, -3.7630, -3.7923, -3.8972, -3.7936, -3.7143, -3.8812, -3.8513,\n",
      "         -3.7084, -3.7398, -3.9205, -3.6854, -3.8379, -3.8821, -3.8127, -3.7590,\n",
      "         -3.8779, -3.9244, -3.9294, -3.8850, -3.9922, -4.0019],\n",
      "        [-3.6311, -3.8385, -3.9329, -3.8833, -3.8576, -3.9007, -3.8858, -3.8097,\n",
      "         -3.9134, -3.7808, -3.8363, -3.9983, -3.8814, -3.8583, -3.9205, -3.8468,\n",
      "         -3.8881, -3.7490, -3.9470, -3.9525, -3.9655, -3.7822, -3.9501, -3.5671,\n",
      "         -3.7965, -3.8475, -3.7914, -3.7462, -3.7752, -3.8093, -3.9184, -3.8864,\n",
      "         -3.7575, -3.6442, -3.9896, -3.7970, -3.6775, -3.7405, -3.6180, -3.7512,\n",
      "         -3.8376, -4.1332, -3.9590, -3.7683, -3.7798, -3.7891],\n",
      "        [-3.8363, -3.7812, -3.9319, -3.9028, -3.8414, -3.8833, -3.8415, -3.9067,\n",
      "         -3.7400, -3.8939, -3.8907, -3.9816, -3.8549, -3.7979, -3.9607, -3.6713,\n",
      "         -3.8671, -3.8314, -3.8111, -3.9542, -3.9647, -3.8141, -3.8366, -3.6107,\n",
      "         -3.9848, -3.8828, -3.7220, -3.8424, -3.8330, -3.9635, -3.8811, -3.8230,\n",
      "         -3.8080, -3.7507, -3.9262, -3.6155, -3.6591, -3.7486, -3.6520, -3.8081,\n",
      "         -3.6581, -4.0359, -3.9421, -3.6913, -3.7293, -4.0234],\n",
      "        [-3.7688, -3.7299, -3.8840, -3.8040, -3.9525, -3.7613, -3.8045, -3.9471,\n",
      "         -3.7608, -3.9375, -3.7654, -3.9744, -3.8841, -3.7433, -3.8471, -3.7813,\n",
      "         -3.9021, -4.0210, -3.7653, -3.8819, -3.9880, -3.7115, -3.7680, -3.8119,\n",
      "         -3.9267, -3.9376, -3.6701, -3.8426, -3.7232, -4.0705, -3.7953, -3.8139,\n",
      "         -3.9069, -3.7095, -3.8896, -3.7099, -3.7081, -3.6362, -3.7933, -3.9546,\n",
      "         -3.5947, -3.9732, -3.9409, -3.6985, -3.8307, -4.0909],\n",
      "        [-3.6962, -3.7010, -3.8934, -3.7840, -4.0390, -3.7160, -3.8208, -3.9860,\n",
      "         -3.9178, -3.9026, -3.8462, -4.0406, -3.7618, -3.6919, -3.6989, -3.7879,\n",
      "         -3.8394, -3.9383, -3.8610, -3.9386, -4.0409, -3.7162, -3.7027, -3.7690,\n",
      "         -3.8105, -3.9020, -3.7836, -3.8094, -3.7872, -4.1216, -3.6884, -3.9324,\n",
      "         -3.8789, -3.7846, -4.0051, -3.8416, -3.5603, -3.6920, -3.7910, -3.9791,\n",
      "         -3.7508, -3.8901, -3.8657, -3.6237, -3.8494, -4.0216],\n",
      "        [-3.8001, -3.8082, -3.7598, -3.7825, -4.0515, -3.6602, -3.8190, -3.8721,\n",
      "         -3.9205, -3.7992, -3.7067, -3.9449, -3.7623, -3.8023, -3.7753, -3.8345,\n",
      "         -3.8097, -3.8583, -3.7425, -3.9787, -3.9605, -3.6987, -3.8439, -3.8432,\n",
      "         -3.8499, -3.8988, -3.7636, -3.8378, -3.6736, -3.9726, -3.8122, -3.8488,\n",
      "         -3.8462, -3.9081, -3.9325, -3.7587, -3.6338, -3.7399, -3.8263, -3.9263,\n",
      "         -3.6928, -3.9729, -3.8814, -3.8444, -3.8725, -3.9904],\n",
      "        [-3.8256, -3.7448, -3.9580, -3.8352, -3.9342, -3.7729, -3.8627, -3.9664,\n",
      "         -3.7283, -3.8272, -3.7838, -3.8430, -3.8242, -3.7683, -3.8470, -3.8034,\n",
      "         -3.8520, -3.9030, -3.7833, -3.7925, -3.9022, -3.6288, -3.9302, -3.8075,\n",
      "         -3.9332, -3.7537, -3.7204, -3.9129, -3.8020, -3.9230, -3.9173, -3.7811,\n",
      "         -3.8203, -3.7388, -3.8485, -3.7444, -3.6771, -3.7458, -3.7608, -3.8781,\n",
      "         -3.7698, -3.9506, -3.9051, -3.9091, -3.8433, -4.0144],\n",
      "        [-3.8519, -3.6864, -4.0157, -3.8827, -3.8970, -3.8597, -3.8880, -3.8377,\n",
      "         -3.6996, -3.8876, -3.8054, -3.8816, -3.8749, -3.7891, -4.0133, -3.8149,\n",
      "         -3.8170, -3.8710, -3.7954, -3.7665, -3.9513, -3.6597, -3.8636, -3.8299,\n",
      "         -3.9382, -3.7415, -3.7809, -3.9145, -3.7551, -3.8778, -3.9034, -3.7204,\n",
      "         -3.8565, -3.7363, -3.9015, -3.7410, -3.6630, -3.6671, -3.6519, -3.7623,\n",
      "         -3.7455, -3.9343, -3.9909, -3.9027, -3.8470, -4.0728],\n",
      "        [-3.7143, -3.6961, -4.0034, -3.8011, -3.9512, -3.8062, -3.9307, -3.8484,\n",
      "         -3.8209, -3.8448, -3.8549, -3.9313, -3.9197, -3.9060, -3.9926, -3.7420,\n",
      "         -3.8423, -3.9032, -3.8932, -3.6267, -3.9951, -3.6413, -3.8515, -3.7639,\n",
      "         -3.8244, -3.8191, -3.8638, -3.8526, -3.8777, -3.8705, -3.8760, -3.7742,\n",
      "         -3.7976, -3.6927, -3.9308, -3.7909, -3.6548, -3.5701, -3.7317, -3.8382,\n",
      "         -3.7297, -4.0615, -3.9557, -3.7863, -3.8632, -3.9323],\n",
      "        [-3.6744, -3.7242, -3.9738, -3.8304, -3.9917, -3.8744, -3.8241, -3.8086,\n",
      "         -3.8511, -3.7816, -3.8690, -3.8721, -3.8438, -3.9470, -3.9796, -3.7544,\n",
      "         -3.9238, -3.9352, -3.8796, -3.6388, -4.0620, -3.6035, -3.7968, -3.8350,\n",
      "         -3.7927, -3.8991, -3.8353, -3.7719, -3.8604, -3.9109, -3.9297, -3.7450,\n",
      "         -3.7435, -3.5857, -3.9530, -3.9048, -3.7225, -3.6227, -3.6924, -3.9819,\n",
      "         -3.6938, -4.0412, -3.9132, -3.7039, -3.8901, -3.9638],\n",
      "        [-3.6579, -3.7986, -3.9498, -3.9357, -3.9530, -3.9013, -3.8232, -3.9363,\n",
      "         -3.8291, -3.7451, -3.7919, -3.9595, -3.8030, -3.9130, -3.9200, -3.8665,\n",
      "         -3.8388, -3.7733, -3.8411, -3.7965, -4.0141, -3.6753, -3.8839, -3.7608,\n",
      "         -3.6664, -3.8728, -3.7806, -3.7848, -3.7865, -3.8912, -3.9440, -3.7182,\n",
      "         -3.8891, -3.6726, -4.0333, -3.8999, -3.6359, -3.6834, -3.7025, -3.8858,\n",
      "         -3.7709, -4.0288, -3.8799, -3.7496, -3.7820, -3.9327],\n",
      "        [-3.7155, -3.7435, -3.9619, -3.9987, -3.9070, -3.8700, -3.9007, -3.9880,\n",
      "         -3.6799, -3.7557, -3.6651, -3.8972, -3.7989, -3.8133, -3.8198, -3.7877,\n",
      "         -3.8181, -3.7148, -3.8747, -3.9620, -4.0405, -3.7778, -3.8165, -3.6635,\n",
      "         -3.6856, -3.8385, -3.8167, -3.7672, -3.8771, -3.9336, -3.9275, -3.8047,\n",
      "         -3.8376, -3.9146, -3.9831, -3.8224, -3.7962, -3.7561, -3.7344, -3.9024,\n"
     ]
    },
    {
     "name": "stdout",
     "output_type": "stream",
     "text": [
      "         -3.7997, -3.9197, -3.8640, -3.7612, -3.7434, -3.8587]])\n"
     ]
    }
   ],
   "source": [
    "model = LSTMTagger(EMBEDDING_DIM, HIDDEN_DIM, len(word_to_ix), len(tag_to_ix))\n",
    "loss_function = nn.NLLLoss()\n",
    "optimizer = optim.SGD(model.parameters(), lr=0.1)\n",
    "\n",
    "# See what the scores are before training\n",
    "# Note that element i,j of the output is the score for tag j for word i.\n",
    "# Here we don't need to train, so the code is wrapped in torch.no_grad()\n",
    "with torch.no_grad():\n",
    "    inputs = prepare_sequence(data[0][0], word_to_ix)\n",
    "    tag_scores = model(inputs)\n",
    "    print(tag_scores)\n",
    "\n",
    "for epoch in range(300):  # again, normally you would NOT do 300 epochs, it is toy data\n",
    "    for sentence, tags in data:\n",
    "        # Step 1. Remember that Pytorch accumulates gradients.\n",
    "        # We need to clear them out before each instance\n",
    "        model.zero_grad()\n",
    "\n",
    "        # Step 2. Get our inputs ready for the network, that is, turn them into\n",
    "        # Tensors of word indices.\n",
    "        sentence_in = prepare_sequence(sentence, word_to_ix)\n",
    "        targets = prepare_sequence(tags, tag_to_ix)\n",
    "\n",
    "        # Step 3. Run our forward pass.\n",
    "        tag_scores = model(sentence_in)\n",
    "\n",
    "        # Step 4. Compute the loss, gradients, and update the parameters by\n",
    "        #  calling optimizer.step()\n",
    "        loss = loss_function(tag_scores, targets)\n",
    "        loss.backward()\n",
    "        optimizer.step()\n",
    "\n",
    "# See what the scores are after training\n",
    "with torch.no_grad():\n",
    "    inputs = prepare_sequence(training_data[0][0], word_to_ix)\n",
    "    tag_scores = model(inputs)\n",
    "\n",
    "    # The sentence is \"the dog ate the apple\".  i,j corresponds to score for tag j\n",
    "    # for word i. The predicted tag is the maximum scoring tag.\n",
    "    # Here, we can see the predicted sequence below is 0 1 2 0 1\n",
    "    # since 0 is index of the maximum value of row 1,\n",
    "    # 1 is the index of maximum value of row 2, etc.\n",
    "    # Which is DET NOUN VERB DET NOUN, the correct sequence!\n",
    "    print(tag_scores)"
   ]
  },
  {
   "cell_type": "code",
   "execution_count": null,
   "metadata": {},
   "outputs": [],
   "source": []
  }
 ],
 "metadata": {
  "kernelspec": {
   "display_name": "Python 3",
   "language": "python",
   "name": "python3"
  },
  "language_info": {
   "codemirror_mode": {
    "name": "ipython",
    "version": 3
   },
   "file_extension": ".py",
   "mimetype": "text/x-python",
   "name": "python",
   "nbconvert_exporter": "python",
   "pygments_lexer": "ipython3",
   "version": "3.7.4"
  }
 },
 "nbformat": 4,
 "nbformat_minor": 1
}
