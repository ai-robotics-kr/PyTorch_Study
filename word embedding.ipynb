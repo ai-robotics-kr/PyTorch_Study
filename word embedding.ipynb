{
 "cells": [
  {
   "cell_type": "code",
   "execution_count": 1,
   "metadata": {
    "colab": {},
    "colab_type": "code",
    "id": "YPOF5QjicVVl"
   },
   "outputs": [],
   "source": [
    "import torch\n",
    "import torch.nn as nn\n",
    "import torch.nn.functional as F\n",
    "import torch.optim as optim\n",
    "import numpy as np"
   ]
  },
  {
   "cell_type": "markdown",
   "metadata": {
    "colab_type": "text",
    "id": "NogYTUcTsTSs"
   },
   "source": [
    "## N-Gram Language Modeling"
   ]
  },
  {
   "cell_type": "code",
   "execution_count": 2,
   "metadata": {
    "colab": {},
    "colab_type": "code",
    "id": "TmSHeOnRccsl"
   },
   "outputs": [],
   "source": [
    "CONTEXT_SIZE = 2\n",
    "EMBEDDING_DIM = 10\n",
    "# We will use Shakespeare Sonnet 2\n",
    "test_sentence = \"\"\"When forty winters shall besiege thy brow,\n",
    "And dig deep trenches in thy beauty's field,\n",
    "Thy youth's proud livery so gazed on now,\n",
    "Will be a totter'd weed of small worth held:\n",
    "Then being asked, where all thy beauty lies,\n",
    "Where all the treasure of thy lusty days;\n",
    "To say, within thine own deep sunken eyes,\n",
    "Were an all-eating shame, and thriftless praise.\n",
    "How much more praise deserv'd thy beauty's use,\n",
    "If thou couldst answer 'This fair child of mine\n",
    "Shall sum my count, and make my old excuse,'\n",
    "Proving his beauty by succession thine!\n",
    "This were to be new made when thou art old,\n",
    "And see thy blood warm when thou feel'st it cold.\"\"\".split()"
   ]
  },
  {
   "cell_type": "markdown",
   "metadata": {
    "colab_type": "text",
    "id": "p3Y1mhVIsjqt"
   },
   "source": [
    "##  Computing Word Embeddings: Continuous Bag-of-Words"
   ]
  },
  {
   "cell_type": "code",
   "execution_count": 3,
   "metadata": {
    "colab": {},
    "colab_type": "code",
    "id": "KHclrYRHsoNX"
   },
   "outputs": [],
   "source": [
    "CONTEXT_SIZE = 2  # 2 words to the left, 2 to the right\n",
    "EMBEDDING_DIM = 10\n",
    "raw_text = \"\"\"We are about to study the idea of a computational process.\n",
    "Computational processes are abstract beings that inhabit computers.\n",
    "As they evolve, processes manipulate other abstract things called data.\n",
    "The evolution of a process is directed by a pattern of rules\n",
    "called a program. People create programs to direct processes. In effect,\n",
    "we conjure the spirits of the computer with our spells.\"\"\".split()\n",
    "\n",
    "# By deriving a set from `raw_text`, we deduplicate the array\n",
    "vocab = set(raw_text)\n",
    "vocab_size = len(vocab)"
   ]
  },
  {
   "cell_type": "code",
   "execution_count": 4,
   "metadata": {
    "colab": {
     "base_uri": "https://localhost:8080/",
     "height": 35
    },
    "colab_type": "code",
    "executionInfo": {
     "elapsed": 1212,
     "status": "ok",
     "timestamp": 1565661622960,
     "user": {
      "displayName": "Inhwan Lee",
      "photoUrl": "https://lh5.googleusercontent.com/-5lUmIvfg1FQ/AAAAAAAAAAI/AAAAAAAAB20/zcaOdBSgGnE/s64/photo.jpg",
      "userId": "00207258631190759901"
     },
     "user_tz": -540
    },
    "id": "C2ZFl8tntEwh",
    "outputId": "9ea5f60d-ec1e-4eed-a1df-405edaeda144"
   },
   "outputs": [
    {
     "data": {
      "text/plain": [
       "49"
      ]
     },
     "execution_count": 4,
     "metadata": {},
     "output_type": "execute_result"
    }
   ],
   "source": [
    "vocab_size"
   ]
  },
  {
   "cell_type": "code",
   "execution_count": 5,
   "metadata": {
    "colab": {
     "base_uri": "https://localhost:8080/",
     "height": 35
    },
    "colab_type": "code",
    "executionInfo": {
     "elapsed": 1480,
     "status": "ok",
     "timestamp": 1565670878344,
     "user": {
      "displayName": "Inhwan Lee",
      "photoUrl": "https://lh5.googleusercontent.com/-5lUmIvfg1FQ/AAAAAAAAAAI/AAAAAAAAB20/zcaOdBSgGnE/s64/photo.jpg",
      "userId": "00207258631190759901"
     },
     "user_tz": -540
    },
    "id": "eTWwCGG-tDAA",
    "outputId": "1b84c32f-2b67-40a0-f4ba-40fea15361cf"
   },
   "outputs": [
    {
     "name": "stdout",
     "output_type": "stream",
     "text": [
      "[(['We', 'are', 'to', 'study'], 'about'), (['are', 'about', 'study', 'the'], 'to'), (['about', 'to', 'the', 'idea'], 'study'), (['to', 'study', 'idea', 'of'], 'the'), (['study', 'the', 'of', 'a'], 'idea')]\n"
     ]
    }
   ],
   "source": [
    "word_to_ix = {word: i for i, word in enumerate(vocab)}\n",
    "\n",
    "data = []\n",
    "for i in range(2, len(raw_text) - 2):\n",
    "    context = [raw_text[i - 2], raw_text[i - 1],\n",
    "               raw_text[i + 1], raw_text[i + 2]]\n",
    "    target = raw_text[i]\n",
    "    data.append((context, target))\n",
    "print(data[:5])"
   ]
  },
  {
   "cell_type": "code",
   "execution_count": 6,
   "metadata": {
    "colab": {
     "base_uri": "https://localhost:8080/",
     "height": 35
    },
    "colab_type": "code",
    "executionInfo": {
     "elapsed": 746,
     "status": "ok",
     "timestamp": 1565693256996,
     "user": {
      "displayName": "Inhwan Lee",
      "photoUrl": "https://lh5.googleusercontent.com/-5lUmIvfg1FQ/AAAAAAAAAAI/AAAAAAAAB20/zcaOdBSgGnE/s64/photo.jpg",
      "userId": "00207258631190759901"
     },
     "user_tz": -540
    },
    "id": "PSr89xTEtMAf",
    "outputId": "97fcff7f-a307-4bb2-dcb3-5f7b184d7c34"
   },
   "outputs": [
    {
     "data": {
      "text/plain": [
       "tensor([39, 32, 21, 22])"
      ]
     },
     "execution_count": 6,
     "metadata": {},
     "output_type": "execute_result"
    }
   ],
   "source": [
    "def make_context_vector(context, word_to_ix):\n",
    "    idxs = [word_to_ix[w] for w in context]\n",
    "    return torch.tensor(idxs, dtype=torch.long)\n",
    "\n",
    "\n",
    "make_context_vector(data[0][0], word_to_ix)  # example"
   ]
  },
  {
   "cell_type": "code",
   "execution_count": 7,
   "metadata": {
    "colab": {},
    "colab_type": "code",
    "id": "YMo7ZzTEtOd2"
   },
   "outputs": [],
   "source": [
    "class CBOW(nn.Module):\n",
    "\n",
    "    def __init__(self, vocab_size, EMBEDDING_DIM):\n",
    "        super(CBOW, self).__init__()\n",
    "        self.embedding = nn.Embedding(vocab_size, EMBEDDING_DIM)\n",
    "        self.linear1 = nn.Linear(EMBEDDING_DIM, 128)\n",
    "        self.linear2 = nn.Linear(128, vocab_size)\n",
    "\n",
    "    def forward(self, inputs):\n",
    "        emds = sum(self.embedding(inputs)).view(1,-1)\n",
    "        s = F.relu(self.linear1(emds))\n",
    "        s = self.linear2(s)\n",
    "        s = F.log_softmax(s, dim=1)\n",
    "        return s\n",
    "      \n"
   ]
  },
  {
   "cell_type": "code",
   "execution_count": 8,
   "metadata": {
    "colab": {},
    "colab_type": "code",
    "id": "LII1oJfyuqGd"
   },
   "outputs": [],
   "source": [
    "cbow = CBOW(vocab_size, EMBEDDING_DIM)"
   ]
  },
  {
   "cell_type": "code",
   "execution_count": 10,
   "metadata": {},
   "outputs": [
    {
     "name": "stdout",
     "output_type": "stream",
     "text": [
      "('embedding.weight', Parameter containing:\n",
      "tensor([[-5.2978e-01,  1.1351e+00, -2.4524e-01,  7.9533e-01, -2.2230e+00,\n",
      "         -1.1651e-01,  4.7438e-02, -1.5967e+00, -2.4181e+00,  7.6445e-01],\n",
      "        [ 8.0843e-01, -7.6486e-01, -1.1174e+00, -1.0131e+00, -6.4657e-01,\n",
      "         -1.0343e+00, -4.2202e-02,  9.9513e-01,  1.7726e+00,  1.4099e+00],\n",
      "        [-8.5634e-01, -1.3563e+00, -7.5221e-01,  2.0607e-01, -5.6768e-01,\n",
      "         -1.5189e+00, -1.1806e+00,  4.8861e-01, -2.1318e+00,  1.2338e+00],\n",
      "        [-7.8642e-01, -2.6068e+00,  7.7416e-01,  6.9042e-01, -2.0834e-01,\n",
      "          1.2575e+00,  5.0757e-01,  8.5908e-01,  6.0371e-01,  4.6025e-01],\n",
      "        [-2.8015e-01, -1.1100e+00,  3.4014e-01,  1.1939e-01, -5.7067e-01,\n",
      "         -7.2199e-01, -1.4383e+00, -5.8602e-01,  1.1877e+00,  7.9714e-02],\n",
      "        [ 1.7073e+00,  2.5831e-01,  3.9052e-01, -1.0331e+00, -1.4026e+00,\n",
      "         -2.9222e-01, -1.1057e+00, -1.9099e-01,  1.2819e+00, -1.0244e+00],\n",
      "        [-1.8564e+00, -1.1295e-01,  5.9316e-01,  6.3053e-01, -2.8738e-01,\n",
      "         -9.0388e-02, -4.8988e-01,  3.7564e-01,  1.0331e+00,  7.3034e-01],\n",
      "        [-1.6293e-01,  1.2039e+00,  7.3496e-01,  1.0570e+00,  6.4521e-01,\n",
      "         -1.6527e+00, -6.3199e-01,  1.1048e+00, -2.8374e-01, -1.2253e+00],\n",
      "        [-2.3003e-01, -7.2184e-01, -7.8466e-01,  1.8182e-01,  7.5276e-01,\n",
      "         -1.2897e-02,  1.6709e+00, -1.2174e-01,  6.7162e-01,  6.3862e-02],\n",
      "        [-1.2467e+00, -9.2752e-01,  2.9786e-01,  4.6693e-01,  4.8889e-01,\n",
      "         -8.6371e-01,  3.7411e-01,  3.1491e-01, -7.8590e-01, -6.0593e-01],\n",
      "        [-1.3669e+00,  7.6758e-01, -1.0561e-01, -2.3099e-01, -1.0412e-01,\n",
      "         -8.9984e-01, -2.5743e+00,  5.1499e-01, -1.5187e+00,  9.2154e-01],\n",
      "        [ 1.7393e+00,  5.9024e-02, -1.0990e-01, -1.8213e-01,  2.0230e+00,\n",
      "          1.9645e-01,  3.6862e-01, -9.5865e-01, -7.5566e-01,  1.4548e-01],\n",
      "        [-2.0851e-01, -6.3769e-01,  8.1107e-02, -1.5583e+00, -1.5027e+00,\n",
      "          3.2835e-01,  9.9183e-01,  1.2617e+00,  2.2102e+00,  6.7387e-01],\n",
      "        [-1.1277e+00,  9.5999e-01,  1.1086e+00, -4.0186e-01,  1.5744e+00,\n",
      "          1.6188e-01,  3.4120e-03, -5.5083e-01, -2.1666e+00, -2.0242e+00],\n",
      "        [-3.2009e-01,  4.6687e-01, -5.6118e-01, -3.4756e-01,  1.5237e+00,\n",
      "          5.2068e-01, -3.3931e-01,  2.7130e-01, -1.7393e+00,  5.4807e-01],\n",
      "        [ 8.0165e-01, -1.1214e-01,  1.0384e+00, -1.0260e+00, -1.3594e+00,\n",
      "         -9.2994e-01, -8.4830e-01, -1.4331e-01, -5.6859e-02, -3.2389e-01],\n",
      "        [ 6.3210e-01,  8.6102e-01, -1.4588e+00,  1.6699e+00,  8.6915e-01,\n",
      "         -9.4297e-01,  1.4768e+00,  1.3667e+00, -1.3915e+00,  3.3268e-01],\n",
      "        [-3.2104e-01, -6.7822e-01,  5.2494e-01, -3.4295e-01, -2.3953e+00,\n",
      "          2.9673e+00,  3.5394e-01,  2.5696e-01, -1.4653e+00,  2.4467e-01],\n",
      "        [-6.0974e-01, -9.5873e-01, -1.2017e+00,  2.4415e-01, -5.7490e-01,\n",
      "          3.8435e-01,  1.2477e+00,  1.0539e+00,  6.6077e-01,  3.7445e-01],\n",
      "        [-2.5267e-01, -7.6615e-01, -6.2810e-01,  8.0851e-01, -7.7332e-01,\n",
      "         -6.9019e-01,  1.9872e+00, -7.5927e-01, -3.6893e-01, -9.5783e-02],\n",
      "        [ 1.1267e+00, -1.2968e+00,  4.3545e-01, -3.4582e-01,  6.0191e-01,\n",
      "         -1.0287e-01,  2.1614e-01,  1.1905e+00, -5.2727e-01,  9.2825e-01],\n",
      "        [ 1.2703e+00,  7.0185e-01,  1.2574e+00,  8.8654e-01, -8.1398e-01,\n",
      "          7.4286e-01,  1.7368e+00, -1.9067e+00, -7.5521e-01, -7.7145e-01],\n",
      "        [ 3.7269e-01,  1.9271e-01, -1.5334e+00,  1.7021e+00, -7.1593e-01,\n",
      "          5.6553e-01,  1.3266e-01,  1.1501e+00,  6.8371e-01, -8.4564e-01],\n",
      "        [-2.5555e+00,  1.2543e+00, -1.9835e+00,  1.3413e-01, -5.9984e-01,\n",
      "          3.6718e-01,  1.2097e-01, -1.3276e-01, -1.6621e-01, -6.6939e-01],\n",
      "        [-1.2628e+00,  6.8370e-01,  1.3301e+00,  1.5742e+00,  6.9690e-01,\n",
      "         -4.5247e-01,  3.4510e-01,  1.6173e+00,  4.1495e-01,  1.3925e+00],\n",
      "        [-1.6746e+00, -3.6098e-01,  7.1491e-01, -7.7687e-01,  2.1360e+00,\n",
      "          4.2919e-01,  9.4859e-03,  1.0273e+00, -7.0479e-01,  1.9181e-01],\n",
      "        [-1.5998e+00, -4.4068e-01,  1.3798e+00,  7.7194e-01,  5.5057e-02,\n",
      "          1.5902e+00,  2.8618e-01, -1.7270e-01, -6.7636e-01,  5.6391e-01],\n",
      "        [ 1.0536e+00,  8.4840e-01, -9.5841e-02,  3.9474e-01, -2.7462e-02,\n",
      "          9.1154e-01,  3.6925e-01,  1.6238e+00,  1.5702e+00, -1.0322e+00],\n",
      "        [ 1.5453e-01,  1.0969e+00, -1.9732e+00, -1.4091e+00, -5.7797e-01,\n",
      "          1.8155e+00,  1.0271e+00, -1.5269e+00, -2.9698e-01, -1.2826e+00],\n",
      "        [-1.0281e+00, -7.1570e-01, -1.1453e+00,  1.3112e+00,  1.2209e+00,\n",
      "          1.2049e+00,  6.3986e-01,  4.4686e-01,  6.7020e-01, -8.0357e-01],\n",
      "        [-9.6299e-01,  1.0251e-01,  8.8938e-01, -4.8416e-01, -1.1088e+00,\n",
      "         -1.0536e+00, -7.2226e-01,  8.3223e-01,  1.5355e-01,  5.7132e-01],\n",
      "        [-1.4949e+00, -2.7025e-02,  8.9574e-01, -3.0618e-01,  5.1022e-01,\n",
      "          2.2654e-02,  3.2227e-01, -1.1633e-01,  4.8484e-01, -1.5095e+00],\n",
      "        [ 1.7076e+00,  2.4996e-01, -5.8449e-01,  7.7237e-01, -9.2482e-01,\n",
      "         -6.7542e-01, -3.0433e-01, -9.0014e-02, -1.0200e+00, -9.5257e-01],\n",
      "        [-4.4247e-01, -1.7666e+00, -1.8563e+00,  6.7118e-02,  9.8283e-01,\n",
      "         -3.3425e-01, -1.3615e+00,  6.6702e-01,  4.8640e-01,  1.0882e+00],\n",
      "        [ 5.2205e-01, -5.3525e-01,  3.6808e-01, -9.2837e-02,  2.6119e-01,\n",
      "          7.5991e-02, -5.2391e-02, -1.1142e+00, -3.7018e-01,  5.4517e-01],\n",
      "        [-2.0343e+00,  1.3050e+00,  1.3463e-01, -1.1769e+00,  1.1179e+00,\n",
      "         -9.0279e-02, -1.8116e-01,  3.6265e-01, -1.4259e+00,  2.2902e-01],\n",
      "        [ 6.7272e-01, -7.9969e-01, -7.0021e-01,  4.8843e-01, -1.2561e+00,\n",
      "          2.1988e-01,  9.4792e-01, -1.0520e+00,  4.7704e-01,  1.3130e+00],\n",
      "        [-2.1802e-01,  8.1110e-01, -1.6190e+00, -1.2563e+00,  9.6182e-01,\n",
      "          1.7478e-01, -8.4630e-01,  7.4758e-01, -1.1346e+00,  5.9498e-01],\n",
      "        [ 2.5666e+00,  2.3797e+00,  2.2961e-01, -6.7711e-02,  6.8546e-02,\n",
      "          1.3431e+00, -6.4901e-01, -2.0550e+00,  1.0231e+00,  1.0239e-01],\n",
      "        [-2.1140e-01, -1.9866e+00,  7.7297e-01,  2.1490e-01, -1.2571e+00,\n",
      "          1.0995e+00,  1.2005e+00,  6.2874e-01, -5.3679e-01,  1.4542e+00],\n",
      "        [ 1.9648e+00,  1.4555e-01, -6.9593e-01,  7.3329e-01,  8.0355e-01,\n",
      "          4.9025e-01,  1.0453e+00, -1.0314e+00, -1.6336e-03, -3.2141e-01],\n",
      "        [ 4.3869e-01,  9.8909e-01, -1.7944e-01, -7.7763e-01,  1.5901e+00,\n",
      "         -1.0738e+00, -2.5633e-01, -2.1256e-01, -2.4467e-01,  2.3860e+00],\n",
      "        [-4.3998e-01, -7.7589e-01, -2.4350e-01, -1.7514e-01,  1.1747e-01,\n",
      "          6.7541e-01, -3.3724e-01, -1.6032e+00,  4.3360e-01, -8.2542e-01],\n",
      "        [-7.2964e-01, -8.7930e-01, -1.0074e+00, -1.1756e+00, -8.9936e-01,\n",
      "          5.3515e-01, -2.4600e+00,  5.3768e-01, -2.7122e-02,  7.4874e-01],\n",
      "        [ 2.0398e+00,  3.6986e-01, -8.4614e-01, -3.5294e-01, -7.4363e-01,\n",
      "         -6.0060e-01,  1.6173e+00,  3.8515e-01, -5.3983e-01, -7.4287e-01],\n",
      "        [ 5.1696e-01, -1.3926e+00, -6.1740e-01,  1.3256e+00, -1.1675e-01,\n",
      "          1.0455e+00, -1.0559e+00, -1.7078e+00, -3.0789e-01,  1.0913e+00],\n",
      "        [ 7.2845e-02,  1.5713e+00, -4.3437e-02, -1.0969e-01, -1.5074e-01,\n",
      "          1.8222e+00, -1.6390e+00,  7.3564e-01, -7.8549e-01, -2.2327e+00],\n",
      "        [ 6.4214e-01, -2.1636e-01, -1.5742e-01, -1.0747e+00,  1.5419e+00,\n",
      "          6.0645e-01,  4.4809e-01,  1.1504e-01,  7.5492e-01, -2.5176e-01],\n",
      "        [ 1.6485e+00, -1.9098e-01, -6.3046e-01,  7.8156e-01,  6.4139e-01,\n",
      "          1.5946e-01, -1.4744e+00, -8.5240e-02,  1.7510e+00,  8.9301e-01]],\n",
      "       requires_grad=True))\n",
      "('linear1.weight', Parameter containing:\n",
      "tensor([[-0.1039,  0.0829, -0.3134,  ..., -0.2593,  0.2740,  0.2792],\n",
      "        [ 0.2772,  0.1574,  0.0454,  ..., -0.1583, -0.2862, -0.2424],\n",
      "        [ 0.2294, -0.0842, -0.2504,  ..., -0.2111, -0.1382, -0.2130],\n",
      "        ...,\n",
      "        [-0.1370, -0.1455, -0.1802,  ..., -0.0460, -0.2456,  0.0940],\n",
      "        [ 0.3073, -0.2819,  0.2759,  ..., -0.1137,  0.2540,  0.3009],\n",
      "        [ 0.2464,  0.2528,  0.2125,  ..., -0.1338,  0.1067, -0.0875]],\n",
      "       requires_grad=True))\n",
      "('linear1.bias', Parameter containing:\n",
      "tensor([-0.1310,  0.2912,  0.2659, -0.2214,  0.1366, -0.2464,  0.2744,  0.0948,\n",
      "        -0.2844, -0.0974,  0.2007, -0.2286,  0.0025, -0.0195,  0.0978, -0.0138,\n",
      "         0.1394, -0.1842, -0.2182, -0.1847,  0.1314, -0.2285,  0.2839, -0.2292,\n",
      "         0.2230,  0.0620, -0.2055,  0.0354,  0.2058,  0.0855, -0.2956, -0.1172,\n",
      "         0.0714, -0.1527,  0.1828, -0.2125,  0.1559, -0.1492,  0.0019,  0.2089,\n",
      "        -0.2310, -0.2235, -0.2721, -0.2150, -0.1148, -0.1777, -0.0371, -0.2145,\n",
      "         0.1148, -0.2857,  0.2726,  0.1808,  0.1078, -0.1969, -0.3123, -0.2615,\n",
      "        -0.0836,  0.3058, -0.1802,  0.0824,  0.1932,  0.2259, -0.1051, -0.2702,\n",
      "        -0.0940,  0.2281,  0.0324,  0.1697, -0.0730, -0.2301, -0.1599,  0.3155,\n",
      "         0.1202,  0.1639, -0.0367, -0.1681,  0.0263, -0.3128, -0.1927, -0.0401,\n",
      "         0.2627, -0.1674, -0.2932, -0.2056, -0.0876,  0.1723,  0.0253, -0.2968,\n",
      "         0.2215,  0.1146, -0.0013, -0.1409,  0.2952,  0.0254,  0.2030,  0.1660,\n",
      "         0.3074,  0.1492,  0.2717, -0.0060, -0.0392,  0.1592,  0.2457, -0.2577,\n",
      "        -0.0564,  0.1978, -0.0501,  0.2914, -0.2407,  0.2603,  0.1064,  0.1587,\n",
      "         0.2030,  0.0784,  0.1806, -0.3057,  0.2399, -0.2300,  0.1115, -0.0884,\n",
      "         0.0328, -0.1053, -0.0091,  0.2290, -0.3045, -0.1531, -0.0026, -0.0680],\n"
     ]
    },
    {
     "name": "stdout",
     "output_type": "stream",
     "text": [
      "       requires_grad=True))\n",
      "('linear2.weight', Parameter containing:\n",
      "tensor([[ 0.0742, -0.0266, -0.0772,  ..., -0.0788, -0.0327,  0.0759],\n",
      "        [ 0.0319,  0.0573, -0.0593,  ..., -0.0795,  0.0441, -0.0140],\n",
      "        [ 0.0113,  0.0784, -0.0204,  ...,  0.0284,  0.0036,  0.0426],\n",
      "        ...,\n",
      "        [ 0.0083, -0.0264,  0.0080,  ..., -0.0701, -0.0015,  0.0704],\n",
      "        [-0.0316, -0.0873, -0.0367,  ..., -0.0287,  0.0823,  0.0747],\n",
      "        [-0.0277, -0.0856,  0.0259,  ...,  0.0572, -0.0100, -0.0161]],\n",
      "       requires_grad=True))\n",
      "('linear2.bias', Parameter containing:\n",
      "tensor([-0.0392, -0.0751,  0.0419,  0.0854, -0.0515,  0.0586,  0.0208, -0.0625,\n",
      "         0.0690,  0.0415,  0.0850,  0.0655,  0.0835, -0.0353, -0.0696,  0.0562,\n",
      "         0.0590, -0.0419,  0.0139, -0.0100,  0.0506,  0.0840,  0.0496,  0.0262,\n",
      "        -0.0031,  0.0754, -0.0769, -0.0879,  0.0067,  0.0460, -0.0424, -0.0641,\n",
      "         0.0489,  0.0445,  0.0521,  0.0697,  0.0075,  0.0626, -0.0630,  0.0597,\n",
      "         0.0321, -0.0253,  0.0706, -0.0311, -0.0643, -0.0877, -0.0061, -0.0072,\n",
      "        -0.0457], requires_grad=True))\n"
     ]
    }
   ],
   "source": [
    "for data in cbow.named_parameters():\n",
    "    print(data)"
   ]
  },
  {
   "cell_type": "code",
   "execution_count": 11,
   "metadata": {},
   "outputs": [
    {
     "name": "stdout",
     "output_type": "stream",
     "text": [
      "CBOW(\n",
      "  (embedding): Embedding(49, 10)\n",
      "  (linear1): Linear(in_features=10, out_features=128, bias=True)\n",
      "  (linear2): Linear(in_features=128, out_features=49, bias=True)\n",
      ")\n"
     ]
    }
   ],
   "source": [
    "print(cbow)"
   ]
  },
  {
   "cell_type": "code",
   "execution_count": 0,
   "metadata": {
    "colab": {
     "base_uri": "https://localhost:8080/",
     "height": 53
    },
    "colab_type": "code",
    "executionInfo": {
     "elapsed": 726,
     "status": "ok",
     "timestamp": 1565693283898,
     "user": {
      "displayName": "Inhwan Lee",
      "photoUrl": "https://lh5.googleusercontent.com/-5lUmIvfg1FQ/AAAAAAAAAAI/AAAAAAAAB20/zcaOdBSgGnE/s64/photo.jpg",
      "userId": "00207258631190759901"
     },
     "user_tz": -540
    },
    "id": "kegyE30EvhFG",
    "outputId": "6432eac9-2192-4eeb-8706-99a4ed79b63b"
   },
   "outputs": [
    {
     "data": {
      "text/plain": [
       "tensor([[-7.7864, -8.3739, -7.6078,  ..., -9.3686, -9.0006, -7.5176]],\n",
       "       grad_fn=<LogSoftmaxBackward>)"
      ]
     },
     "execution_count": 42,
     "metadata": {
      "tags": []
     },
     "output_type": "execute_result"
    }
   ],
   "source": [
    "dd = make_context_vector(data[0][0], word_to_ix)\n",
    "cbow(dd)"
   ]
  },
  {
   "cell_type": "code",
   "execution_count": 0,
   "metadata": {
    "colab": {},
    "colab_type": "code",
    "id": "6FSh5DTawICC"
   },
   "outputs": [],
   "source": [
    "loss_function = nn.NLLLoss()\n",
    "losses = []\n",
    "optimizer = optim.SGD(cbow.parameters(), lr=0.001)\n"
   ]
  },
  {
   "cell_type": "code",
   "execution_count": 0,
   "metadata": {
    "colab": {
     "base_uri": "https://localhost:8080/",
     "height": 35
    },
    "colab_type": "code",
    "executionInfo": {
     "elapsed": 1060,
     "status": "ok",
     "timestamp": 1565671333349,
     "user": {
      "displayName": "Inhwan Lee",
      "photoUrl": "https://lh5.googleusercontent.com/-5lUmIvfg1FQ/AAAAAAAAAAI/AAAAAAAAB20/zcaOdBSgGnE/s64/photo.jpg",
      "userId": "00207258631190759901"
     },
     "user_tz": -540
    },
    "id": "e50NXA1GxMKg",
    "outputId": "8b41423e-2454-40fc-d9fc-a7c1d6585ae0"
   },
   "outputs": [
    {
     "name": "stdout",
     "output_type": "stream",
     "text": [
      "[236.96849083900452, 232.15155029296875, 227.5432116985321, 223.12705445289612, 218.8896839618683]\n"
     ]
    }
   ],
   "source": [
    "for epoch in range(5):\n",
    "  \n",
    "  tot_loss = 0\n",
    "  for context, target in data:\n",
    "    # context words를 벡터화\n",
    "    input = make_context_vector(context, word_to_ix)\n",
    "    \n",
    "    # 옵티마이저 그레디언트 0 변경\n",
    "    optimizer.zero_grad()\n",
    "    \n",
    "    # 결과값\n",
    "    output = cbow(input)\n",
    "    \n",
    "    # loss 계산\n",
    "    loss = loss_function(output, torch.tensor([word_to_ix[target]], dtype=torch.long))\n",
    "    \n",
    "    # 역전파\n",
    "    loss.backward()\n",
    "    optimizer.step()\n",
    "    \n",
    "    \n",
    "    # Loss 합산\n",
    "    tot_loss += loss.item()\n",
    "    \n",
    "    \n",
    "  losses.append(tot_loss)\n",
    "  \n",
    "print(losses)\n",
    "                         \n",
    "                         "
   ]
  },
  {
   "cell_type": "code",
   "execution_count": 0,
   "metadata": {
    "colab": {
     "base_uri": "https://localhost:8080/",
     "height": 35
    },
    "colab_type": "code",
    "executionInfo": {
     "elapsed": 624,
     "status": "ok",
     "timestamp": 1565671594014,
     "user": {
      "displayName": "Inhwan Lee",
      "photoUrl": "https://lh5.googleusercontent.com/-5lUmIvfg1FQ/AAAAAAAAAAI/AAAAAAAAB20/zcaOdBSgGnE/s64/photo.jpg",
      "userId": "00207258631190759901"
     },
     "user_tz": -540
    },
    "id": "_eogkPGxSE-2",
    "outputId": "0872950f-d104-48c2-dcf5-c358cd2de688"
   },
   "outputs": [
    {
     "data": {
      "text/plain": [
       "tensor([16])"
      ]
     },
     "execution_count": 52,
     "metadata": {
      "tags": []
     },
     "output_type": "execute_result"
    }
   ],
   "source": [
    "torch.tensor([word_to_ix['about']], dtype=torch.long)"
   ]
  },
  {
   "cell_type": "code",
   "execution_count": 0,
   "metadata": {
    "colab": {
     "base_uri": "https://localhost:8080/",
     "height": 71
    },
    "colab_type": "code",
    "executionInfo": {
     "elapsed": 803,
     "status": "ok",
     "timestamp": 1565672853579,
     "user": {
      "displayName": "Inhwan Lee",
      "photoUrl": "https://lh5.googleusercontent.com/-5lUmIvfg1FQ/AAAAAAAAAAI/AAAAAAAAB20/zcaOdBSgGnE/s64/photo.jpg",
      "userId": "00207258631190759901"
     },
     "user_tz": -540
    },
    "id": "uyrLmoy0TJUj",
    "outputId": "cb4d4966-4433-4873-8302-5687f315c3a8"
   },
   "outputs": [
    {
     "data": {
      "text/plain": [
       "tensor([[-0.6128,  0.0658, -0.1602, -0.1109,  1.7639],\n",
       "        [-0.7471, -0.8827,  0.3027,  0.0434, -0.3160],\n",
       "        [-0.8411,  1.2484, -2.1516, -1.6075,  0.2520]])"
      ]
     },
     "execution_count": 91,
     "metadata": {
      "tags": []
     },
     "output_type": "execute_result"
    }
   ],
   "source": [
    "tt = torch.randn(3,5)\n",
    "tt"
   ]
  },
  {
   "cell_type": "code",
   "execution_count": 0,
   "metadata": {
    "colab": {
     "base_uri": "https://localhost:8080/",
     "height": 71
    },
    "colab_type": "code",
    "executionInfo": {
     "elapsed": 476,
     "status": "ok",
     "timestamp": 1565672854043,
     "user": {
      "displayName": "Inhwan Lee",
      "photoUrl": "https://lh5.googleusercontent.com/-5lUmIvfg1FQ/AAAAAAAAAAI/AAAAAAAAB20/zcaOdBSgGnE/s64/photo.jpg",
      "userId": "00207258631190759901"
     },
     "user_tz": -540
    },
    "id": "mrgCCB6BVLrr",
    "outputId": "0a226f17-d011-482f-a6c8-ef777ed0ccf2"
   },
   "outputs": [
    {
     "data": {
      "text/plain": [
       "(tensor([[0.3745, 0.2150, 0.3669, 0.4183, 0.7433],\n",
       "         [0.3274, 0.0833, 0.5830, 0.4881, 0.0929],\n",
       "         [0.2981, 0.7017, 0.0501, 0.0936, 0.1639]]), torch.Size([3, 5]))"
      ]
     },
     "execution_count": 92,
     "metadata": {
      "tags": []
     },
     "output_type": "execute_result"
    }
   ],
   "source": [
    "F.softmax(tt, dim=0), F.softmax(tt, dim=0).size()"
   ]
  },
  {
   "cell_type": "code",
   "execution_count": 0,
   "metadata": {
    "colab": {
     "base_uri": "https://localhost:8080/",
     "height": 35
    },
    "colab_type": "code",
    "executionInfo": {
     "elapsed": 968,
     "status": "ok",
     "timestamp": 1565672855512,
     "user": {
      "displayName": "Inhwan Lee",
      "photoUrl": "https://lh5.googleusercontent.com/-5lUmIvfg1FQ/AAAAAAAAAAI/AAAAAAAAB20/zcaOdBSgGnE/s64/photo.jpg",
      "userId": "00207258631190759901"
     },
     "user_tz": -540
    },
    "id": "ouYhbSRfVOfB",
    "outputId": "801d77ab-a785-4673-edf4-03ac9a6530be"
   },
   "outputs": [
    {
     "data": {
      "text/plain": [
       "(tensor([1., 1., 1., 1., 1.]), torch.Size([1, 5]))"
      ]
     },
     "execution_count": 93,
     "metadata": {
      "tags": []
     },
     "output_type": "execute_result"
    }
   ],
   "source": [
    "F.softmax(tt, dim=0).sum(0), F.softmax(tt, dim=0).sum(0).view(1,-1).size()"
   ]
  },
  {
   "cell_type": "code",
   "execution_count": 0,
   "metadata": {
    "colab": {
     "base_uri": "https://localhost:8080/",
     "height": 71
    },
    "colab_type": "code",
    "executionInfo": {
     "elapsed": 730,
     "status": "ok",
     "timestamp": 1565672855825,
     "user": {
      "displayName": "Inhwan Lee",
      "photoUrl": "https://lh5.googleusercontent.com/-5lUmIvfg1FQ/AAAAAAAAAAI/AAAAAAAAB20/zcaOdBSgGnE/s64/photo.jpg",
      "userId": "00207258631190759901"
     },
     "user_tz": -540
    },
    "id": "138hHrMkVV9h",
    "outputId": "9e90dcaa-76eb-4ffd-eb63-3c566f910ce9"
   },
   "outputs": [
    {
     "data": {
      "text/plain": [
       "(tensor([[0.0589, 0.1162, 0.0927, 0.0974, 0.6348],\n",
       "         [0.1180, 0.1030, 0.3372, 0.2602, 0.1816],\n",
       "         [0.0781, 0.6314, 0.0211, 0.0363, 0.2331]]), torch.Size([3, 5]))"
      ]
     },
     "execution_count": 94,
     "metadata": {
      "tags": []
     },
     "output_type": "execute_result"
    }
   ],
   "source": [
    "F.softmax(tt, dim=1), F.softmax(tt, dim=1).size()"
   ]
  },
  {
   "cell_type": "code",
   "execution_count": 0,
   "metadata": {
    "colab": {
     "base_uri": "https://localhost:8080/",
     "height": 35
    },
    "colab_type": "code",
    "executionInfo": {
     "elapsed": 556,
     "status": "ok",
     "timestamp": 1565672856783,
     "user": {
      "displayName": "Inhwan Lee",
      "photoUrl": "https://lh5.googleusercontent.com/-5lUmIvfg1FQ/AAAAAAAAAAI/AAAAAAAAB20/zcaOdBSgGnE/s64/photo.jpg",
      "userId": "00207258631190759901"
     },
     "user_tz": -540
    },
    "id": "A_Bp4yGzV6gr",
    "outputId": "9379e265-29ca-426a-83ce-29a31c45e1e0"
   },
   "outputs": [
    {
     "data": {
      "text/plain": [
       "(tensor([1.0000, 1.0000, 1.0000]), torch.Size([3, 1]))"
      ]
     },
     "execution_count": 95,
     "metadata": {
      "tags": []
     },
     "output_type": "execute_result"
    }
   ],
   "source": [
    "F.softmax(tt, dim=1).sum(1), F.softmax(tt, dim=1).sum(1).view(-1,1).size()"
   ]
  },
  {
   "cell_type": "code",
   "execution_count": 0,
   "metadata": {
    "colab": {
     "base_uri": "https://localhost:8080/",
     "height": 71
    },
    "colab_type": "code",
    "executionInfo": {
     "elapsed": 724,
     "status": "ok",
     "timestamp": 1565672874616,
     "user": {
      "displayName": "Inhwan Lee",
      "photoUrl": "https://lh5.googleusercontent.com/-5lUmIvfg1FQ/AAAAAAAAAAI/AAAAAAAAB20/zcaOdBSgGnE/s64/photo.jpg",
      "userId": "00207258631190759901"
     },
     "user_tz": -540
    },
    "id": "py56ca78V7jC",
    "outputId": "ee429dc9-2cc9-40b0-b0ac-6998d3d08efa"
   },
   "outputs": [
    {
     "name": "stderr",
     "output_type": "stream",
     "text": [
      "/usr/local/lib/python3.6/dist-packages/ipykernel_launcher.py:2: UserWarning: Implicit dimension choice for softmax has been deprecated. Change the call to include dim=X as an argument.\n",
      "  \n"
     ]
    },
    {
     "data": {
      "text/plain": [
       "tensor([[0.0979, 0.1348, 0.4784, 0.2643, 0.0245]])"
      ]
     },
     "execution_count": 97,
     "metadata": {
      "tags": []
     },
     "output_type": "execute_result"
    }
   ],
   "source": [
    "tt = torch.randn(1,5)\n",
    "tt = F.softmax(tt)\n",
    "tt"
   ]
  },
  {
   "cell_type": "code",
   "execution_count": 0,
   "metadata": {
    "colab": {
     "base_uri": "https://localhost:8080/",
     "height": 35
    },
    "colab_type": "code",
    "executionInfo": {
     "elapsed": 767,
     "status": "ok",
     "timestamp": 1565673021750,
     "user": {
      "displayName": "Inhwan Lee",
      "photoUrl": "https://lh5.googleusercontent.com/-5lUmIvfg1FQ/AAAAAAAAAAI/AAAAAAAAB20/zcaOdBSgGnE/s64/photo.jpg",
      "userId": "00207258631190759901"
     },
     "user_tz": -540
    },
    "id": "iwixPJGQYBRc",
    "outputId": "a9a439c7-57dc-4be8-bd09-93a8f16465ef"
   },
   "outputs": [
    {
     "data": {
      "text/plain": [
       "tensor(-0.4784)"
      ]
     },
     "execution_count": 104,
     "metadata": {
      "tags": []
     },
     "output_type": "execute_result"
    }
   ],
   "source": [
    "loss_function(tt, torch.tensor([2], dtype=torch.long))"
   ]
  },
  {
   "cell_type": "code",
   "execution_count": 0,
   "metadata": {
    "colab": {},
    "colab_type": "code",
    "id": "6P8cnQDxYGwE"
   },
   "outputs": [],
   "source": [
    "tt = torch.tensor([[0.1, 0.2, 0.3, 0.4]])"
   ]
  },
  {
   "cell_type": "code",
   "execution_count": 0,
   "metadata": {
    "colab": {
     "base_uri": "https://localhost:8080/",
     "height": 35
    },
    "colab_type": "code",
    "executionInfo": {
     "elapsed": 469,
     "status": "ok",
     "timestamp": 1565673071619,
     "user": {
      "displayName": "Inhwan Lee",
      "photoUrl": "https://lh5.googleusercontent.com/-5lUmIvfg1FQ/AAAAAAAAAAI/AAAAAAAAB20/zcaOdBSgGnE/s64/photo.jpg",
      "userId": "00207258631190759901"
     },
     "user_tz": -540
    },
    "id": "IO1GrJrfYr3C",
    "outputId": "64641370-b170-4ec9-fbf0-7dbc7fa9155c"
   },
   "outputs": [
    {
     "data": {
      "text/plain": [
       "tensor(-0.4000)"
      ]
     },
     "execution_count": 108,
     "metadata": {
      "tags": []
     },
     "output_type": "execute_result"
    }
   ],
   "source": [
    "loss_function(tt, torch.tensor([3], dtype=torch.long))"
   ]
  },
  {
   "cell_type": "code",
   "execution_count": 0,
   "metadata": {
    "colab": {},
    "colab_type": "code",
    "id": "5uiRi40EYun2"
   },
   "outputs": [],
   "source": [
    ">>> m = nn.LogSoftmax(dim=1)\n",
    ">>> loss = nn.NLLLoss()\n",
    ">>> # input is of size N x C = 3 x 5\n",
    ">>> input = torch.randn(3, 5, requires_grad=True)\n",
    ">>> # each element in target has to have 0 <= value < C\n",
    ">>> target = torch.tensor([1, 0, 4])\n",
    ">>> output = loss(m(input), target)"
   ]
  },
  {
   "cell_type": "code",
   "execution_count": 0,
   "metadata": {
    "colab": {
     "base_uri": "https://localhost:8080/",
     "height": 71
    },
    "colab_type": "code",
    "executionInfo": {
     "elapsed": 734,
     "status": "ok",
     "timestamp": 1565673231378,
     "user": {
      "displayName": "Inhwan Lee",
      "photoUrl": "https://lh5.googleusercontent.com/-5lUmIvfg1FQ/AAAAAAAAAAI/AAAAAAAAB20/zcaOdBSgGnE/s64/photo.jpg",
      "userId": "00207258631190759901"
     },
     "user_tz": -540
    },
    "id": "rSHugvknZXaK",
    "outputId": "bb44b842-aa49-405a-854c-bcfa773a7b52"
   },
   "outputs": [
    {
     "data": {
      "text/plain": [
       "tensor([[-0.8220,  1.4405, -0.5012,  0.7047, -2.2642],\n",
       "        [ 1.2289, -0.9530, -0.9608, -0.2256,  1.3704],\n",
       "        [ 0.0640, -0.9137,  0.8041, -0.5061,  0.8850]], requires_grad=True)"
      ]
     },
     "execution_count": 110,
     "metadata": {
      "tags": []
     },
     "output_type": "execute_result"
    }
   ],
   "source": [
    "input"
   ]
  },
  {
   "cell_type": "code",
   "execution_count": 0,
   "metadata": {
    "colab": {
     "base_uri": "https://localhost:8080/",
     "height": 35
    },
    "colab_type": "code",
    "executionInfo": {
     "elapsed": 666,
     "status": "ok",
     "timestamp": 1565673244160,
     "user": {
      "displayName": "Inhwan Lee",
      "photoUrl": "https://lh5.googleusercontent.com/-5lUmIvfg1FQ/AAAAAAAAAAI/AAAAAAAAB20/zcaOdBSgGnE/s64/photo.jpg",
      "userId": "00207258631190759901"
     },
     "user_tz": -540
    },
    "id": "HbMnS_mfZZDc",
    "outputId": "69235a96-d57d-4f15-b4c8-161cd67e9f37"
   },
   "outputs": [
    {
     "data": {
      "text/plain": [
       "tensor(0.8470, grad_fn=<NllLossBackward>)"
      ]
     },
     "execution_count": 111,
     "metadata": {
      "tags": []
     },
     "output_type": "execute_result"
    }
   ],
   "source": [
    "output"
   ]
  },
  {
   "cell_type": "code",
   "execution_count": 0,
   "metadata": {
    "colab": {
     "base_uri": "https://localhost:8080/",
     "height": 71
    },
    "colab_type": "code",
    "executionInfo": {
     "elapsed": 923,
     "status": "ok",
     "timestamp": 1565673536610,
     "user": {
      "displayName": "Inhwan Lee",
      "photoUrl": "https://lh5.googleusercontent.com/-5lUmIvfg1FQ/AAAAAAAAAAI/AAAAAAAAB20/zcaOdBSgGnE/s64/photo.jpg",
      "userId": "00207258631190759901"
     },
     "user_tz": -540
    },
    "id": "BhppQHd4ZcMB",
    "outputId": "bcacf248-7a4f-440a-a770-04b8ce0103ef"
   },
   "outputs": [
    {
     "data": {
      "text/plain": [
       "tensor([[0.0594, 0.5710, 0.0819, 0.2736, 0.0141],\n",
       "        [0.3831, 0.0432, 0.0429, 0.0895, 0.4413],\n",
       "        [0.1585, 0.0596, 0.3322, 0.0896, 0.3602]], grad_fn=<SoftmaxBackward>)"
      ]
     },
     "execution_count": 116,
     "metadata": {
      "tags": []
     },
     "output_type": "execute_result"
    }
   ],
   "source": [
    "input2 = F.softmax(input, dim=1)\n",
    "input2"
   ]
  },
  {
   "cell_type": "code",
   "execution_count": 0,
   "metadata": {
    "colab": {
     "base_uri": "https://localhost:8080/",
     "height": 71
    },
    "colab_type": "code",
    "executionInfo": {
     "elapsed": 738,
     "status": "ok",
     "timestamp": 1565673622767,
     "user": {
      "displayName": "Inhwan Lee",
      "photoUrl": "https://lh5.googleusercontent.com/-5lUmIvfg1FQ/AAAAAAAAAAI/AAAAAAAAB20/zcaOdBSgGnE/s64/photo.jpg",
      "userId": "00207258631190759901"
     },
     "user_tz": -540
    },
    "id": "gfKI3x5Za3EF",
    "outputId": "6f56befd-da97-48c4-8dd1-c7a6c1575caf"
   },
   "outputs": [
    {
     "name": "stdout",
     "output_type": "stream",
     "text": [
      "tensor([[-2.8228, -0.5604, -2.5021, -1.2961, -4.2650],\n",
      "        [-0.9595, -3.1414, -3.1491, -2.4140, -0.8180],\n",
      "        [-1.8422, -2.8199, -1.1022, -2.4123, -1.0212]], grad_fn=<LogBackward>)\n"
     ]
    }
   ],
   "source": [
    "print(torch.log(input2))"
   ]
  },
  {
   "cell_type": "code",
   "execution_count": 0,
   "metadata": {
    "colab": {
     "base_uri": "https://localhost:8080/",
     "height": 35
    },
    "colab_type": "code",
    "executionInfo": {
     "elapsed": 734,
     "status": "ok",
     "timestamp": 1565673675750,
     "user": {
      "displayName": "Inhwan Lee",
      "photoUrl": "https://lh5.googleusercontent.com/-5lUmIvfg1FQ/AAAAAAAAAAI/AAAAAAAAB20/zcaOdBSgGnE/s64/photo.jpg",
      "userId": "00207258631190759901"
     },
     "user_tz": -540
    },
    "id": "-BJ1p8HiaDs0",
    "outputId": "69275082-d5d2-4404-c7b6-8b510613cf26"
   },
   "outputs": [
    {
     "data": {
      "text/plain": [
       "tensor(-0.8470, grad_fn=<DivBackward0>)"
      ]
     },
     "execution_count": 122,
     "metadata": {
      "tags": []
     },
     "output_type": "execute_result"
    }
   ],
   "source": [
    "(torch.log(input2[0,1]) + torch.log(input2[1,0]) + torch.log(input2[2,4]))/3"
   ]
  },
  {
   "cell_type": "code",
   "execution_count": 0,
   "metadata": {
    "colab": {
     "base_uri": "https://localhost:8080/",
     "height": 89
    },
    "colab_type": "code",
    "executionInfo": {
     "elapsed": 730,
     "status": "ok",
     "timestamp": 1565673603837,
     "user": {
      "displayName": "Inhwan Lee",
      "photoUrl": "https://lh5.googleusercontent.com/-5lUmIvfg1FQ/AAAAAAAAAAI/AAAAAAAAB20/zcaOdBSgGnE/s64/photo.jpg",
      "userId": "00207258631190759901"
     },
     "user_tz": -540
    },
    "id": "ECbRu6gsaVka",
    "outputId": "48303619-10a9-4f28-be29-afa47b2532fc"
   },
   "outputs": [
    {
     "name": "stdout",
     "output_type": "stream",
     "text": [
      "tensor([[-2.8228, -0.5604, -2.5021, -1.2961, -4.2650],\n",
      "        [-0.9595, -3.1414, -3.1491, -2.4140, -0.8180],\n",
      "        [-1.8422, -2.8199, -1.1022, -2.4123, -1.0212]],\n",
      "       grad_fn=<LogSoftmaxBackward>)\n"
     ]
    }
   ],
   "source": [
    "print(m(input))"
   ]
  },
  {
   "cell_type": "code",
   "execution_count": 0,
   "metadata": {
    "colab": {
     "base_uri": "https://localhost:8080/",
     "height": 89
    },
    "colab_type": "code",
    "executionInfo": {
     "elapsed": 707,
     "status": "ok",
     "timestamp": 1565674317441,
     "user": {
      "displayName": "Inhwan Lee",
      "photoUrl": "https://lh5.googleusercontent.com/-5lUmIvfg1FQ/AAAAAAAAAAI/AAAAAAAAB20/zcaOdBSgGnE/s64/photo.jpg",
      "userId": "00207258631190759901"
     },
     "user_tz": -540
    },
    "id": "vorTQX_7avV4",
    "outputId": "39a8c576-ec4c-4f44-dda3-07f45ac71472"
   },
   "outputs": [
    {
     "name": "stdout",
     "output_type": "stream",
     "text": [
      "tensor([[-2.8228, -0.5604, -2.5021, -1.2961, -4.2650],\n",
      "        [-0.9595, -3.1414, -3.1491, -2.4140, -0.8180],\n",
      "        [-1.8422, -2.8199, -1.1022, -2.4123, -1.0212]],\n",
      "       grad_fn=<LogSoftmaxBackward>)\n"
     ]
    }
   ],
   "source": [
    "print(F.log_softmax(input, dim=1))"
   ]
  },
  {
   "cell_type": "code",
   "execution_count": 0,
   "metadata": {
    "colab": {
     "base_uri": "https://localhost:8080/",
     "height": 127
    },
    "colab_type": "code",
    "executionInfo": {
     "elapsed": 42535,
     "status": "ok",
     "timestamp": 1565691821504,
     "user": {
      "displayName": "Inhwan Lee",
      "photoUrl": "https://lh5.googleusercontent.com/-5lUmIvfg1FQ/AAAAAAAAAAI/AAAAAAAAB20/zcaOdBSgGnE/s64/photo.jpg",
      "userId": "00207258631190759901"
     },
     "user_tz": -540
    },
    "id": "msunDN4JdhGN",
    "outputId": "2a921ee9-b729-4037-ffa5-a523ff4a2ca3"
   },
   "outputs": [
    {
     "name": "stdout",
     "output_type": "stream",
     "text": [
      "Go to this URL in a browser: https://accounts.google.com/o/oauth2/auth?client_id=947318989803-6bn6qk8qdgf4n4g3pfee6491hc0brc4i.apps.googleusercontent.com&redirect_uri=urn%3Aietf%3Awg%3Aoauth%3A2.0%3Aoob&scope=email%20https%3A%2F%2Fwww.googleapis.com%2Fauth%2Fdocs.test%20https%3A%2F%2Fwww.googleapis.com%2Fauth%2Fdrive%20https%3A%2F%2Fwww.googleapis.com%2Fauth%2Fdrive.photos.readonly%20https%3A%2F%2Fwww.googleapis.com%2Fauth%2Fpeopleapi.readonly&response_type=code\n",
      "\n",
      "Enter your authorization code:\n",
      "··········\n",
      "Mounted at /content/gdrive\n"
     ]
    }
   ],
   "source": [
    "from google.colab import drive\n",
    "\n",
    "drive.mount('/content/gdrive')\n"
   ]
  },
  {
   "cell_type": "code",
   "execution_count": 0,
   "metadata": {
    "colab": {},
    "colab_type": "code",
    "id": "oD_RyIkFf2v_"
   },
   "outputs": [],
   "source": [
    "text = ''\n",
    "with open('/content/gdrive/My Drive/Programming/shakespeare.txt', 'r', encoding='utf-8') as f:\n",
    "  tt = f.readlines()\n",
    "  \n",
    "  for line in tt:\n",
    "    #text.append(line)\n",
    "    text += line\n",
    "#    print(line)"
   ]
  },
  {
   "cell_type": "code",
   "execution_count": 0,
   "metadata": {
    "colab": {},
    "colab_type": "code",
    "id": "qUCmP1SyhdwT"
   },
   "outputs": [],
   "source": [
    "text2 = text.replace('\\n\\n',' ').replace('\\n',' ')"
   ]
  },
  {
   "cell_type": "code",
   "execution_count": 0,
   "metadata": {
    "colab": {
     "base_uri": "https://localhost:8080/",
     "height": 55
    },
    "colab_type": "code",
    "executionInfo": {
     "elapsed": 976,
     "status": "ok",
     "timestamp": 1565693020825,
     "user": {
      "displayName": "Inhwan Lee",
      "photoUrl": "https://lh5.googleusercontent.com/-5lUmIvfg1FQ/AAAAAAAAAAI/AAAAAAAAB20/zcaOdBSgGnE/s64/photo.jpg",
      "userId": "00207258631190759901"
     },
     "user_tz": -540
    },
    "id": "4YJdMdRqh5MS",
    "outputId": "22490825-94a7-43f5-9a13-454b8d75c9cf"
   },
   "outputs": [
    {
     "data": {
      "text/plain": [
       "\"THE SONNETS by William Shakespeare 1 From fairest creatures we desire increase, That thereby beauty's rose might never die, But as the riper should by time decease, His tender heir might bear his memory: But thou contracted to thine own bright eyes, Feed'st thy light's flame with self-substantial fuel, Making a famine where abundance lies, Thy self thy foe, to thy sweet self too cruel: Thou that art now the world's fresh ornament, And only herald to the gaudy spring, Within thine own bud buriest thy content, And tender churl mak'st waste in niggarding: Pity the world, or else this glutton be, To eat the world's due, by the grave and thee. 2 When forty winters shall besiege thy brow, And dig deep trenches in thy beauty's field, Thy youth's proud livery so gazed on now, Will be a tattered weed of small worth held:   Then being asked, where all thy beauty lies, Where all the treasure of thy lusty days; To say within thine own deep sunken eyes, Were an all-eating shame, and thriftless praise. How much more praise deserved thy beauty's use, If thou couldst answer 'This fair child of mine Shall sum my count, and make my old excuse' Proving his beauty by succession thine. This were to be new made when thou art old, And see thy blood warm when thou feel'st it cold. 3 Look in thy glass and tell the face thou viewest, Now is the time that face should form another, Whose fresh repair if now thou not renewest, Thou dost beguile the world, unbless some mother. For where is she so fair whose uneared womb Disdains the tillage of thy husbandry? Or who is he so fond will be the tomb, Of his self-love to stop posterity?   Thou art thy mother's glass and she in thee Calls back the lovely April of her prime, So thou through windows of thine age shalt see, Despite of wrinkles this thy golden time. But if thou live remembered not to be, Die single and thine image dies with thee. 4 Unthrifty loveliness why dost thou spend, Upon thy self thy beauty's legacy? Nature's bequest gives nothing but doth lend, And being frank she lends to those are free: Then beauteous niggard why dost thou abuse, The bounteous largess given thee to give? Profitless usurer why dost thou use So great a sum of sums yet canst not live? For having traffic with thy self alone, Thou of thy self thy sweet self dost deceive, Then how when nature calls thee to be gone, What acceptable audit canst thou leave?   Thy unused beauty must be tombed with thee, Which used lives th' executor to be. 5 Those hours that with gentle work did frame The lovely gaze where every eye doth dwell Will play the tyrants to the very same, And that unfair which fairly doth excel: For never-resting time leads summer on To hideous winter and confounds him there, Sap checked with frost and lusty leaves quite gone, Beauty o'er-snowed and bareness every where: Then were not summer's distillation left A liquid prisoner pent in walls of glass, Beauty's effect with beauty were bereft, Nor it nor no remembrance what it was. But flowers distilled though they with winter meet, Leese but their show, their substance still lives sweet. 6   Then let not winter's ragged hand deface, In thee thy summer ere thou be distilled: Make sweet some vial; treasure thou some place, With beauty's treasure ere it be self-killed: That use is not forbidden usury, Which happies those that pay the willing loan; That's for thy self to breed another thee, Or ten times happier be it ten for one, Ten times thy self were happier than thou art, If ten of thine ten times refigured thee: Then what could death do if thou shouldst depart, Leaving thee living in posterity? Be not self-willed for thou art much too fair, To be death's conquest and make worms thine heir. 7 Lo in the orient when the gracious light Lifts up his burning head, each under eye Doth homage to his new-appearing sight, Serving with looks his sacred majesty,   And having climbed the steep-up heavenly hill, Resembling strong youth in his middle age, Yet mortal looks adore his beauty still, Attending on his golden pilgrimage: But when from highmost pitch with weary car, Like feeble age he reeleth from the day, The eyes (fore duteous) now converted are From his low tract and look another way: So thou, thy self out-going in thy noon: Unlooked on diest unless thou get a son. 8 Music to hear, why hear'st thou music sadly? Sweets with sweets war not, joy delights in joy: Why lov'st thou that which thou receiv'st not gladly, Or else receiv'st with pleasure thine annoy? If the true concord of well-tuned sounds, By unions married do offend thine ear, They do but sweetly chide thee, who confounds In singleness the parts that thou shouldst bear:   Mark how one string sweet husband to another, Strikes each in each by mutual ordering; Resembling sire, and child, and happy mother, Who all in one, one pleasing note do sing: Whose speechless song being many, seeming one, Sings this to thee, 'Thou single wilt prove none'. 9 Is it for fear to wet a widow's eye, That thou consum'st thy self in single life? Ah, if thou issueless shalt hap to die, The world will wail thee like a makeless wife, The world will be thy widow and still weep, That thou no form of thee hast left behind, When every private widow well may keep, By children's eyes, her husband's shape in mind: Look what an unthrift in the world doth spend Shifts but his place, for still the world enjoys it; But beauty's waste hath in the world an end, And kept unused the user so destroys it:   No love toward others in that bosom sits That on himself such murd'rous shame commits. 10 For shame deny that thou bear'st love to any Who for thy self art so unprovident. Grant if thou wilt, thou art beloved of many, But that thou none lov'st is most evident: For thou art so possessed with murd'rous hate, That 'gainst thy self thou stick'st not to conspire, Seeking that beauteous roof to ruinate Which to repair should be thy chief desire: O change thy thought, that I may change my mind, Shall hate be fairer lodged than gentle love? Be as thy presence is gracious and kind, Or to thy self at least kind-hearted prove, Make thee another self for love of me, That beauty still may live in thine or thee. 11   As fast as thou shalt wane so fast thou grow'st, In one of thine, from that which thou departest, And that fresh blood which youngly thou bestow'st, Thou mayst call thine, when thou from youth convertest, Herein lives wisdom, beauty, and increase, Without this folly, age, and cold decay, If all were minded so, the times should cease, And threescore year would make the world away: Let those whom nature hath not made for store, Harsh, featureless, and rude, barrenly perish: Look whom she best endowed, she gave thee more; Which bounteous gift thou shouldst in bounty cherish: She carved thee for her seal, and meant thereby, Thou shouldst print more, not let that copy die. 12 When I do count the clock that tells the time, And see the brave day sunk in hideous night, When I behold the violet past prime, And sable curls all silvered o'er with white:   When lofty trees I see barren of leaves, Which erst from heat did canopy the herd And summer's green all girded up in sheaves Borne on the bier with white and bristly beard: Then of thy beauty do I question make That thou among the wastes of time must go, Since sweets and beauties do themselves forsake, And die as fast as they see others grow, And nothing 'gainst Time's scythe can make defence Save breed to brave him, when he takes thee hence. 13 O that you were your self, but love you are No longer yours, than you your self here live, Against this coming end you should prepare, And your sweet semblance to some other give. So should that beauty which you hold in lease Find no determination, then you were Your self again after your self's decease, When your sweet issue your sweet form should bear.   Who lets so fair a house fall to decay, Which husbandry in honour might uphold, Against the stormy gusts of winter's day And barren rage of death's eternal cold? O none but unthrifts, dear my love you know, You had a father, let your son say so. 14 Not from the stars do I my judgement pluck, And yet methinks I have astronomy, But not to tell of good, or evil luck, Of plagues, of dearths, or seasons' quality, Nor can I fortune to brief minutes tell; Pointing to each his thunder, rain and wind, Or say with princes if it shall go well By oft predict that I in heaven find. But from thine eyes my knowledge I derive, And constant stars in them I read such art As truth and beauty shall together thrive If from thy self, to store thou wouldst convert:   Or else of thee this I prognosticate, Thy end is truth's and beauty's doom and date. 15 When I consider every thing that grows Holds in perfection but a little moment. That this huge stage presenteth nought but shows Whereon the stars in secret influence comment. When I perceive that men as plants increase, Cheered and checked even by the self-same sky: Vaunt in their youthful sap, at height decrease, And wear their brave state out of memory. Then the conceit of this inconstant stay, Sets you most rich in youth before my sight, Where wasteful time debateth with decay To change your day of youth to sullied night, And all in war with Time for love of you, As he takes from you, I engraft you new. 16   But wherefore do not you a mightier way Make war upon this bloody tyrant Time? And fortify your self in your decay With means more blessed than my barren rhyme? Now stand you on the top of happy hours, And many maiden gardens yet unset, With virtuous wish would bear you living flowers, Much liker than your painted counterfeit: So should the lines of life that life repair Which this (Time's pencil) or my pupil pen Neither in inward worth nor outward fair Can make you live your self in eyes of men. To give away your self, keeps your self still, And you must live drawn by your own sweet skill. 17 Who will believe my verse in time to come If it were filled with your most high deserts? Though yet heaven knows it is but as a tomb Which hides your life, and shows not half your parts:   If I could write the beauty of your eyes, And in fresh numbers number all your graces, The age to come would say this poet lies, Such heavenly touches ne'er touched earthly faces. So should my papers (yellowed with their age) Be scorned, like old men of less truth than tongue, And your true rights be termed a poet's rage, And stretched metre of an antique song. But were some child of yours alive that time, You should live twice in it, and in my rhyme. 18 Shall I compare thee to a summer's day? Thou art more lovely and more temperate: Rough winds do shake the darling buds of May, And summer's lease hath all too short a date: Sometime too hot the eye of heaven shines, And often is his gold complexion dimmed, And every fair from fair sometime declines, By chance, or nature's changing course untrimmed:   But thy eternal summer shall not fade, Nor lose possession of that fair thou ow'st, Nor shall death brag thou wand'rest in his shade, When in eternal lines to time thou grow'st, So long as men can breathe or eyes can see, So long lives this, and this gives life to thee. 19 Devouring Time blunt thou the lion's paws, And make the earth devour her own sweet brood, Pluck the keen teeth from the fierce tiger's jaws, And burn the long-lived phoenix, in her blood, Make glad and sorry seasons as thou fleet'st, And do whate'er thou wilt swift-footed Time To the wide world and all her fading sweets: But I forbid thee one most heinous crime, O carve not with thy hours my love's fair brow, Nor draw no lines there with thine antique pen, Him in thy course untainted do allow, For beauty's pattern to succeeding men.   Yet do thy worst old Time: despite thy wrong, My love shall in my verse ever live young. 20 A woman's face with nature's own hand painted, Hast thou the master mistress of my passion, A woman's gentle heart but not acquainted With shifting change as is false women's fashion, An eye more bright than theirs, less false in rolling: Gilding the object whereupon it gazeth, A man in hue all hues in his controlling, Which steals men's eyes and women's souls amazeth. And for a woman wert thou first created, Till nature as she wrought thee fell a-doting, And by addition me of thee defeated, By adding one thing to my purpose nothing. But since she pricked thee out for women's pleasure, Mine be thy love and thy love's use their treasure. 21   So is it not with me as with that muse, Stirred by a painted beauty to his verse, Who heaven it self for ornament doth use, And every fair with his fair doth rehearse, Making a couplement of proud compare With sun and moon, with earth and sea's rich gems: With April's first-born flowers and all things rare, That heaven's air in this huge rondure hems. O let me true in love but truly write, And then believe me, my love is as fair, As any mother's child, though not so bright As those gold candles fixed in heaven's air: Let them say more that like of hearsay well, I will not praise that purpose not to sell. 22 My glass shall not persuade me I am old, So long as youth and thou are of one date, But when in thee time's furrows I behold, Then look I death my days should expiate.   For all that beauty that doth cover thee, Is but the seemly raiment of my heart, Which in thy breast doth live, as thine in me, How can I then be elder than thou art? O therefore love be of thyself so wary, As I not for my self, but for thee will, Bearing thy heart which I will keep so chary As tender nurse her babe from faring ill. Presume not on thy heart when mine is slain, Thou gav'st me thine not to give back again. 23 As an unperfect actor on the stage, Who with his fear is put beside his part, Or some fierce thing replete with too much rage, Whose strength's abundance weakens his own heart; So I for fear of trust, forget to say, The perfect ceremony of love's rite, And in mine own love's strength seem to decay, O'ercharged with burthen of mine own love's might:   O let my looks be then the eloquence, And dumb presagers of my speaking breast, Who plead for love, and look for recompense, More than that tongue that more hath more expressed. O learn to read what silent love hath writ, To hear with eyes belongs to love's fine wit. 24 Mine eye hath played the painter and hath stelled, Thy beauty's form in table of my heart, My body is the frame wherein 'tis held, And perspective it is best painter's art. For through the painter must you see his skill, To find where your true image pictured lies, Which in my bosom's shop is hanging still, That hath his windows glazed with thine eyes: Now see what good turns eyes for eyes have done, Mine eyes have drawn thy shape, and thine for me Are windows to my breast, where-through the sun Delights to peep, to gaze therein on thee;   Yet eyes this cunning want to grace their art, They draw but what they see, know not the heart. 25 Let those who are in favour with their stars, Of public honour and proud titles boast, Whilst I whom fortune of such triumph bars Unlooked for joy in that I honour most; Great princes' favourites their fair leaves spread, But as the marigold at the sun's eye, And in themselves their pride lies buried, For at a frown they in their glory die. The painful warrior famoused for fight, After a thousand victories once foiled, Is from the book of honour razed quite, And all the rest forgot for which he toiled: Then happy I that love and am beloved Where I may not remove nor be removed. 26   Lord of my love, to whom in vassalage Thy merit hath my duty strongly knit; To thee I send this written embassage To witness duty, not to show my wit. Duty so great, which wit so poor as mine May make seem bare, in wanting words to show it; But that I hope some good conceit of thine In thy soul's thought (all naked) will bestow it: Till whatsoever star that guides my moving, Points on me graciously with fair aspect, And puts apparel on my tattered loving, To show me worthy of thy sweet respect, Then may I dare to boast how I do love thee, Till then, not show my head where thou mayst prove me. 27 Weary with toil, I haste me to my bed, The dear respose for limbs with travel tired, But then begins a journey in my head To work my mind, when body's work's expired.   For then my thoughts (from far where I abide) Intend a zealous pilgrimage to thee, And keep my drooping eyelids open wide, Looking on darkness which the blind do see. Save that my soul's imaginary sight Presents thy shadow to my sightless view, Which like a jewel (hung in ghastly night) Makes black night beauteous, and her old face new. Lo thus by day my limbs, by night my mind, For thee, and for my self, no quiet find. 28 How can I then return in happy plight That am debarred the benefit of rest? When day's oppression is not eased by night, But day by night and night by day oppressed. And each (though enemies to either's reign) Do in consent shake hands to torture me, The one by toil, the other to complain How far I toil, still farther off from thee.   I tell the day to please him thou art bright, And dost him grace when clouds do blot the heaven: So flatter I the swart-complexioned night, When sparkling stars twire not thou gild'st the even. But day doth daily draw my sorrows longer, And night doth nightly make grief's length seem stronger 29 When in disgrace with Fortune and men's eyes, I all alone beweep my outcast state, And trouble deaf heaven with my bootless cries, And look upon my self and curse my fate, Wishing me like to one more rich in hope, Featured like him, like him with friends possessed, Desiring this man's art, and that man's scope, With what I most enjoy contented least, Yet in these thoughts my self almost despising, Haply I think on thee, and then my state, (Like to the lark at break of day arising From sullen earth) sings hymns at heaven's gate,   For thy sweet love remembered such wealth brings, That then I scorn to change my state with kings. 30 When to the sessions of sweet silent thought, I summon up remembrance of things past, I sigh the lack of many a thing I sought, And with old woes new wail my dear time's waste: Then can I drown an eye (unused to flow) For precious friends hid in death's dateless night, And weep afresh love's long since cancelled woe, And moan th' expense of many a vanished sight. Then can I grieve at grievances foregone, And heavily from woe to woe tell o'er The sad account of fore-bemoaned moan, Which I new pay as if not paid before. But if the while I think on thee (dear friend) All losses are restored, and sorrows end. 31   Thy bosom is endeared with all hearts, Which I by lacking have supposed dead, And there reigns love and all love's loving parts, And all those friends which I thought buried. How many a holy and obsequious tear Hath dear religious love stol'n from mine eye, As interest of the dead, which now appear, But things removed that hidden in thee lie. Thou art the grave where buried love doth live, Hung with the trophies of my lovers gone, Who all their parts of me to thee did give, That due of many, now is thine alone. Their images I loved, I view in thee, And thou (all they) hast all the all of me. 32 If thou survive my well-contented day, When that churl death my bones with dust shall cover And shalt by fortune once more re-survey These poor rude lines of thy deceased lover:   Compare them with the bett'ring of the time, And though they be outstripped by every pen, Reserve them for my love, not for their rhyme, Exceeded by the height of happier men. O then vouchsafe me but this loving thought, 'Had my friend's Muse grown with this growing age, A dearer birth than this his love had brought To march in ranks of better equipage: But since he died and poets better prove, Theirs for their style I'll read, his for his love'. 33 Full many a glorious morning have I seen, Flatter the mountain tops with sovereign eye, Kissing with golden face the meadows green; Gilding pale streams with heavenly alchemy: Anon permit the basest clouds to ride, With ugly rack on his celestial face, And from the forlorn world his visage hide Stealing unseen to west with this disgrace:   Even so my sun one early morn did shine, With all triumphant splendour on my brow, But out alack, he was but one hour mine, The region cloud hath masked him from me now. Yet him for this, my love no whit disdaineth, Suns of the world may stain, when heaven's sun staineth. 34 Why didst thou promise such a beauteous day, And make me travel forth without my cloak, To let base clouds o'ertake me in my way, Hiding thy brav'ry in their rotten smoke? 'Tis not enough that through the cloud thou break, To dry the rain on my storm-beaten face, For no man well of such a salve can speak, That heals the wound, and cures not the disgrace: Nor can thy shame give physic to my grief, Though thou repent, yet I have still the loss, Th' offender's sorrow lends but weak relief To him that bears the strong offence's cross.   Ah but those tears are pearl which thy love sheds, And they are rich, and ransom all ill deeds.  35 No more be grieved at that which thou hast done, Roses have thorns, and silver fountains mud, Clouds and eclipses stain both moon and sun, And loathsome canker lives in sweetest bud. All men make faults, and even I in this, Authorizing thy trespass with compare, My self corrupting salving thy amiss, Excusing thy sins more than thy sins are: For to thy sensual fault I bring in sense, Thy adverse party is thy advocate, And 'gainst my self a lawful plea commence: Such civil war is in my love and hate, That I an accessary needs must be, To that sweet thief which sourly robs from me. 36   Let me confess that we two must be twain, Although our undivided loves are one: So shall those blots that do with me remain, Without thy help, by me be borne alone. In our two loves there is but one respect, Though in our lives a separable spite, Which though it alter not love's sole effect, Yet doth it steal sweet hours from love's delight. I may not evermore acknowledge thee, Lest my bewailed guilt should do thee shame, Nor thou with public kindness honour me, Unless thou take that honour from thy name: But do not so, I love thee in such sort, As thou being mine, mine is thy good report. 37 As a decrepit father takes delight, To see his active child do deeds of youth, So I, made lame by Fortune's dearest spite Take all my comfort of thy worth and truth.   For whether beauty, birth, or wealth, or wit, Or any of these all, or all, or more Entitled in thy parts, do crowned sit, I make my love engrafted to this store: So then I am not lame, poor, nor despised, Whilst that this shadow doth such substance give, That I in thy abundance am sufficed, And by a part of all thy glory live: Look what is best, that best I wish in thee, This wish I have, then ten times happy me. 38 How can my muse want subject to invent While thou dost breathe that pour'st into my verse, Thine own sweet argument, too excellent, For every vulgar paper to rehearse? O give thy self the thanks if aught in me, Worthy perusal stand against thy sight, For who's so dumb that cannot write to thee, When thou thy self dost give invention light?   Be thou the tenth Muse, ten times more in worth Than those old nine which rhymers invocate, And he that calls on thee, let him bring forth Eternal numbers to outlive long date. If my slight muse do please these curious days, The pain be mine, but thine shall be the praise. 39 O how thy worth with manners may I sing, When thou art all the better part of me? What can mine own praise to mine own self bring: And what is't but mine own when I praise thee? Even for this, let us divided live, And our dear love lose name of single one, That by this separation I may give: That due to thee which thou deserv'st alone: O absence what a torment wouldst thou prove, Were it not thy sour leisure gave sweet leave, To entertain the time with thoughts of love, Which time and thoughts so sweetly doth deceive.   And that thou teachest how to make one twain, By praising him here who doth hence remain. 40 Take all my loves, my love, yea take them all, What hast thou then more than thou hadst before? No love, my love, that thou mayst true love call, All mine was thine, before thou hadst this more: Then if for my love, thou my love receivest, I cannot blame thee, for my love thou usest, But yet be blamed, if thou thy self deceivest By wilful taste of what thy self refusest. I do forgive thy robbery gentle thief Although thou steal thee all my poverty: And yet love knows it is a greater grief To bear greater wrong, than hate's known injury. Lascivious grace, in whom all ill well shows, Kill me with spites yet we must not be foes. 41   Those pretty wrongs that liberty commits, When I am sometime absent from thy heart, Thy beauty, and thy years full well befits, For still temptation follows where thou art. Gentle thou art, and therefore to be won, Beauteous thou art, therefore to be assailed. And when a woman woos, what woman's son, Will sourly leave her till he have prevailed? Ay me, but yet thou mightst my seat forbear, And chide thy beauty, and thy straying youth, Who lead thee in their riot even there Where thou art forced to break a twofold truth: Hers by thy beauty tempting her to thee, Thine by thy beauty being false to me. 42 That thou hast her it is not all my grief, And yet it may be said I loved her dearly, That she hath thee is of my wailing chief, A loss in love that touches me more nearly.   Loving offenders thus I will excuse ye, Thou dost love her, because thou know'st I love her, And for my sake even so doth she abuse me, Suff'ring my friend for my sake to approve her. If I lose thee, my loss is my love's gain, And losing her, my friend hath found that loss, Both find each other, and I lose both twain, And both for my sake lay on me this cross, But here's the joy, my friend and I are one, Sweet flattery, then she loves but me alone. 43 When most I wink then do mine eyes best see, For all the day they view things unrespected, But when I sleep, in dreams they look on thee, And darkly bright, are bright in dark directed. Then thou whose shadow shadows doth make bright How would thy shadow's form, form happy show, To the clear day with thy much clearer light, When to unseeing eyes thy shade shines so!   How would (I say) mine eyes be blessed made, By looking on thee in the living day, When in dead night thy fair imperfect shade, Through heavy sleep on sightless eyes doth stay! All days are nights to see till I see thee, And nights bright days when dreams do show thee me. 44 If the dull substance of my flesh were thought, Injurious distance should not stop my way, For then despite of space I would be brought, From limits far remote, where thou dost stay, No matter then although my foot did stand Upon the farthest earth removed from thee, For nimble thought can jump both sea and land, As soon as think the place where he would be. But ah, thought kills me that I am not thought To leap large lengths of miles when thou art gone, But that so much of earth and water wrought, I must attend, time's leisure with my moan.   Receiving nought by elements so slow, But heavy tears, badges of either's woe. 45 The other two, slight air, and purging fire, Are both with thee, wherever I abide, The first my thought, the other my desire, These present-absent with swift motion slide. For when these quicker elements are gone In tender embassy of love to thee, My life being made of four, with two alone, Sinks down to death, oppressed with melancholy. Until life's composition be recured, By those swift messengers returned from thee, Who even but now come back again assured, Of thy fair health, recounting it to me. This told, I joy, but then no longer glad, I send them back again and straight grow sad. 46   Mine eye and heart are at a mortal war, How to divide the conquest of thy sight, Mine eye, my heart thy picture's sight would bar, My heart, mine eye the freedom of that right, My heart doth plead that thou in him dost lie, (A closet never pierced with crystal eyes) But the defendant doth that plea deny, And says in him thy fair appearance lies. To side this title is impanelled A quest of thoughts, all tenants to the heart, And by their verdict is determined The clear eye's moiety, and the dear heart's part. As thus, mine eye's due is thy outward part, And my heart's right, thy inward love of heart. 47 Betwixt mine eye and heart a league is took, And each doth good turns now unto the other, When that mine eye is famished for a look, Or heart in love with sighs himself doth smother;   With my love's picture then my eye doth feast, And to the painted banquet bids my heart: Another time mine eye is my heart's guest, And in his thoughts of love doth share a part. So either by thy picture or my love, Thy self away, art present still with me, For thou not farther than my thoughts canst move, And I am still with them, and they with thee. Or if they sleep, thy picture in my sight Awakes my heart, to heart's and eye's delight. 48 How careful was I when I took my way, Each trifle under truest bars to thrust, That to my use it might unused stay From hands of falsehood, in sure wards of trust! But thou, to whom my jewels trifles are, Most worthy comfort, now my greatest grief, Thou best of dearest, and mine only care, Art left the prey of every vulgar thief.   Thee have I not locked up in any chest, Save where thou art not, though I feel thou art, Within the gentle closure of my breast, From whence at pleasure thou mayst come and part, And even thence thou wilt be stol'n I fear, For truth proves thievish for a prize so dear. 49 Against that time (if ever that time come) When I shall see thee frown on my defects, When as thy love hath cast his utmost sum, Called to that audit by advised respects, Against that time when thou shalt strangely pass, And scarcely greet me with that sun thine eye, When love converted from the thing it was Shall reasons find of settled gravity; Against that time do I ensconce me here Within the knowledge of mine own desert, And this my hand, against my self uprear, To guard the lawful reasons on thy part,   To leave poor me, thou hast the strength of laws, Since why to love, I can allege no cause. 50 How heavy do I journey on the way, When what I seek (my weary travel's end) Doth teach that case and that repose to say 'Thus far the miles are measured from thy friend.' The beast that bears me, tired with my woe, Plods dully on, to bear that weight in me, As if by some instinct the wretch did know His rider loved not speed being made from thee: The bloody spur cannot provoke him on, That sometimes anger thrusts into his hide, Which heavily he answers with a groan, More sharp to me than spurring to his side, For that same groan doth put this in my mind, My grief lies onward and my joy behind. 51   Thus can my love excuse the slow offence, Of my dull bearer, when from thee I speed, From where thou art, why should I haste me thence? Till I return of posting is no need. O what excuse will my poor beast then find, When swift extremity can seem but slow? Then should I spur though mounted on the wind, In winged speed no motion shall I know, Then can no horse with my desire keep pace, Therefore desire (of perfect'st love being made) Shall neigh (no dull flesh) in his fiery race, But love, for love, thus shall excuse my jade, Since from thee going, he went wilful-slow, Towards thee I'll run, and give him leave to go. 52 So am I as the rich whose blessed key, Can bring him to his sweet up-locked treasure, The which he will not every hour survey, For blunting the fine point of seldom pleasure.   Therefore are feasts so solemn and so rare, Since seldom coming in that long year set, Like stones of worth they thinly placed are, Or captain jewels in the carcanet. So is the time that keeps you as my chest Or as the wardrobe which the robe doth hide, To make some special instant special-blest, By new unfolding his imprisoned pride. Blessed are you whose worthiness gives scope, Being had to triumph, being lacked to hope. 53 What is your substance, whereof are you made, That millions of strange shadows on you tend? Since every one, hath every one, one shade, And you but one, can every shadow lend: Describe Adonis and the counterfeit, Is poorly imitated after you, On Helen's cheek all art of beauty set, And you in Grecian tires are painted new:   Speak of the spring, and foison of the year, The one doth shadow of your beauty show, The other as your bounty doth appear, And you in every blessed shape we know. In all external grace you have some part, But you like none, none you for constant heart. 54 O how much more doth beauty beauteous seem, By that sweet ornament which truth doth give! The rose looks fair, but fairer we it deem For that sweet odour, which doth in it live: The canker blooms have full as deep a dye, As the perfumed tincture of the roses, Hang on such thorns, and play as wantonly, When summer's breath their masked buds discloses: But for their virtue only is their show, They live unwooed, and unrespected fade, Die to themselves. Sweet roses do not so, Of their sweet deaths, are sweetest odours made:   And so of you, beauteous and lovely youth, When that shall vade, by verse distills your truth. 55 Not marble, nor the gilded monuments Of princes shall outlive this powerful rhyme, But you shall shine more bright in these contents Than unswept stone, besmeared with sluttish time. When wasteful war shall statues overturn, And broils root out the work of masonry, Nor Mars his sword, nor war's quick fire shall burn: The living record of your memory. 'Gainst death, and all-oblivious enmity Shall you pace forth, your praise shall still find room, Even in the eyes of all posterity That wear this world out to the ending doom. So till the judgment that your self arise, You live in this, and dwell in lovers' eyes. 56   Sweet love renew thy force, be it not said Thy edge should blunter be than appetite, Which but to-day by feeding is allayed, To-morrow sharpened in his former might. So love be thou, although to-day thou fill Thy hungry eyes, even till they wink with fulness, To-morrow see again, and do not kill The spirit of love, with a perpetual dulness: Let this sad interim like the ocean be Which parts the shore, where two contracted new, Come daily to the banks, that when they see: Return of love, more blest may be the view. Or call it winter, which being full of care, Makes summer's welcome, thrice more wished, more rare. 57 Being your slave what should I do but tend, Upon the hours, and times of your desire? I have no precious time at all to spend; Nor services to do till you require.   Nor dare I chide the world-without-end hour, Whilst I (my sovereign) watch the clock for you, Nor think the bitterness of absence sour, When you have bid your servant once adieu. Nor dare I question with my jealous thought, Where you may be, or your affairs suppose, But like a sad slave stay and think of nought Save where you are, how happy you make those. So true a fool is love, that in your will, (Though you do any thing) he thinks no ill. 58 That god forbid, that made me first your slave, I should in thought control your times of pleasure, Or at your hand th' account of hours to crave, Being your vassal bound to stay your leisure. O let me suffer (being at your beck) Th' imprisoned absence of your liberty, And patience tame to sufferance bide each check, Without accusing you of injury.   Be where you list, your charter is so strong, That you your self may privilage your time To what you will, to you it doth belong, Your self to pardon of self-doing crime. I am to wait, though waiting so be hell, Not blame your pleasure be it ill or well. 59 If there be nothing new, but that which is, Hath been before, how are our brains beguiled, Which labouring for invention bear amis The second burthen of a former child! O that record could with a backward look, Even of five hundred courses of the sun, Show me your image in some antique book, Since mind at first in character was done. That I might see what the old world could say, To this composed wonder of your frame, Whether we are mended, or whether better they, Or whether revolution be the same.   O sure I am the wits of former days, To subjects worse have given admiring praise. 60 Like as the waves make towards the pebbled shore, So do our minutes hasten to their end, Each changing place with that which goes before, In sequent toil all forwards do contend. Nativity once in the main of light, Crawls to maturity, wherewith being crowned, Crooked eclipses 'gainst his glory fight, And Time that gave, doth now his gift confound. Time doth transfix the flourish set on youth, And delves the parallels in beauty's brow, Feeds on the rarities of nature's truth, And nothing stands but for his scythe to mow. And yet to times in hope, my verse shall stand Praising thy worth, despite his cruel hand. 61   Is it thy will, thy image should keep open My heavy eyelids to the weary night? Dost thou desire my slumbers should be broken, While shadows like to thee do mock my sight? Is it thy spirit that thou send'st from thee So far from home into my deeds to pry, To find out shames and idle hours in me, The scope and tenure of thy jealousy? O no, thy love though much, is not so great, It is my love that keeps mine eye awake, Mine own true love that doth my rest defeat, To play the watchman ever for thy sake. For thee watch I, whilst thou dost wake elsewhere, From me far off, with others all too near. 62 Sin of self-love possesseth all mine eye, And all my soul, and all my every part; And for this sin there is no remedy, It is so grounded inward in my heart.   Methinks no face so gracious is as mine, No shape so true, no truth of such account, And for my self mine own worth do define, As I all other in all worths surmount. But when my glass shows me my self indeed beated and chopt with tanned antiquity, Mine own self-love quite contrary I read: Self, so self-loving were iniquity. 'Tis thee (my self) that for my self I praise, Painting my age with beauty of thy days. 63 Against my love shall be as I am now With Time's injurious hand crushed and o'erworn, When hours have drained his blood and filled his brow With lines and wrinkles, when his youthful morn Hath travelled on to age's steepy night, And all those beauties whereof now he's king Are vanishing, or vanished out of sight, Stealing away the treasure of his spring:   For such a time do I now fortify Against confounding age's cruel knife, That he shall never cut from memory My sweet love's beauty, though my lover's life. His beauty shall in these black lines be seen, And they shall live, and he in them still green. 64 When I have seen by Time's fell hand defaced The rich-proud cost of outworn buried age, When sometime lofty towers I see down-rased, And brass eternal slave to mortal rage. When I have seen the hungry ocean gain Advantage on the kingdom of the shore, And the firm soil win of the watery main, Increasing store with loss, and loss with store. When I have seen such interchange of State, Or state it self confounded, to decay, Ruin hath taught me thus to ruminate That Time will come and take my love away.   This thought is as a death which cannot choose But weep to have, that which it fears to lose. 65 Since brass, nor stone, nor earth, nor boundless sea, But sad mortality o'ersways their power, How with this rage shall beauty hold a plea, Whose action is no stronger than a flower? O how shall summer's honey breath hold out, Against the wrackful siege of batt'ring days, When rocks impregnable are not so stout, Nor gates of steel so strong but time decays? O fearful meditation, where alack, Shall Time's best jewel from Time's chest lie hid? Or what strong hand can hold his swift foot back, Or who his spoil of beauty can forbid? O none, unless this miracle have might, That in black ink my love may still shine bright. 66   Tired with all these for restful death I cry, As to behold desert a beggar born, And needy nothing trimmed in jollity, And purest faith unhappily forsworn, And gilded honour shamefully misplaced, And maiden virtue rudely strumpeted, And right perfection wrongfully disgraced, And strength by limping sway disabled And art made tongue-tied by authority, And folly (doctor-like) controlling skill, And simple truth miscalled simplicity, And captive good attending captain ill. Tired with all these, from these would I be gone, Save that to die, I leave my love alone. 67 Ah wherefore with infection should he live, And with his presence grace impiety, That sin by him advantage should achieve, And lace it self with his society?   Why should false painting imitate his cheek, And steal dead seeming of his living hue? Why should poor beauty indirectly seek, Roses of shadow, since his rose is true? Why should he live, now nature bankrupt is, Beggared of blood to blush through lively veins, For she hath no exchequer now but his, And proud of many, lives upon his gains? O him she stores, to show what wealth she had, In days long since, before these last so bad. 68 Thus is his cheek the map of days outworn, When beauty lived and died as flowers do now, Before these bastard signs of fair were born, Or durst inhabit on a living brow: Before the golden tresses of the dead, The right of sepulchres, were shorn away, To live a second life on second head, Ere beauty's dead fleece made another gay:   In him those holy antique hours are seen, Without all ornament, it self and true, Making no summer of another's green, Robbing no old to dress his beauty new, And him as for a map doth Nature store, To show false Art what beauty was of yore. 69 Those parts of thee that the world's eye doth view, Want nothing that the thought of hearts can mend: All tongues (the voice of souls) give thee that due, Uttering bare truth, even so as foes commend. Thy outward thus with outward praise is crowned, But those same tongues that give thee so thine own, In other accents do this praise confound By seeing farther than the eye hath shown. They look into the beauty of thy mind, And that in guess they measure by thy deeds, Then churls their thoughts (although their eyes were kind) To thy fair flower add the rank smell of weeds:   But why thy odour matcheth not thy show, The soil is this, that thou dost common grow.  70 That thou art blamed shall not be thy defect, For slander's mark was ever yet the fair, The ornament of beauty is suspect, A crow that flies in heaven's sweetest air. So thou be good, slander doth but approve, Thy worth the greater being wooed of time, For canker vice the sweetest buds doth love, And thou present'st a pure unstained prime. Thou hast passed by the ambush of young days, Either not assailed, or victor being charged, Yet this thy praise cannot be so thy praise, To tie up envy, evermore enlarged, If some suspect of ill masked not thy show, Then thou alone kingdoms of hearts shouldst owe.  71   No longer mourn for me when I am dead, Than you shall hear the surly sullen bell Give warning to the world that I am fled From this vile world with vilest worms to dwell: Nay if you read this line, remember not, The hand that writ it, for I love you so, That I in your sweet thoughts would be forgot, If thinking on me then should make you woe. O if (I say) you look upon this verse, When I (perhaps) compounded am with clay, Do not so much as my poor name rehearse; But let your love even with my life decay. Lest the wise world should look into your moan, And mock you with me after I am gone.  72 O lest the world should task you to recite, What merit lived in me that you should love After my death (dear love) forget me quite, For you in me can nothing worthy prove.   Unless you would devise some virtuous lie, To do more for me than mine own desert, And hang more praise upon deceased I, Than niggard truth would willingly impart: O lest your true love may seem false in this, That you for love speak well of me untrue, My name be buried where my body is, And live no more to shame nor me, nor you. For I am shamed by that which I bring forth, And so should you, to love things nothing worth.  73 That time of year thou mayst in me behold, When yellow leaves, or none, or few do hang Upon those boughs which shake against the cold, Bare ruined choirs, where late the sweet birds sang. In me thou seest the twilight of such day, As after sunset fadeth in the west, Which by and by black night doth take away, Death's second self that seals up all in rest.   In me thou seest the glowing of such fire, That on the ashes of his youth doth lie, As the death-bed, whereon it must expire, Consumed with that which it was nourished by. This thou perceiv'st, which makes thy love more strong, To love that well, which thou must leave ere long.  74 But be contented when that fell arrest, Without all bail shall carry me away, My life hath in this line some interest, Which for memorial still with thee shall stay. When thou reviewest this, thou dost review, The very part was consecrate to thee, The earth can have but earth, which is his due, My spirit is thine the better part of me, So then thou hast but lost the dregs of life, The prey of worms, my body being dead, The coward conquest of a wretch's knife, Too base of thee to be remembered,   The worth of that, is that which it contains, And that is this, and this with thee remains.  75 So are you to my thoughts as food to life, Or as sweet-seasoned showers are to the ground; And for the peace of you I hold such strife As 'twixt a miser and his wealth is found. Now proud as an enjoyer, and anon Doubting the filching age will steal his treasure, Now counting best to be with you alone, Then bettered that the world may see my pleasure, Sometime all full with feasting on your sight, And by and by clean starved for a look, Possessing or pursuing no delight Save what is had, or must from you be took. Thus do I pine and surfeit day by day, Or gluttoning on all, or all away.  76   Why is my verse so barren of new pride? So far from variation or quick change? Why with the time do I not glance aside To new-found methods, and to compounds strange? Why write I still all one, ever the same, And keep invention in a noted weed, That every word doth almost tell my name, Showing their birth, and where they did proceed? O know sweet love I always write of you, And you and love are still my argument: So all my best is dressing old words new, Spending again what is already spent: For as the sun is daily new and old, So is my love still telling what is told.  77 Thy glass will show thee how thy beauties wear, Thy dial how thy precious minutes waste, These vacant leaves thy mind's imprint will bear, And of this book, this learning mayst thou taste.   The wrinkles which thy glass will truly show, Of mouthed graves will give thee memory, Thou by thy dial's shady stealth mayst know, Time's thievish progress to eternity. Look what thy memory cannot contain, Commit to these waste blanks, and thou shalt find Those children nursed, delivered from thy brain, To take a new acquaintance of thy mind. These offices, so oft as thou wilt look, Shall profit thee, and much enrich thy book.  78 So oft have I invoked thee for my muse, And found such fair assistance in my verse, As every alien pen hath got my use, And under thee their poesy disperse. Thine eyes, that taught the dumb on high to sing, And heavy ignorance aloft to fly, Have added feathers to the learned's wing, And given grace a double majesty. Yet be most proud of that which I compile, Whose influence is thine, and born of thee, In others' works thou dost but mend the style, And arts with thy sweet graces graced be. But thou art all my art, and dost advance As high as learning, my rude ignorance.  79 Whilst I alone did call upon thy aid, My verse alone had all thy gentle grace, But now my gracious numbers are decayed, And my sick muse doth give an other place. I grant (sweet love) thy lovely argument Deserves the travail of a worthier pen, Yet what of thee thy poet doth invent, He robs thee of, and pays it thee again, He lends thee virtue, and he stole that word, From thy behaviour, beauty doth he give And found it in thy cheek: he can afford No praise to thee, but what in thee doth live.   Then thank him not for that which he doth say, Since what he owes thee, thou thy self dost pay.  80 O how I faint when I of you do write, Knowing a better spirit doth use your name, And in the praise thereof spends all his might, To make me tongue-tied speaking of your fame. But since your worth (wide as the ocean is) The humble as the proudest sail doth bear, My saucy bark (inferior far to his) On your broad main doth wilfully appear. Your shallowest help will hold me up afloat, Whilst he upon your soundless deep doth ride, Or (being wrecked) I am a worthless boat, He of tall building, and of goodly pride. Then if he thrive and I be cast away, The worst was this, my love was my decay.  81   Or I shall live your epitaph to make, Or you survive when I in earth am rotten, From hence your memory death cannot take, Although in me each part will be forgotten. Your name from hence immortal life shall have, Though I (once gone) to all the world must die, The earth can yield me but a common grave, When you entombed in men's eyes shall lie, Your monument shall be my gentle verse, Which eyes not yet created shall o'er-read, And tongues to be, your being shall rehearse, When all the breathers of this world are dead, You still shall live (such virtue hath my pen) Where breath most breathes, even in the mouths of men.  82 I grant thou wert not married to my muse, And therefore mayst without attaint o'erlook The dedicated words which writers use Of their fair subject, blessing every book.   Thou art as fair in knowledge as in hue, Finding thy worth a limit past my praise, And therefore art enforced to seek anew, Some fresher stamp of the time-bettering days. And do so love, yet when they have devised, What strained touches rhetoric can lend, Thou truly fair, wert truly sympathized, In true plain words, by thy true-telling friend. And their gross painting might be better used, Where cheeks need blood, in thee it is abused.  83 I never saw that you did painting need, And therefore to your fair no painting set, I found (or thought I found) you did exceed, That barren tender of a poet's debt: And therefore have I slept in your report, That you your self being extant well might show, How far a modern quill doth come too short, Speaking of worth, what worth in you doth grow.   This silence for my sin you did impute, Which shall be most my glory being dumb, For I impair not beauty being mute, When others would give life, and bring a tomb. There lives more life in one of your fair eyes, Than both your poets can in praise devise.  84 Who is it that says most, which can say more, Than this rich praise, that you alone, are you? In whose confine immured is the store, Which should example where your equal grew. Lean penury within that pen doth dwell, That to his subject lends not some small glory, But he that writes of you, if he can tell, That you are you, so dignifies his story. Let him but copy what in you is writ, Not making worse what nature made so clear, And such a counterpart shall fame his wit, Making his style admired every where.   You to your beauteous blessings add a curse, Being fond on praise, which makes your praises worse.  85 My tongue-tied muse in manners holds her still, While comments of your praise richly compiled, Reserve their character with golden quill, And precious phrase by all the Muses filed. I think good thoughts, whilst other write good words, And like unlettered clerk still cry Amen, To every hymn that able spirit affords, In polished form of well refined pen. Hearing you praised, I say 'tis so, 'tis true, And to the most of praise add something more, But that is in my thought, whose love to you (Though words come hindmost) holds his rank before, Then others, for the breath of words respect, Me for my dumb thoughts, speaking in effect.  86   Was it the proud full sail of his great verse, Bound for the prize of (all too precious) you, That did my ripe thoughts in my brain inhearse, Making their tomb the womb wherein they grew? Was it his spirit, by spirits taught to write, Above a mortal pitch, that struck me dead? No, neither he, nor his compeers by night Giving him aid, my verse astonished. He nor that affable familiar ghost Which nightly gulls him with intelligence, As victors of my silence cannot boast, I was not sick of any fear from thence. But when your countenance filled up his line, Then lacked I matter, that enfeebled mine.  87 Farewell! thou art too dear for my possessing, And like enough thou know'st thy estimate, The charter of thy worth gives thee releasing: My bonds in thee are all determinate.   For how do I hold thee but by thy granting, And for that riches where is my deserving? The cause of this fair gift in me is wanting, And so my patent back again is swerving. Thy self thou gav'st, thy own worth then not knowing, Or me to whom thou gav'st it, else mistaking, So thy great gift upon misprision growing, Comes home again, on better judgement making. Thus have I had thee as a dream doth flatter, In sleep a king, but waking no such matter.  88 When thou shalt be disposed to set me light, And place my merit in the eye of scorn, Upon thy side, against my self I'll fight, And prove thee virtuous, though thou art forsworn: With mine own weakness being best acquainted, Upon thy part I can set down a story Of faults concealed, wherein I am attainted: That thou in losing me, shalt win much glory:   And I by this will be a gainer too, For bending all my loving thoughts on thee, The injuries that to my self I do, Doing thee vantage, double-vantage me. Such is my love, to thee I so belong, That for thy right, my self will bear all wrong.  89 Say that thou didst forsake me for some fault, And I will comment upon that offence, Speak of my lameness, and I straight will halt: Against thy reasons making no defence. Thou canst not (love) disgrace me half so ill, To set a form upon desired change, As I'll my self disgrace, knowing thy will, I will acquaintance strangle and look strange: Be absent from thy walks and in my tongue, Thy sweet beloved name no more shall dwell, Lest I (too much profane) should do it wronk: And haply of our old acquaintance tell.   For thee, against my self I'll vow debate, For I must ne'er love him whom thou dost hate.  90 Then hate me when thou wilt, if ever, now, Now while the world is bent my deeds to cross, join with the spite of fortune, make me bow, And do not drop in for an after-loss: Ah do not, when my heart hath 'scaped this sorrow, Come in the rearward of a conquered woe, Give not a windy night a rainy morrow, To linger out a purposed overthrow. If thou wilt leave me, do not leave me last, When other petty griefs have done their spite, But in the onset come, so shall I taste At first the very worst of fortune's might. And other strains of woe, which now seem woe, Compared with loss of thee, will not seem so.  91   Some glory in their birth, some in their skill, Some in their wealth, some in their body's force, Some in their garments though new-fangled ill: Some in their hawks and hounds, some in their horse. And every humour hath his adjunct pleasure, Wherein it finds a joy above the rest, But these particulars are not my measure, All these I better in one general best. Thy love is better than high birth to me, Richer than wealth, prouder than garments' costs, Of more delight than hawks and horses be: And having thee, of all men's pride I boast. Wretched in this alone, that thou mayst take, All this away, and me most wretchcd make.  92 But do thy worst to steal thy self away, For term of life thou art assured mine, And life no longer than thy love will stay, For it depends upon that love of thine.   Then need I not to fear the worst of wrongs, When in the least of them my life hath end, I see, a better state to me belongs Than that, which on thy humour doth depend. Thou canst not vex me with inconstant mind, Since that my life on thy revolt doth lie, O what a happy title do I find, Happy to have thy love, happy to die! But what's so blessed-fair that fears no blot? Thou mayst be false, and yet I know it not.  93 So shall I live, supposing thou art true, Like a deceived husband, so love's face, May still seem love to me, though altered new: Thy looks with me, thy heart in other place. For there can live no hatred in thine eye, Therefore in that I cannot know thy change, In many's looks, the false heart's history Is writ in moods and frowns and wrinkles strange.   But heaven in thy creation did decree, That in thy face sweet love should ever dwell, Whate'er thy thoughts, or thy heart's workings be, Thy looks should nothing thence, but sweetness tell. How like Eve's apple doth thy beauty grow, If thy sweet virtue answer not thy show.  94 They that have power to hurt, and will do none, That do not do the thing, they most do show, Who moving others, are themselves as stone, Unmoved, cold, and to temptation slow: They rightly do inherit heaven's graces, And husband nature's riches from expense, Tibey are the lords and owners of their faces, Others, but stewards of their excellence: The summer's flower is to the summer sweet, Though to it self, it only live and die, But if that flower with base infection meet, The basest weed outbraves his dignity:   For sweetest things turn sourest by their deeds, Lilies that fester, smell far worse than weeds.  95 How sweet and lovely dost thou make the shame, Which like a canker in the fragrant rose, Doth spot the beauty of thy budding name! O in what sweets dost thou thy sins enclose! That tongue that tells the story of thy days, (Making lascivious comments on thy sport) Cannot dispraise, but in a kind of praise, Naming thy name, blesses an ill report. O what a mansion have those vices got, Which for their habitation chose out thee, Where beauty's veil doth cover every blot, And all things turns to fair, that eyes can see! Take heed (dear heart) of this large privilege, The hardest knife ill-used doth lose his edge.  96   Some say thy fault is youth, some wantonness, Some say thy grace is youth and gentle sport, Both grace and faults are loved of more and less: Thou mak'st faults graces, that to thee resort: As on the finger of a throned queen, The basest jewel will be well esteemed: So are those errors that in thee are seen, To truths translated, and for true things deemed. How many lambs might the stern wolf betray, If like a lamb he could his looks translate! How many gazers mightst thou lead away, if thou wouldst use the strength of all thy state! But do not so, I love thee in such sort, As thou being mine, mine is thy good report.  97 How like a winter hath my absence been From thee, the pleasure of the fleeting year! What freezings have I felt, what dark days seen! What old December's bareness everywhere!   And yet this time removed was summer's time, The teeming autumn big with rich increase, Bearing the wanton burden of the prime, Like widowed wombs after their lords' decease: Yet this abundant issue seemed to me But hope of orphans, and unfathered fruit, For summer and his pleasures wait on thee, And thou away, the very birds are mute. Or if they sing, 'tis with so dull a cheer, That leaves look pale, dreading the winter's near.  98 From you have I been absent in the spring, When proud-pied April (dressed in all his trim) Hath put a spirit of youth in every thing: That heavy Saturn laughed and leaped with him. Yet nor the lays of birds, nor the sweet smell Of different flowers in odour and in hue, Could make me any summer's story tell: Or from their proud lap pluck them where they grew:   Nor did I wonder at the lily's white, Nor praise the deep vermilion in the rose, They were but sweet, but figures of delight: Drawn after you, you pattern of all those. Yet seemed it winter still, and you away, As with your shadow I with these did play.  99 The forward violet thus did I chide, Sweet thief, whence didst thou steal thy sweet that smells, If not from my love's breath? The purple pride Which on thy soft check for complexion dwells, In my love's veins thou hast too grossly dyed. The lily I condemned for thy hand, And buds of marjoram had stol'n thy hair, The roses fearfully on thorns did stand, One blushing shame, another white despair: A third nor red, nor white, had stol'n of both, And to his robbery had annexed thy breath, But for his theft in pride of all his growth   A vengeful canker eat him up to death. More flowers I noted, yet I none could see, But sweet, or colour it had stol'n from thee.  100 Where art thou Muse that thou forget'st so long, To speak of that which gives thee all thy might? Spend'st thou thy fury on some worthless song, Darkening thy power to lend base subjects light? Return forgetful Muse, and straight redeem, In gentle numbers time so idly spent, Sing to the ear that doth thy lays esteem, And gives thy pen both skill and argument. Rise resty Muse, my love's sweet face survey, If time have any wrinkle graven there, If any, be a satire to decay, And make time's spoils despised everywhere. Give my love fame faster than Time wastes life, So thou prevent'st his scythe, and crooked knife.  101 O truant Muse what shall be thy amends, For thy neglect of truth in beauty dyed? Both truth and beauty on my love depends: So dost thou too, and therein dignified: Make answer Muse, wilt thou not haply say, 'Truth needs no colour with his colour fixed, Beauty no pencil, beauty's truth to lay: But best is best, if never intermixed'? Because he needs no praise, wilt thou be dumb? Excuse not silence so, for't lies in thee, To make him much outlive a gilded tomb: And to be praised of ages yet to be. Then do thy office Muse, I teach thee how, To make him seem long hence, as he shows now.  102 My love is strengthened though more weak in seeming, I love not less, though less the show appear, That love is merchandized, whose rich esteeming,   The owner's tongue doth publish every where. Our love was new, and then but in the spring, When I was wont to greet it with my lays, As Philomel in summer's front doth sing, And stops her pipe in growth of riper days: Not that the summer is less pleasant now Than when her mournful hymns did hush the night, But that wild music burthens every bough, And sweets grown common lose their dear delight. Therefore like her, I sometime hold my tongue: Because I would not dull you with my song.  103 Alack what poverty my muse brings forth, That having such a scope to show her pride, The argument all bare is of more worth Than when it hath my added praise beside. O blame me not if I no more can write! Look in your glass and there appears a face, That over-goes my blunt invention quite,   Dulling my lines, and doing me disgrace. Were it not sinful then striving to mend, To mar the subject that before was well? For to no other pass my verses tend, Than of your graces and your gifts to tell. And more, much more than in my verse can sit, Your own glass shows you, when you look in it.  104 To me fair friend you never can be old, For as you were when first your eye I eyed, Such seems your beauty still: three winters cold, Have from the forests shook three summers' pride, Three beauteous springs to yellow autumn turned, In process of the seasons have I seen, Three April perfumes in three hot Junes burned, Since first I saw you fresh which yet are green. Ah yet doth beauty like a dial hand, Steal from his figure, and no pace perceived, So your sweet hue, which methinks still doth stand   Hath motion, and mine eye may be deceived. For fear of which, hear this thou age unbred, Ere you were born was beauty's summer dead.  105 Let not my love be called idolatry, Nor my beloved as an idol show, Since all alike my songs and praises be To one, of one, still such, and ever so. Kind is my love to-day, to-morrow kind, Still constant in a wondrous excellence, Therefore my verse to constancy confined, One thing expressing, leaves out difference. Fair, kind, and true, is all my argument, Fair, kind, and true, varying to other words, And in this change is my invention spent, Three themes in one, which wondrous scope affords. Fair, kind, and true, have often lived alone. Which three till now, never kept seat in one.  106 When in the chronicle of wasted time, I see descriptions of the fairest wights, And beauty making beautiful old rhyme, In praise of ladies dead, and lovely knights, Then in the blazon of sweet beauty's best, Of hand, of foot, of lip, of eye, of brow, I see their antique pen would have expressed, Even such a beauty as you master now. So all their praises are but prophecies Of this our time, all you prefiguring, And for they looked but with divining eyes, They had not skill enough your worth to sing: For we which now behold these present days, Have eyes to wonder, but lack tongues to praise.  107 Not mine own fears, nor the prophetic soul, Of the wide world, dreaming on things to come, Can yet the lease of my true love control,   Supposed as forfeit to a confined doom. The mortal moon hath her eclipse endured, And the sad augurs mock their own presage, Incertainties now crown themselves assured, And peace proclaims olives of endless age. Now with the drops of this most balmy time, My love looks fresh, and death to me subscribes, Since spite of him I'll live in this poor rhyme, While he insults o'er dull and speechless tribes. And thou in this shalt find thy monument, When tyrants' crests and tombs of brass are spent.  108 What's in the brain that ink may character, Which hath not figured to thee my true spirit, What's new to speak, what now to register, That may express my love, or thy dear merit? Nothing sweet boy, but yet like prayers divine, I must each day say o'er the very same, Counting no old thing old, thou mine, I thine,   Even as when first I hallowed thy fair name. So that eternal love in love's fresh case, Weighs not the dust and injury of age, Nor gives to necessary wrinkles place, But makes antiquity for aye his page, Finding the first conceit of love there bred, Where time and outward form would show it dead.  109 O never say that I was false of heart, Though absence seemed my flame to qualify, As easy might I from my self depart, As from my soul which in thy breast doth lie: That is my home of love, if I have ranged, Like him that travels I return again, Just to the time, not with the time exchanged, So that my self bring water for my stain, Never believe though in my nature reigned, All frailties that besiege all kinds of blood, That it could so preposterously be stained,   To leave for nothing all thy sum of good: For nothing this wide universe I call, Save thou my rose, in it thou art my all.  110 Alas 'tis true, I have gone here and there, And made my self a motley to the view, Gored mine own thoughts, sold cheap what is most dear, Made old offences of affections new. Most true it is, that I have looked on truth Askance and strangely: but by all above, These blenches gave my heart another youth, And worse essays proved thee my best of love. Now all is done, have what shall have no end, Mine appetite I never more will grind On newer proof, to try an older friend, A god in love, to whom I am confined. Then give me welcome, next my heaven the best, Even to thy pure and most most loving breast.  111 O for my sake do you with Fortune chide, The guilty goddess of my harmful deeds, That did not better for my life provide, Than public means which public manners breeds. Thence comes it that my name receives a brand, And almost thence my nature is subdued To what it works in, like the dyer's hand: Pity me then, and wish I were renewed, Whilst like a willing patient I will drink, Potions of eisel 'gainst my strong infection, No bitterness that I will bitter think, Nor double penance to correct correction. Pity me then dear friend, and I assure ye, Even that your pity is enough to cure me.  112 Your love and pity doth th' impression fill, Which vulgar scandal stamped upon my brow, For what care I who calls me well or ill,   So you o'er-green my bad, my good allow? You are my all the world, and I must strive, To know my shames and praises from your tongue, None else to me, nor I to none alive, That my steeled sense or changes right or wrong. In so profound abysm I throw all care Of others' voices, that my adder's sense, To critic and to flatterer stopped are: Mark how with my neglect I do dispense. You are so strongly in my purpose bred, That all the world besides methinks are dead.  113 Since I left you, mine eye is in my mind, And that which governs me to go about, Doth part his function, and is partly blind, Seems seeing, but effectually is out: For it no form delivers to the heart Of bird, of flower, or shape which it doth latch, Of his quick objects hath the mind no part,   Nor his own vision holds what it doth catch: For if it see the rud'st or gentlest sight, The most sweet favour or deformed'st creature, The mountain, or the sea, the day, or night: The crow, or dove, it shapes them to your feature. Incapable of more, replete with you, My most true mind thus maketh mine untrue.  114 Or whether doth my mind being crowned with you Drink up the monarch's plague this flattery? Or whether shall I say mine eye saith true, And that your love taught it this alchemy? To make of monsters, and things indigest, Such cherubins as your sweet self resemble, Creating every bad a perfect best As fast as objects to his beams assemble: O 'tis the first, 'tis flattery in my seeing, And my great mind most kingly drinks it up, Mine eye well knows what with his gust is 'greeing,   And to his palate doth prepare the cup. If it be poisoned, 'tis the lesser sin, That mine eye loves it and doth first begin.  115 Those lines that I before have writ do lie, Even those that said I could not love you dearer, Yet then my judgment knew no reason why, My most full flame should afterwards burn clearer, But reckoning time, whose millioned accidents Creep in 'twixt vows, and change decrees of kings, Tan sacred beauty, blunt the sharp'st intents, Divert strong minds to the course of alt'ring things: Alas why fearing of time's tyranny, Might I not then say 'Now I love you best,' When I was certain o'er incertainty, Crowning the present, doubting of the rest? Love is a babe, then might I not say so To give full growth to that which still doth grow.  116 Let me not to the marriage of true minds Admit impediments, love is not love Which alters when it alteration finds, Or bends with the remover to remove. O no, it is an ever-fixed mark That looks on tempests and is never shaken; It is the star to every wand'ring bark, Whose worth's unknown, although his height be taken. Love's not Time's fool, though rosy lips and cheeks Within his bending sickle's compass come, Love alters not with his brief hours and weeks, But bears it out even to the edge of doom: If this be error and upon me proved, I never writ, nor no man ever loved.  117 Accuse me thus, that I have scanted all, Wherein I should your great deserts repay, Forgot upon your dearest love to call,   Whereto all bonds do tie me day by day, That I have frequent been with unknown minds, And given to time your own dear-purchased right, That I have hoisted sail to all the winds Which should transport me farthest from your sight. Book both my wilfulness and errors down, And on just proof surmise, accumulate, Bring me within the level of your frown, But shoot not at me in your wakened hate: Since my appeal says I did strive to prove The constancy and virtue of your love.  118 Like as to make our appetite more keen With eager compounds we our palate urge, As to prevent our maladies unseen, We sicken to shun sickness when we purge. Even so being full of your ne'er-cloying sweetness, To bitter sauces did I frame my feeding; And sick of welfare found a kind of meetness,   To be diseased ere that there was true needing. Thus policy in love t' anticipate The ills that were not, grew to faults assured, And brought to medicine a healthful state Which rank of goodness would by ill be cured. But thence I learn and find the lesson true, Drugs poison him that so feil sick of you.  119 What potions have I drunk of Siren tears Distilled from limbecks foul as hell within, Applying fears to hopes, and hopes to fears, Still losing when I saw my self to win! What wretched errors hath my heart committed, Whilst it hath thought it self so blessed never! How have mine eyes out of their spheres been fitted In the distraction of this madding fever! O benefit of ill, now I find true That better is, by evil still made better. And ruined love when it is built anew   Grows fairer than at first, more strong, far greater. So I return rebuked to my content, And gain by ills thrice more than I have spent.  120 That you were once unkind befriends me now, And for that sorrow, which I then did feel, Needs must I under my transgression bow, Unless my nerves were brass or hammered steel. For if you were by my unkindness shaken As I by yours, y'have passed a hell of time, And I a tyrant have no leisure taken To weigh how once I suffered in your crime. O that our night of woe might have remembered My deepest sense, how hard true sorrow hits, And soon to you, as you to me then tendered The humble salve, which wounded bosoms fits! But that your trespass now becomes a fee, Mine ransoms yours, and yours must ransom me.  121 'Tis better to be vile than vile esteemed, When not to be, receives reproach of being, And the just pleasure lost, which is so deemed, Not by our feeling, but by others' seeing. For why should others' false adulterate eyes Give salutation to my sportive blood? Or on my frailties why are frailer spies, Which in their wills count bad what I think good? No, I am that I am, and they that level At my abuses, reckon up their own, I may be straight though they themselves be bevel; By their rank thoughts, my deeds must not be shown Unless this general evil they maintain, All men are bad and in their badness reign.  122 Thy gift, thy tables, are within my brain Full charactered with lasting memory, Which shall above that idle rank remain   Beyond all date even to eternity. Or at the least, so long as brain and heart Have faculty by nature to subsist, Till each to razed oblivion yield his part Of thee, thy record never can be missed: That poor retention could not so much hold, Nor need I tallies thy dear love to score, Therefore to give them from me was I bold, To trust those tables that receive thee more: To keep an adjunct to remember thee Were to import forgetfulness in me.  123 No! Time, thou shalt not boast that I do change, Thy pyramids built up with newer might To me are nothing novel, nothing strange, They are but dressings Of a former sight: Our dates are brief, and therefore we admire, What thou dost foist upon us that is old, And rather make them born to our desire,   Than think that we before have heard them told: Thy registers and thee I both defy, Not wond'ring at the present, nor the past, For thy records, and what we see doth lie, Made more or less by thy continual haste: This I do vow and this shall ever be, I will be true despite thy scythe and thee.  124 If my dear love were but the child of state, It might for Fortune's bastard be unfathered, As subject to time's love or to time's hate, Weeds among weeds, or flowers with flowers gathered. No it was builded far from accident, It suffers not in smiling pomp, nor falls Under the blow of thralled discontent, Whereto th' inviting time our fashion calls: It fears not policy that heretic, Which works on leases of short-numbered hours, But all alone stands hugely politic,   That it nor grows with heat, nor drowns with showers. To this I witness call the fools of time, Which die for goodness, who have lived for crime.  125 Were't aught to me I bore the canopy, With my extern the outward honouring, Or laid great bases for eternity, Which proves more short than waste or ruining? Have I not seen dwellers on form and favour Lose all, and more by paying too much rent For compound sweet; forgoing simple savour, Pitiful thrivers in their gazing spent? No, let me be obsequious in thy heart, And take thou my oblation, poor but free, Which is not mixed with seconds, knows no art, But mutual render, only me for thee. Hence, thou suborned informer, a true soul When most impeached, stands least in thy control.  126 O thou my lovely boy who in thy power, Dost hold Time's fickle glass his fickle hour: Who hast by waning grown, and therein show'st, Thy lovers withering, as thy sweet self grow'st. If Nature (sovereign mistress over wrack) As thou goest onwards still will pluck thee back, She keeps thee to this purpose, that her skill May time disgrace, and wretched minutes kill. Yet fear her O thou minion of her pleasure, She may detain, but not still keep her treasure! Her audit (though delayed) answered must be, And her quietus is to render thee.  127 In the old age black was not counted fair, Or if it were it bore not beauty's name: But now is black beauty's successive heir, And beauty slandered with a bastard shame, For since each hand hath put on nature's power,   Fairing the foul with art's false borrowed face, Sweet beauty hath no name no holy bower, But is profaned, if not lives in disgrace. Therefore my mistress' eyes are raven black, Her eyes so suited, and they mourners seem, At such who not born fair no beauty lack, Slandering creation with a false esteem, Yet so they mourn becoming of their woe, That every tongue says beauty should look so.  128 How oft when thou, my music, music play'st, Upon that blessed wood whose motion sounds With thy sweet fingers when thou gently sway'st The wiry concord that mine ear confounds, Do I envy those jacks that nimble leap, To kiss the tender inward of thy hand, Whilst my poor lips which should that harvest reap, At the wood's boldness by thee blushing stand. To be so tickled they would change their state   And situation with those dancing chips, O'er whom thy fingers walk with gentle gait, Making dead wood more blest than living lips, Since saucy jacks so happy are in this, Give them thy fingers, me thy lips to kiss.  129 Th' expense of spirit in a waste of shame Is lust in action, and till action, lust Is perjured, murd'rous, bloody full of blame, Savage, extreme, rude, cruel, not to trust, Enjoyed no sooner but despised straight, Past reason hunted, and no sooner had Past reason hated as a swallowed bait, On purpose laid to make the taker mad. Mad in pursuit and in possession so, Had, having, and in quest, to have extreme, A bliss in proof and proved, a very woe, Before a joy proposed behind a dream. All this the world well knows yet none knows well,   To shun the heaven that leads men to this hell.  130 My mistress' eyes are nothing like the sun, Coral is far more red, than her lips red, If snow be white, why then her breasts are dun: If hairs be wires, black wires grow on her head: I have seen roses damasked, red and white, But no such roses see I in her cheeks, And in some perfumes is there more delight, Than in the breath that from my mistress reeks. I love to hear her speak, yet well I know, That music hath a far more pleasing sound: I grant I never saw a goddess go, My mistress when she walks treads on the ground. And yet by heaven I think my love as rare, As any she belied with false compare.  131 Thou art as tyrannous, so as thou art,   As those whose beauties proudly make them cruel; For well thou know'st to my dear doting heart Thou art the fairest and most precious jewel. Yet in good faith some say that thee behold, Thy face hath not the power to make love groan; To say they err, I dare not be so bold, Although I swear it to my self alone. And to be sure that is not false I swear, A thousand groans but thinking on thy face, One on another's neck do witness bear Thy black is fairest in my judgment's place. In nothing art thou black save in thy deeds, And thence this slander as I think proceeds.  132 Thine eyes I love, and they as pitying me, Knowing thy heart torment me with disdain, Have put on black, and loving mourners be, Looking with pretty ruth upon my pain. And truly not the morning sun of heaven   Better becomes the grey cheeks of the east, Nor that full star that ushers in the even Doth half that glory to the sober west As those two mourning eyes become thy face: O let it then as well beseem thy heart To mourn for me since mourning doth thee grace, And suit thy pity like in every part. Then will I swear beauty herself is black, And all they foul that thy complexion lack.  133 Beshrew that heart that makes my heart to groan For that deep wound it gives my friend and me; Is't not enough to torture me alone, But slave to slavery my sweet'st friend must be? Me from my self thy cruel eye hath taken, And my next self thou harder hast engrossed, Of him, my self, and thee I am forsaken, A torment thrice three-fold thus to be crossed: Prison my heart in thy steel bosom's ward,   But then my friend's heart let my poor heart bail, Whoe'er keeps me, let my heart be his guard, Thou canst not then use rigour in my gaol. And yet thou wilt, for I being pent in thee, Perforce am thine and all that is in me.  134 So now I have confessed that he is thine, And I my self am mortgaged to thy will, My self I'll forfeit, so that other mine, Thou wilt restore to be my comfort still: But thou wilt not, nor he will not be free, For thou art covetous, and he is kind, He learned but surety-like to write for me, Under that bond that him as fist doth bind. The statute of thy beauty thou wilt take, Thou usurer that put'st forth all to use, And sue a friend, came debtor for my sake, So him I lose through my unkind abuse. Him have I lost, thou hast both him and me,   He pays the whole, and yet am I not free.  135 Whoever hath her wish, thou hast thy will, And 'Will' to boot, and 'Will' in over-plus, More than enough am I that vex thee still, To thy sweet will making addition thus. Wilt thou whose will is large and spacious, Not once vouchsafe to hide my will in thine? Shall will in others seem right gracious, And in my will no fair acceptance shine? The sea all water, yet receives rain still, And in abundance addeth to his store, So thou being rich in will add to thy will One will of mine to make thy large will more. Let no unkind, no fair beseechers kill, Think all but one, and me in that one 'Will.'  136 If thy soul check thee that I come so near,   Swear to thy blind soul that I was thy 'Will', And will thy soul knows is admitted there, Thus far for love, my love-suit sweet fulfil. 'Will', will fulfil the treasure of thy love, Ay, fill it full with wills, and my will one, In things of great receipt with case we prove, Among a number one is reckoned none. Then in the number let me pass untold, Though in thy store's account I one must be, For nothing hold me, so it please thee hold, That nothing me, a something sweet to thee. Make but my name thy love, and love that still, And then thou lov'st me for my name is Will.  137 Thou blind fool Love, what dost thou to mine eyes, That they behold and see not what they see? They know what beauty is, see where it lies, Yet what the best is, take the worst to be. If eyes corrupt by over-partial looks,   Be anchored in the bay where all men ride, Why of eyes' falsehood hast thou forged hooks, Whereto the judgment of my heart is tied? Why should my heart think that a several plot, Which my heart knows the wide world's common place? Or mine eyes seeing this, say this is not To put fair truth upon so foul a face? In things right true my heart and eyes have erred, And to this false plague are they now transferred.  138 When my love swears that she is made of truth, I do believe her though I know she lies, That she might think me some untutored youth, Unlearned in the world's false subtleties. Thus vainly thinking that she thinks me young, Although she knows my days are past the best, Simply I credit her false-speaking tongue, On both sides thus is simple truth suppressed: But wherefore says she not she is unjust?   And wherefore say not I that I am old? O love's best habit is in seeming trust, And age in love, loves not to have years told. Therefore I lie with her, and she with me, And in our faults by lies we flattered be.  139 O call not me to justify the wrong, That thy unkindness lays upon my heart, Wound me not with thine eye but with thy tongue, Use power with power, and slay me not by art, Tell me thou lov'st elsewhere; but in my sight, Dear heart forbear to glance thine eye aside, What need'st thou wound with cunning when thy might Is more than my o'erpressed defence can bide? Let me excuse thee, ah my love well knows, Her pretty looks have been mine enemies, And therefore from my face she turns my foes, That they elsewhere might dart their injuries: Yet do not so, but since I am near slain,   Kill me outright with looks, and rid my pain.  140 Be wise as thou art cruel, do not press My tongue-tied patience with too much disdain: Lest sorrow lend me words and words express, The manner of my pity-wanting pain. If I might teach thee wit better it were, Though not to love, yet love to tell me so, As testy sick men when their deaths be near, No news but health from their physicians know. For if I should despair I should grow mad, And in my madness might speak ill of thee, Now this ill-wresting world is grown so bad, Mad slanderers by mad ears believed be. That I may not be so, nor thou belied, Bear thine eyes straight, though thy proud heart go wide.  141 In faith I do not love thee with mine eyes,   For they in thee a thousand errors note, But 'tis my heart that loves what they despise, Who in despite of view is pleased to dote. Nor are mine cars with thy tongue's tune delighted, Nor tender feeling to base touches prone, Nor taste, nor smell, desire to be invited To any sensual feast with thee alone: But my five wits, nor my five senses can Dissuade one foolish heart from serving thee, Who leaves unswayed the likeness of a man, Thy proud heart's slave and vassal wretch to be: Only my plague thus far I count my gain, That she that makes me sin, awards me pain.  142 Love is my sin, and thy dear virtue hate, Hate of my sin, grounded on sinful loving, O but with mine, compare thou thine own state, And thou shalt find it merits not reproving, Or if it do, not from those lips of thine,   That have profaned their scarlet ornaments, And sealed false bonds of love as oft as mine, Robbed others' beds' revenues of their rents. Be it lawful I love thee as thou lov'st those, Whom thine eyes woo as mine importune thee, Root pity in thy heart that when it grows, Thy pity may deserve to pitied be. If thou dost seek to have what thou dost hide, By self-example mayst thou be denied.  143 Lo as a careful huswife runs to catch, One of her feathered creatures broke away, Sets down her babe and makes all swift dispatch In pursuit of the thing she would have stay: Whilst her neglected child holds her in chase, Cries to catch her whose busy care is bent, To follow that which flies before her face: Not prizing her poor infant's discontent; So run'st thou after that which flies from thee,   Whilst I thy babe chase thee afar behind, But if thou catch thy hope turn back to me: And play the mother's part, kiss me, be kind. So will I pray that thou mayst have thy Will, If thou turn back and my loud crying still.  144 Two loves I have of comfort and despair, Which like two spirits do suggest me still, The better angel is a man right fair: The worser spirit a woman coloured ill. To win me soon to hell my female evil, Tempteth my better angel from my side, And would corrupt my saint to be a devil: Wooing his purity with her foul pride. And whether that my angel be turned fiend, Suspect I may, yet not directly tell, But being both from me both to each friend, I guess one angel in another's hell. Yet this shall I ne'er know but live in doubt,   Till my bad angel fire my good one out.  145 Those lips that Love's own hand did make, Breathed forth the sound that said 'I hate', To me that languished for her sake: But when she saw my woeful state, Straight in her heart did mercy come, Chiding that tongue that ever sweet, Was used in giving gentle doom: And taught it thus anew to greet: 'I hate' she altered with an end, That followed it as gentle day, Doth follow night who like a fiend From heaven to hell is flown away. 'I hate', from hate away she threw, And saved my life saying 'not you'. 146 Poor soul the centre of my sinful earth,   My sinful earth these rebel powers array, Why dost thou pine within and suffer dearth Painting thy outward walls so costly gay? Why so large cost having so short a lease, Dost thou upon thy fading mansion spend? Shall worms inheritors of this excess Eat up thy charge? is this thy body's end? Then soul live thou upon thy servant's loss, And let that pine to aggravate thy store; Buy terms divine in selling hours of dross; Within be fed, without be rich no more, So shall thou feed on death, that feeds on men, And death once dead, there's no more dying then. 147 My love is as a fever longing still, For that which longer nurseth the disease, Feeding on that which doth preserve the ill, Th' uncertain sickly appetite to please: My reason the physician to my love,   Angry that his prescriptions are not kept Hath left me, and I desperate now approve, Desire is death, which physic did except. Past cure I am, now reason is past care, And frantic-mad with evermore unrest, My thoughts and my discourse as mad men's are, At random from the truth vainly expressed. For I have sworn thee fair, and thought thee bright, Who art as black as hell, as dark as night. 148 O me! what eyes hath love put in my head, Which have no correspondence with true sight, Or if they have, where is my judgment fled, That censures falsely what they see aright? If that be fair whereon my false eyes dote, What means the world to say it is not so? If it be not, then love doth well denote, Love's eye is not so true as all men's: no, How can it? O how can love's eye be true,   That is so vexed with watching and with tears? No marvel then though I mistake my view, The sun it self sees not, till heaven clears. O cunning love, with tears thou keep'st me blind, Lest eyes well-seeing thy foul faults should find. 149 Canst thou O cruel, say I love thee not, When I against my self with thee partake? Do I not think on thee when I forgot Am of my self, all-tyrant, for thy sake? Who hateth thee that I do call my friend, On whom frown'st thou that I do fawn upon, Nay if thou lour'st on me do I not spend Revenge upon my self with present moan? What merit do I in my self respect, That is so proud thy service to despise, When all my best doth worship thy defect, Commanded by the motion of thine eyes? But love hate on for now I know thy mind,   Those that can see thou lov'st, and I am blind. 150 O from what power hast thou this powerful might, With insufficiency my heart to sway, To make me give the lie to my true sight, And swear that brightness doth not grace the day? Whence hast thou this becoming of things ill, That in the very refuse of thy deeds, There is such strength and warrantise of skill, That in my mind thy worst all best exceeds? Who taught thee how to make me love thee more, The more I hear and see just cause of hate? O though I love what others do abhor, With others thou shouldst not abhor my state. If thy unworthiness raised love in me, More worthy I to be beloved of thee. 151 Love is too young to know what conscience is,   Yet who knows not conscience is born of love? Then gentle cheater urge not my amiss, Lest guilty of my faults thy sweet self prove. For thou betraying me, I do betray My nobler part to my gross body's treason, My soul doth tell my body that he may, Triumph in love, flesh stays no farther reason, But rising at thy name doth point out thee, As his triumphant prize, proud of this pride, He is contented thy poor drudge to be, To stand in thy affairs, fall by thy side. No want of conscience hold it that I call, Her love, for whose dear love I rise and fall. 152 In loving thee thou know'st I am forsworn, But thou art twice forsworn to me love swearing, In act thy bed-vow broke and new faith torn, In vowing new hate after new love bearing: But why of two oaths' breach do I accuse thee,   When I break twenty? I am perjured most, For all my vows are oaths but to misuse thee: And all my honest faith in thee is lost. For I have sworn deep oaths of thy deep kindness: Oaths of thy love, thy truth, thy constancy, And to enlighten thee gave eyes to blindness, Or made them swear against the thing they see. For I have sworn thee fair: more perjured I, To swear against the truth so foul a be. 153 Cupid laid by his brand and fell asleep, A maid of Dian's this advantage found, And his love-kindling fire did quickly steep In a cold valley-fountain of that ground: Which borrowed from this holy fire of Love, A dateless lively heat still to endure, And grew a seeting bath which yet men prove, Against strange maladies a sovereign cure: But at my mistress' eye Love's brand new-fired,   The boy for trial needs would touch my breast, I sick withal the help of bath desired, And thither hied a sad distempered guest. But found no cure, the bath for my help lies, Where Cupid got new fire; my mistress' eyes. 154 The little Love-god lying once asleep, Laid by his side his heart-inflaming brand, Whilst many nymphs that vowed chaste life to keep, Came tripping by, but in her maiden hand, The fairest votary took up that fire, Which many legions of true hearts had warmed, And so the general of hot desire, Was sleeping by a virgin hand disarmed. This brand she quenched in a cool well by, Which from Love's fire took heat perpetual, Growing a bath and healthful remedy, For men discased, but I my mistress' thrall, Came there for cure and this by that I prove,   Love's fire heats water, water cools not love.                  THE END\""
      ]
     },
     "execution_count": 31,
     "metadata": {
      "tags": []
     },
     "output_type": "execute_result"
    }
   ],
   "source": [
    "text2"
   ]
  },
  {
   "cell_type": "code",
   "execution_count": 0,
   "metadata": {
    "colab": {
     "base_uri": "https://localhost:8080/",
     "height": 1000
    },
    "colab_type": "code",
    "executionInfo": {
     "elapsed": 638,
     "status": "ok",
     "timestamp": 1565693037875,
     "user": {
      "displayName": "Inhwan Lee",
      "photoUrl": "https://lh5.googleusercontent.com/-5lUmIvfg1FQ/AAAAAAAAAAI/AAAAAAAAB20/zcaOdBSgGnE/s64/photo.jpg",
      "userId": "00207258631190759901"
     },
     "user_tz": -540
    },
    "id": "HQEVKWmgh8ao",
    "outputId": "0f87b11d-5a37-42a8-c7ec-4cd480e942f5"
   },
   "outputs": [
    {
     "data": {
      "text/plain": [
       "['THE',\n",
       " 'SONNETS',\n",
       " 'by',\n",
       " 'William',\n",
       " 'Shakespeare',\n",
       " '1',\n",
       " 'From',\n",
       " 'fairest',\n",
       " 'creatures',\n",
       " 'we',\n",
       " 'desire',\n",
       " 'increase,',\n",
       " 'That',\n",
       " 'thereby',\n",
       " \"beauty's\",\n",
       " 'rose',\n",
       " 'might',\n",
       " 'never',\n",
       " 'die,',\n",
       " 'But',\n",
       " 'as',\n",
       " 'the',\n",
       " 'riper',\n",
       " 'should',\n",
       " 'by',\n",
       " 'time',\n",
       " 'decease,',\n",
       " 'His',\n",
       " 'tender',\n",
       " 'heir',\n",
       " 'might',\n",
       " 'bear',\n",
       " 'his',\n",
       " 'memory:',\n",
       " 'But',\n",
       " 'thou',\n",
       " 'contracted',\n",
       " 'to',\n",
       " 'thine',\n",
       " 'own',\n",
       " 'bright',\n",
       " 'eyes,',\n",
       " \"Feed'st\",\n",
       " 'thy',\n",
       " \"light's\",\n",
       " 'flame',\n",
       " 'with',\n",
       " 'self-substantial',\n",
       " 'fuel,',\n",
       " 'Making',\n",
       " 'a',\n",
       " 'famine',\n",
       " 'where',\n",
       " 'abundance',\n",
       " 'lies,',\n",
       " 'Thy',\n",
       " 'self',\n",
       " 'thy',\n",
       " 'foe,',\n",
       " 'to',\n",
       " 'thy',\n",
       " 'sweet',\n",
       " 'self',\n",
       " 'too',\n",
       " 'cruel:',\n",
       " 'Thou',\n",
       " 'that',\n",
       " 'art',\n",
       " 'now',\n",
       " 'the',\n",
       " \"world's\",\n",
       " 'fresh',\n",
       " 'ornament,',\n",
       " 'And',\n",
       " 'only',\n",
       " 'herald',\n",
       " 'to',\n",
       " 'the',\n",
       " 'gaudy',\n",
       " 'spring,',\n",
       " 'Within',\n",
       " 'thine',\n",
       " 'own',\n",
       " 'bud',\n",
       " 'buriest',\n",
       " 'thy',\n",
       " 'content,',\n",
       " 'And',\n",
       " 'tender',\n",
       " 'churl',\n",
       " \"mak'st\",\n",
       " 'waste',\n",
       " 'in',\n",
       " 'niggarding:',\n",
       " 'Pity',\n",
       " 'the',\n",
       " 'world,',\n",
       " 'or',\n",
       " 'else',\n",
       " 'this',\n",
       " 'glutton',\n",
       " 'be,',\n",
       " 'To',\n",
       " 'eat',\n",
       " 'the',\n",
       " \"world's\",\n",
       " 'due,',\n",
       " 'by',\n",
       " 'the',\n",
       " 'grave',\n",
       " 'and',\n",
       " 'thee.',\n",
       " '2',\n",
       " 'When',\n",
       " 'forty',\n",
       " 'winters',\n",
       " 'shall',\n",
       " 'besiege',\n",
       " 'thy',\n",
       " 'brow,',\n",
       " 'And',\n",
       " 'dig',\n",
       " 'deep',\n",
       " 'trenches',\n",
       " 'in',\n",
       " 'thy',\n",
       " \"beauty's\",\n",
       " 'field,',\n",
       " 'Thy',\n",
       " \"youth's\",\n",
       " 'proud',\n",
       " 'livery',\n",
       " 'so',\n",
       " 'gazed',\n",
       " 'on',\n",
       " 'now,',\n",
       " 'Will',\n",
       " 'be',\n",
       " 'a',\n",
       " 'tattered',\n",
       " 'weed',\n",
       " 'of',\n",
       " 'small',\n",
       " 'worth',\n",
       " 'held:',\n",
       " 'Then',\n",
       " 'being',\n",
       " 'asked,',\n",
       " 'where',\n",
       " 'all',\n",
       " 'thy',\n",
       " 'beauty',\n",
       " 'lies,',\n",
       " 'Where',\n",
       " 'all',\n",
       " 'the',\n",
       " 'treasure',\n",
       " 'of',\n",
       " 'thy',\n",
       " 'lusty',\n",
       " 'days;',\n",
       " 'To',\n",
       " 'say',\n",
       " 'within',\n",
       " 'thine',\n",
       " 'own',\n",
       " 'deep',\n",
       " 'sunken',\n",
       " 'eyes,',\n",
       " 'Were',\n",
       " 'an',\n",
       " 'all-eating',\n",
       " 'shame,',\n",
       " 'and',\n",
       " 'thriftless',\n",
       " 'praise.',\n",
       " 'How',\n",
       " 'much',\n",
       " 'more',\n",
       " 'praise',\n",
       " 'deserved',\n",
       " 'thy',\n",
       " \"beauty's\",\n",
       " 'use,',\n",
       " 'If',\n",
       " 'thou',\n",
       " 'couldst',\n",
       " 'answer',\n",
       " \"'This\",\n",
       " 'fair',\n",
       " 'child',\n",
       " 'of',\n",
       " 'mine',\n",
       " 'Shall',\n",
       " 'sum',\n",
       " 'my',\n",
       " 'count,',\n",
       " 'and',\n",
       " 'make',\n",
       " 'my',\n",
       " 'old',\n",
       " \"excuse'\",\n",
       " 'Proving',\n",
       " 'his',\n",
       " 'beauty',\n",
       " 'by',\n",
       " 'succession',\n",
       " 'thine.',\n",
       " 'This',\n",
       " 'were',\n",
       " 'to',\n",
       " 'be',\n",
       " 'new',\n",
       " 'made',\n",
       " 'when',\n",
       " 'thou',\n",
       " 'art',\n",
       " 'old,',\n",
       " 'And',\n",
       " 'see',\n",
       " 'thy',\n",
       " 'blood',\n",
       " 'warm',\n",
       " 'when',\n",
       " 'thou',\n",
       " \"feel'st\",\n",
       " 'it',\n",
       " 'cold.',\n",
       " '3',\n",
       " 'Look',\n",
       " 'in',\n",
       " 'thy',\n",
       " 'glass',\n",
       " 'and',\n",
       " 'tell',\n",
       " 'the',\n",
       " 'face',\n",
       " 'thou',\n",
       " 'viewest,',\n",
       " 'Now',\n",
       " 'is',\n",
       " 'the',\n",
       " 'time',\n",
       " 'that',\n",
       " 'face',\n",
       " 'should',\n",
       " 'form',\n",
       " 'another,',\n",
       " 'Whose',\n",
       " 'fresh',\n",
       " 'repair',\n",
       " 'if',\n",
       " 'now',\n",
       " 'thou',\n",
       " 'not',\n",
       " 'renewest,',\n",
       " 'Thou',\n",
       " 'dost',\n",
       " 'beguile',\n",
       " 'the',\n",
       " 'world,',\n",
       " 'unbless',\n",
       " 'some',\n",
       " 'mother.',\n",
       " 'For',\n",
       " 'where',\n",
       " 'is',\n",
       " 'she',\n",
       " 'so',\n",
       " 'fair',\n",
       " 'whose',\n",
       " 'uneared',\n",
       " 'womb',\n",
       " 'Disdains',\n",
       " 'the',\n",
       " 'tillage',\n",
       " 'of',\n",
       " 'thy',\n",
       " 'husbandry?',\n",
       " 'Or',\n",
       " 'who',\n",
       " 'is',\n",
       " 'he',\n",
       " 'so',\n",
       " 'fond',\n",
       " 'will',\n",
       " 'be',\n",
       " 'the',\n",
       " 'tomb,',\n",
       " 'Of',\n",
       " 'his',\n",
       " 'self-love',\n",
       " 'to',\n",
       " 'stop',\n",
       " 'posterity?',\n",
       " 'Thou',\n",
       " 'art',\n",
       " 'thy',\n",
       " \"mother's\",\n",
       " 'glass',\n",
       " 'and',\n",
       " 'she',\n",
       " 'in',\n",
       " 'thee',\n",
       " 'Calls',\n",
       " 'back',\n",
       " 'the',\n",
       " 'lovely',\n",
       " 'April',\n",
       " 'of',\n",
       " 'her',\n",
       " 'prime,',\n",
       " 'So',\n",
       " 'thou',\n",
       " 'through',\n",
       " 'windows',\n",
       " 'of',\n",
       " 'thine',\n",
       " 'age',\n",
       " 'shalt',\n",
       " 'see,',\n",
       " 'Despite',\n",
       " 'of',\n",
       " 'wrinkles',\n",
       " 'this',\n",
       " 'thy',\n",
       " 'golden',\n",
       " 'time.',\n",
       " 'But',\n",
       " 'if',\n",
       " 'thou',\n",
       " 'live',\n",
       " 'remembered',\n",
       " 'not',\n",
       " 'to',\n",
       " 'be,',\n",
       " 'Die',\n",
       " 'single',\n",
       " 'and',\n",
       " 'thine',\n",
       " 'image',\n",
       " 'dies',\n",
       " 'with',\n",
       " 'thee.',\n",
       " '4',\n",
       " 'Unthrifty',\n",
       " 'loveliness',\n",
       " 'why',\n",
       " 'dost',\n",
       " 'thou',\n",
       " 'spend,',\n",
       " 'Upon',\n",
       " 'thy',\n",
       " 'self',\n",
       " 'thy',\n",
       " \"beauty's\",\n",
       " 'legacy?',\n",
       " \"Nature's\",\n",
       " 'bequest',\n",
       " 'gives',\n",
       " 'nothing',\n",
       " 'but',\n",
       " 'doth',\n",
       " 'lend,',\n",
       " 'And',\n",
       " 'being',\n",
       " 'frank',\n",
       " 'she',\n",
       " 'lends',\n",
       " 'to',\n",
       " 'those',\n",
       " 'are',\n",
       " 'free:',\n",
       " 'Then',\n",
       " 'beauteous',\n",
       " 'niggard',\n",
       " 'why',\n",
       " 'dost',\n",
       " 'thou',\n",
       " 'abuse,',\n",
       " 'The',\n",
       " 'bounteous',\n",
       " 'largess',\n",
       " 'given',\n",
       " 'thee',\n",
       " 'to',\n",
       " 'give?',\n",
       " 'Profitless',\n",
       " 'usurer',\n",
       " 'why',\n",
       " 'dost',\n",
       " 'thou',\n",
       " 'use',\n",
       " 'So',\n",
       " 'great',\n",
       " 'a',\n",
       " 'sum',\n",
       " 'of',\n",
       " 'sums',\n",
       " 'yet',\n",
       " 'canst',\n",
       " 'not',\n",
       " 'live?',\n",
       " 'For',\n",
       " 'having',\n",
       " 'traffic',\n",
       " 'with',\n",
       " 'thy',\n",
       " 'self',\n",
       " 'alone,',\n",
       " 'Thou',\n",
       " 'of',\n",
       " 'thy',\n",
       " 'self',\n",
       " 'thy',\n",
       " 'sweet',\n",
       " 'self',\n",
       " 'dost',\n",
       " 'deceive,',\n",
       " 'Then',\n",
       " 'how',\n",
       " 'when',\n",
       " 'nature',\n",
       " 'calls',\n",
       " 'thee',\n",
       " 'to',\n",
       " 'be',\n",
       " 'gone,',\n",
       " 'What',\n",
       " 'acceptable',\n",
       " 'audit',\n",
       " 'canst',\n",
       " 'thou',\n",
       " 'leave?',\n",
       " 'Thy',\n",
       " 'unused',\n",
       " 'beauty',\n",
       " 'must',\n",
       " 'be',\n",
       " 'tombed',\n",
       " 'with',\n",
       " 'thee,',\n",
       " 'Which',\n",
       " 'used',\n",
       " 'lives',\n",
       " \"th'\",\n",
       " 'executor',\n",
       " 'to',\n",
       " 'be.',\n",
       " '5',\n",
       " 'Those',\n",
       " 'hours',\n",
       " 'that',\n",
       " 'with',\n",
       " 'gentle',\n",
       " 'work',\n",
       " 'did',\n",
       " 'frame',\n",
       " 'The',\n",
       " 'lovely',\n",
       " 'gaze',\n",
       " 'where',\n",
       " 'every',\n",
       " 'eye',\n",
       " 'doth',\n",
       " 'dwell',\n",
       " 'Will',\n",
       " 'play',\n",
       " 'the',\n",
       " 'tyrants',\n",
       " 'to',\n",
       " 'the',\n",
       " 'very',\n",
       " 'same,',\n",
       " 'And',\n",
       " 'that',\n",
       " 'unfair',\n",
       " 'which',\n",
       " 'fairly',\n",
       " 'doth',\n",
       " 'excel:',\n",
       " 'For',\n",
       " 'never-resting',\n",
       " 'time',\n",
       " 'leads',\n",
       " 'summer',\n",
       " 'on',\n",
       " 'To',\n",
       " 'hideous',\n",
       " 'winter',\n",
       " 'and',\n",
       " 'confounds',\n",
       " 'him',\n",
       " 'there,',\n",
       " 'Sap',\n",
       " 'checked',\n",
       " 'with',\n",
       " 'frost',\n",
       " 'and',\n",
       " 'lusty',\n",
       " 'leaves',\n",
       " 'quite',\n",
       " 'gone,',\n",
       " 'Beauty',\n",
       " \"o'er-snowed\",\n",
       " 'and',\n",
       " 'bareness',\n",
       " 'every',\n",
       " 'where:',\n",
       " 'Then',\n",
       " 'were',\n",
       " 'not',\n",
       " \"summer's\",\n",
       " 'distillation',\n",
       " 'left',\n",
       " 'A',\n",
       " 'liquid',\n",
       " 'prisoner',\n",
       " 'pent',\n",
       " 'in',\n",
       " 'walls',\n",
       " 'of',\n",
       " 'glass,',\n",
       " \"Beauty's\",\n",
       " 'effect',\n",
       " 'with',\n",
       " 'beauty',\n",
       " 'were',\n",
       " 'bereft,',\n",
       " 'Nor',\n",
       " 'it',\n",
       " 'nor',\n",
       " 'no',\n",
       " 'remembrance',\n",
       " 'what',\n",
       " 'it',\n",
       " 'was.',\n",
       " 'But',\n",
       " 'flowers',\n",
       " 'distilled',\n",
       " 'though',\n",
       " 'they',\n",
       " 'with',\n",
       " 'winter',\n",
       " 'meet,',\n",
       " 'Leese',\n",
       " 'but',\n",
       " 'their',\n",
       " 'show,',\n",
       " 'their',\n",
       " 'substance',\n",
       " 'still',\n",
       " 'lives',\n",
       " 'sweet.',\n",
       " '6',\n",
       " 'Then',\n",
       " 'let',\n",
       " 'not',\n",
       " \"winter's\",\n",
       " 'ragged',\n",
       " 'hand',\n",
       " 'deface,',\n",
       " 'In',\n",
       " 'thee',\n",
       " 'thy',\n",
       " 'summer',\n",
       " 'ere',\n",
       " 'thou',\n",
       " 'be',\n",
       " 'distilled:',\n",
       " 'Make',\n",
       " 'sweet',\n",
       " 'some',\n",
       " 'vial;',\n",
       " 'treasure',\n",
       " 'thou',\n",
       " 'some',\n",
       " 'place,',\n",
       " 'With',\n",
       " \"beauty's\",\n",
       " 'treasure',\n",
       " 'ere',\n",
       " 'it',\n",
       " 'be',\n",
       " 'self-killed:',\n",
       " 'That',\n",
       " 'use',\n",
       " 'is',\n",
       " 'not',\n",
       " 'forbidden',\n",
       " 'usury,',\n",
       " 'Which',\n",
       " 'happies',\n",
       " 'those',\n",
       " 'that',\n",
       " 'pay',\n",
       " 'the',\n",
       " 'willing',\n",
       " 'loan;',\n",
       " \"That's\",\n",
       " 'for',\n",
       " 'thy',\n",
       " 'self',\n",
       " 'to',\n",
       " 'breed',\n",
       " 'another',\n",
       " 'thee,',\n",
       " 'Or',\n",
       " 'ten',\n",
       " 'times',\n",
       " 'happier',\n",
       " 'be',\n",
       " 'it',\n",
       " 'ten',\n",
       " 'for',\n",
       " 'one,',\n",
       " 'Ten',\n",
       " 'times',\n",
       " 'thy',\n",
       " 'self',\n",
       " 'were',\n",
       " 'happier',\n",
       " 'than',\n",
       " 'thou',\n",
       " 'art,',\n",
       " 'If',\n",
       " 'ten',\n",
       " 'of',\n",
       " 'thine',\n",
       " 'ten',\n",
       " 'times',\n",
       " 'refigured',\n",
       " 'thee:',\n",
       " 'Then',\n",
       " 'what',\n",
       " 'could',\n",
       " 'death',\n",
       " 'do',\n",
       " 'if',\n",
       " 'thou',\n",
       " 'shouldst',\n",
       " 'depart,',\n",
       " 'Leaving',\n",
       " 'thee',\n",
       " 'living',\n",
       " 'in',\n",
       " 'posterity?',\n",
       " 'Be',\n",
       " 'not',\n",
       " 'self-willed',\n",
       " 'for',\n",
       " 'thou',\n",
       " 'art',\n",
       " 'much',\n",
       " 'too',\n",
       " 'fair,',\n",
       " 'To',\n",
       " 'be',\n",
       " \"death's\",\n",
       " 'conquest',\n",
       " 'and',\n",
       " 'make',\n",
       " 'worms',\n",
       " 'thine',\n",
       " 'heir.',\n",
       " '7',\n",
       " 'Lo',\n",
       " 'in',\n",
       " 'the',\n",
       " 'orient',\n",
       " 'when',\n",
       " 'the',\n",
       " 'gracious',\n",
       " 'light',\n",
       " 'Lifts',\n",
       " 'up',\n",
       " 'his',\n",
       " 'burning',\n",
       " 'head,',\n",
       " 'each',\n",
       " 'under',\n",
       " 'eye',\n",
       " 'Doth',\n",
       " 'homage',\n",
       " 'to',\n",
       " 'his',\n",
       " 'new-appearing',\n",
       " 'sight,',\n",
       " 'Serving',\n",
       " 'with',\n",
       " 'looks',\n",
       " 'his',\n",
       " 'sacred',\n",
       " 'majesty,',\n",
       " 'And',\n",
       " 'having',\n",
       " 'climbed',\n",
       " 'the',\n",
       " 'steep-up',\n",
       " 'heavenly',\n",
       " 'hill,',\n",
       " 'Resembling',\n",
       " 'strong',\n",
       " 'youth',\n",
       " 'in',\n",
       " 'his',\n",
       " 'middle',\n",
       " 'age,',\n",
       " 'Yet',\n",
       " 'mortal',\n",
       " 'looks',\n",
       " 'adore',\n",
       " 'his',\n",
       " 'beauty',\n",
       " 'still,',\n",
       " 'Attending',\n",
       " 'on',\n",
       " 'his',\n",
       " 'golden',\n",
       " 'pilgrimage:',\n",
       " 'But',\n",
       " 'when',\n",
       " 'from',\n",
       " 'highmost',\n",
       " 'pitch',\n",
       " 'with',\n",
       " 'weary',\n",
       " 'car,',\n",
       " 'Like',\n",
       " 'feeble',\n",
       " 'age',\n",
       " 'he',\n",
       " 'reeleth',\n",
       " 'from',\n",
       " 'the',\n",
       " 'day,',\n",
       " 'The',\n",
       " 'eyes',\n",
       " '(fore',\n",
       " 'duteous)',\n",
       " 'now',\n",
       " 'converted',\n",
       " 'are',\n",
       " 'From',\n",
       " 'his',\n",
       " 'low',\n",
       " 'tract',\n",
       " 'and',\n",
       " 'look',\n",
       " 'another',\n",
       " 'way:',\n",
       " 'So',\n",
       " 'thou,',\n",
       " 'thy',\n",
       " 'self',\n",
       " 'out-going',\n",
       " 'in',\n",
       " 'thy',\n",
       " 'noon:',\n",
       " 'Unlooked',\n",
       " 'on',\n",
       " 'diest',\n",
       " 'unless',\n",
       " 'thou',\n",
       " 'get',\n",
       " 'a',\n",
       " 'son.',\n",
       " '8',\n",
       " 'Music',\n",
       " 'to',\n",
       " 'hear,',\n",
       " 'why',\n",
       " \"hear'st\",\n",
       " 'thou',\n",
       " 'music',\n",
       " 'sadly?',\n",
       " 'Sweets',\n",
       " 'with',\n",
       " 'sweets',\n",
       " 'war',\n",
       " 'not,',\n",
       " 'joy',\n",
       " 'delights',\n",
       " 'in',\n",
       " 'joy:',\n",
       " 'Why',\n",
       " \"lov'st\",\n",
       " 'thou',\n",
       " 'that',\n",
       " 'which',\n",
       " 'thou',\n",
       " \"receiv'st\",\n",
       " 'not',\n",
       " 'gladly,',\n",
       " 'Or',\n",
       " 'else',\n",
       " \"receiv'st\",\n",
       " 'with',\n",
       " 'pleasure',\n",
       " 'thine',\n",
       " 'annoy?',\n",
       " 'If',\n",
       " 'the',\n",
       " 'true',\n",
       " 'concord',\n",
       " 'of',\n",
       " 'well-tuned',\n",
       " 'sounds,',\n",
       " 'By',\n",
       " 'unions',\n",
       " 'married',\n",
       " 'do',\n",
       " 'offend',\n",
       " 'thine',\n",
       " 'ear,',\n",
       " 'They',\n",
       " 'do',\n",
       " 'but',\n",
       " 'sweetly',\n",
       " 'chide',\n",
       " 'thee,',\n",
       " 'who',\n",
       " 'confounds',\n",
       " 'In',\n",
       " 'singleness',\n",
       " 'the',\n",
       " 'parts',\n",
       " 'that',\n",
       " 'thou',\n",
       " 'shouldst',\n",
       " 'bear:',\n",
       " 'Mark',\n",
       " 'how',\n",
       " 'one',\n",
       " 'string',\n",
       " 'sweet',\n",
       " 'husband',\n",
       " 'to',\n",
       " 'another,',\n",
       " 'Strikes',\n",
       " 'each',\n",
       " 'in',\n",
       " 'each',\n",
       " 'by',\n",
       " 'mutual',\n",
       " 'ordering;',\n",
       " 'Resembling',\n",
       " 'sire,',\n",
       " 'and',\n",
       " 'child,',\n",
       " 'and',\n",
       " 'happy',\n",
       " 'mother,',\n",
       " 'Who',\n",
       " 'all',\n",
       " 'in',\n",
       " 'one,',\n",
       " 'one',\n",
       " 'pleasing',\n",
       " 'note',\n",
       " 'do',\n",
       " 'sing:',\n",
       " 'Whose',\n",
       " 'speechless',\n",
       " 'song',\n",
       " 'being',\n",
       " 'many,',\n",
       " 'seeming',\n",
       " 'one,',\n",
       " 'Sings',\n",
       " 'this',\n",
       " 'to',\n",
       " 'thee,',\n",
       " \"'Thou\",\n",
       " 'single',\n",
       " 'wilt',\n",
       " 'prove',\n",
       " \"none'.\",\n",
       " '9',\n",
       " 'Is',\n",
       " 'it',\n",
       " 'for',\n",
       " 'fear',\n",
       " 'to',\n",
       " 'wet',\n",
       " 'a',\n",
       " \"widow's\",\n",
       " 'eye,',\n",
       " 'That',\n",
       " 'thou',\n",
       " \"consum'st\",\n",
       " 'thy',\n",
       " 'self',\n",
       " 'in',\n",
       " 'single',\n",
       " 'life?',\n",
       " 'Ah,',\n",
       " 'if',\n",
       " 'thou',\n",
       " 'issueless',\n",
       " 'shalt',\n",
       " 'hap',\n",
       " 'to',\n",
       " 'die,',\n",
       " 'The',\n",
       " 'world',\n",
       " 'will',\n",
       " 'wail',\n",
       " 'thee',\n",
       " 'like',\n",
       " 'a',\n",
       " 'makeless',\n",
       " 'wife,',\n",
       " 'The',\n",
       " 'world',\n",
       " 'will',\n",
       " 'be',\n",
       " 'thy',\n",
       " 'widow',\n",
       " 'and',\n",
       " 'still',\n",
       " 'weep,',\n",
       " 'That',\n",
       " 'thou',\n",
       " 'no',\n",
       " 'form',\n",
       " 'of',\n",
       " 'thee',\n",
       " 'hast',\n",
       " 'left',\n",
       " 'behind,',\n",
       " 'When',\n",
       " 'every',\n",
       " 'private',\n",
       " 'widow',\n",
       " 'well',\n",
       " 'may',\n",
       " 'keep,',\n",
       " 'By',\n",
       " \"children's\",\n",
       " 'eyes,',\n",
       " 'her',\n",
       " \"husband's\",\n",
       " 'shape',\n",
       " 'in',\n",
       " 'mind:',\n",
       " 'Look',\n",
       " 'what',\n",
       " 'an',\n",
       " 'unthrift',\n",
       " 'in',\n",
       " 'the',\n",
       " 'world',\n",
       " 'doth',\n",
       " 'spend',\n",
       " 'Shifts',\n",
       " 'but',\n",
       " 'his',\n",
       " 'place,',\n",
       " 'for',\n",
       " 'still',\n",
       " 'the',\n",
       " 'world',\n",
       " 'enjoys',\n",
       " 'it;',\n",
       " 'But',\n",
       " \"beauty's\",\n",
       " 'waste',\n",
       " 'hath',\n",
       " 'in',\n",
       " 'the',\n",
       " 'world',\n",
       " 'an',\n",
       " 'end,',\n",
       " 'And',\n",
       " 'kept',\n",
       " 'unused',\n",
       " 'the',\n",
       " 'user',\n",
       " 'so',\n",
       " 'destroys',\n",
       " 'it:',\n",
       " 'No',\n",
       " 'love',\n",
       " 'toward',\n",
       " 'others',\n",
       " 'in',\n",
       " 'that',\n",
       " 'bosom',\n",
       " 'sits',\n",
       " 'That',\n",
       " 'on',\n",
       " 'himself',\n",
       " 'such',\n",
       " \"murd'rous\",\n",
       " 'shame',\n",
       " 'commits.',\n",
       " '10',\n",
       " 'For',\n",
       " 'shame',\n",
       " ...]"
      ]
     },
     "execution_count": 32,
     "metadata": {
      "tags": []
     },
     "output_type": "execute_result"
    }
   ],
   "source": [
    "text_fin = text2.split()\n",
    "text_fin"
   ]
  },
  {
   "cell_type": "code",
   "execution_count": 0,
   "metadata": {
    "colab": {
     "base_uri": "https://localhost:8080/",
     "height": 35
    },
    "colab_type": "code",
    "executionInfo": {
     "elapsed": 666,
     "status": "ok",
     "timestamp": 1565693097452,
     "user": {
      "displayName": "Inhwan Lee",
      "photoUrl": "https://lh5.googleusercontent.com/-5lUmIvfg1FQ/AAAAAAAAAAI/AAAAAAAAB20/zcaOdBSgGnE/s64/photo.jpg",
      "userId": "00207258631190759901"
     },
     "user_tz": -540
    },
    "id": "lvdsWtVTk8oz",
    "outputId": "d0249ad6-9885-41f3-b518-db5a7da83ac8"
   },
   "outputs": [
    {
     "name": "stdout",
     "output_type": "stream",
     "text": [
      "4732\n"
     ]
    }
   ],
   "source": [
    "CONTEXT_SIZE = 3  # 2 words to the left, 2 to the right\n",
    "EMBEDDING_DIM = 20\n",
    "\n",
    "\n",
    "# By deriving a set from `raw_text`, we deduplicate the array\n",
    "vocab = set(text_fin)\n",
    "vocab_size = len(vocab)\n",
    "print(vocab_size)"
   ]
  },
  {
   "cell_type": "code",
   "execution_count": 0,
   "metadata": {
    "colab": {
     "base_uri": "https://localhost:8080/",
     "height": 55
    },
    "colab_type": "code",
    "executionInfo": {
     "elapsed": 779,
     "status": "ok",
     "timestamp": 1565693202439,
     "user": {
      "displayName": "Inhwan Lee",
      "photoUrl": "https://lh5.googleusercontent.com/-5lUmIvfg1FQ/AAAAAAAAAAI/AAAAAAAAB20/zcaOdBSgGnE/s64/photo.jpg",
      "userId": "00207258631190759901"
     },
     "user_tz": -540
    },
    "id": "mVWjZW2IlLLZ",
    "outputId": "8ef8c5bd-4376-4fb9-ed84-988f80475cee"
   },
   "outputs": [
    {
     "name": "stdout",
     "output_type": "stream",
     "text": [
      "[(['THE', 'SONNETS', 'by', 'Shakespeare', '1', 'From'], 'William'), (['SONNETS', 'by', 'William', '1', 'From', 'fairest'], 'Shakespeare'), (['by', 'William', 'Shakespeare', 'From', 'fairest', 'creatures'], '1'), (['William', 'Shakespeare', '1', 'fairest', 'creatures', 'we'], 'From'), (['Shakespeare', '1', 'From', 'creatures', 'we', 'desire'], 'fairest')]\n"
     ]
    }
   ],
   "source": [
    "word_to_ix = {word: i for i, word in enumerate(vocab)}\n",
    "\n",
    "data = []\n",
    "for i in range(3, len(text_fin) - 3):\n",
    "    context = [text_fin[i - 3], text_fin[i - 2], text_fin[i-1],\n",
    "               text_fin[i + 1], text_fin[i + 2], text_fin[i+3]]\n",
    "    target = text_fin[i]\n",
    "    data.append((context, target))\n",
    "print(data[:5])"
   ]
  },
  {
   "cell_type": "code",
   "execution_count": 0,
   "metadata": {
    "colab": {},
    "colab_type": "code",
    "id": "OU8-kUxOlkyO"
   },
   "outputs": [],
   "source": [
    "loss_function = nn.NLLLoss()\n",
    "losses = []\n",
    "optimizer = optim.SGD(cbow.parameters(), lr=0.001)\n"
   ]
  },
  {
   "cell_type": "code",
   "execution_count": 46,
   "metadata": {
    "colab": {
     "base_uri": "https://localhost:8080/",
     "height": 55
    },
    "colab_type": "code",
    "executionInfo": {
     "elapsed": 555614,
     "status": "ok",
     "timestamp": 1565696467986,
     "user": {
      "displayName": "Inhwan Lee",
      "photoUrl": "https://lh5.googleusercontent.com/-5lUmIvfg1FQ/AAAAAAAAAAI/AAAAAAAAB20/zcaOdBSgGnE/s64/photo.jpg",
      "userId": "00207258631190759901"
     },
     "user_tz": -540
    },
    "id": "N9hQurULl_0S",
    "outputId": "dc76a6c1-3cd5-4814-a08c-bdf5ef850dc5"
   },
   "outputs": [
    {
     "name": "stdout",
     "output_type": "stream",
     "text": [
      "[136814.55471849442, 127201.06983470917, 124033.85727071762, 121878.98407125473, 120089.40316772461, 118451.07203388214, 116857.72640323639, 115241.63581323624, 113561.65472173691, 111784.2989525795, 109887.99816083908, 107855.6805305481, 105677.52301073074, 103351.46455717087, 100882.32410335541, 98283.18910884857, 95571.95648908615, 92773.10369825363, 89914.87554502487, 87031.22138500214, 84154.94712162018, 81320.25093364716, 78558.98032045364, 75902.09889888763, 73371.94185304642, 70989.21407365799, 68763.49297428131, 66700.23573589325, 64795.726425647736, 63042.79915809631, 61431.27711343765, 59948.51124334335, 58582.57251548767, 57319.93405723572, 56151.821113586426, 55069.35271024704, 54063.644040584564, 53126.60506248474, 52253.46991634369, 51437.822232723236, 50674.03278684616, 49957.980823516846, 49285.619943618774, 48652.9042224884, 48056.43445110321, 47493.550265312195, 46960.67036104202, 46457.22336292267, 45979.213131427765, 45523.49815607071, 45090.22503614426]\n"
     ]
    }
   ],
   "source": [
    "for epoch in range(50):\n",
    "  \n",
    "  tot_loss = 0\n",
    "  for context, target in data:\n",
    "    # context words를 벡터화\n",
    "    input = make_context_vector(context, word_to_ix)\n",
    "    \n",
    "    # 옵티마이저 그레디언트 0 변경\n",
    "    optimizer.zero_grad()\n",
    "    \n",
    "    # 결과값\n",
    "    output = cbow(input)\n",
    "    \n",
    "    # loss 계산\n",
    "    loss = loss_function(output, torch.tensor([word_to_ix[target]], dtype=torch.long))\n",
    "    \n",
    "    # 역전파\n",
    "    loss.backward()\n",
    "    optimizer.step()\n",
    "    \n",
    "    \n",
    "    # Loss 합산\n",
    "    tot_loss += loss.item()\n",
    "    \n",
    "    \n",
    "  losses.append(tot_loss)\n",
    "  \n",
    "print(losses)\n",
    "                         \n",
    "                         "
   ]
  },
  {
   "cell_type": "code",
   "execution_count": 0,
   "metadata": {
    "colab": {},
    "colab_type": "code",
    "id": "-h2aeXA6ymer"
   },
   "outputs": [],
   "source": [
    "import matplotlib.pyplot as plt"
   ]
  },
  {
   "cell_type": "code",
   "execution_count": 48,
   "metadata": {
    "colab": {
     "base_uri": "https://localhost:8080/",
     "height": 287
    },
    "colab_type": "code",
    "executionInfo": {
     "elapsed": 873,
     "status": "ok",
     "timestamp": 1565696650577,
     "user": {
      "displayName": "Inhwan Lee",
      "photoUrl": "https://lh5.googleusercontent.com/-5lUmIvfg1FQ/AAAAAAAAAAI/AAAAAAAAB20/zcaOdBSgGnE/s64/photo.jpg",
      "userId": "00207258631190759901"
     },
     "user_tz": -540
    },
    "id": "Huxb0Kt_mCaY",
    "outputId": "79dcff44-1e15-44ff-a308-0104c3b52c3d"
   },
   "outputs": [
    {
     "data": {
      "text/plain": [
       "[<matplotlib.lines.Line2D at 0x7f63948b92b0>]"
      ]
     },
     "execution_count": 48,
     "metadata": {
      "tags": []
     },
     "output_type": "execute_result"
    },
    {
     "data": {
      "image/png": "[encoded data removed]",
      "text/plain": [
       "<Figure size 432x288 with 1 Axes>"
      ]
     },
     "metadata": {
      "tags": []
     },
     "output_type": "display_data"
    }
   ],
   "source": [
    "plt.plot(losses)"
   ]
  },
  {
   "cell_type": "code",
   "execution_count": 0,
   "metadata": {
    "colab": {},
    "colab_type": "code",
    "id": "XvSmOFgRyulr"
   },
   "outputs": [],
   "source": [
    "tt = np.random.randn(3,5)\n",
    "dx = np.sum(tt, axis=0, keepdims=True)\n",
    "dy = np.sum(tt, axis=0, keepdims=False)"
   ]
  },
  {
   "cell_type": "code",
   "execution_count": 51,
   "metadata": {
    "colab": {
     "base_uri": "https://localhost:8080/",
     "height": 53
    },
    "colab_type": "code",
    "executionInfo": {
     "elapsed": 534,
     "status": "ok",
     "timestamp": 1565697757840,
     "user": {
      "displayName": "Inhwan Lee",
      "photoUrl": "https://lh5.googleusercontent.com/-5lUmIvfg1FQ/AAAAAAAAAAI/AAAAAAAAB20/zcaOdBSgGnE/s64/photo.jpg",
      "userId": "00207258631190759901"
     },
     "user_tz": -540
    },
    "id": "imA-LsyP20gz",
    "outputId": "9a133562-7236-4143-ef36-a335e9c5e673"
   },
   "outputs": [
    {
     "data": {
      "text/plain": [
       "(array([[-0.25790409,  1.27679487,  0.98308372,  0.74356223,  0.33177588]]),\n",
       " array([-0.25790409,  1.27679487,  0.98308372,  0.74356223,  0.33177588]))"
      ]
     },
     "execution_count": 51,
     "metadata": {
      "tags": []
     },
     "output_type": "execute_result"
    }
   ],
   "source": [
    "dx, dy"
   ]
  },
  {
   "cell_type": "code",
   "execution_count": 54,
   "metadata": {
    "colab": {
     "base_uri": "https://localhost:8080/",
     "height": 35
    },
    "colab_type": "code",
    "executionInfo": {
     "elapsed": 846,
     "status": "ok",
     "timestamp": 1565697776598,
     "user": {
      "displayName": "Inhwan Lee",
      "photoUrl": "https://lh5.googleusercontent.com/-5lUmIvfg1FQ/AAAAAAAAAAI/AAAAAAAAB20/zcaOdBSgGnE/s64/photo.jpg",
      "userId": "00207258631190759901"
     },
     "user_tz": -540
    },
    "id": "XGb52XiH29AU",
    "outputId": "7f787aa4-78e8-4b80-d980-0d3a9b6717d7"
   },
   "outputs": [
    {
     "data": {
      "text/plain": [
       "((1, 5), (5,))"
      ]
     },
     "execution_count": 54,
     "metadata": {
      "tags": []
     },
     "output_type": "execute_result"
    }
   ],
   "source": [
    "dx.shape, dy.shape"
   ]
  },
  {
   "cell_type": "code",
   "execution_count": 0,
   "metadata": {
    "colab": {},
    "colab_type": "code",
    "id": "01Y9F6432_B3"
   },
   "outputs": [],
   "source": []
  }
 ],
 "metadata": {
  "colab": {
   "collapsed_sections": [],
   "name": "word embedding.ipynb",
   "provenance": [],
   "version": "0.3.2"
  },
  "kernelspec": {
   "display_name": "Python 3",
   "language": "python",
   "name": "python3"
  },
  "language_info": {
   "codemirror_mode": {
    "name": "ipython",
    "version": 3
   },
   "file_extension": ".py",
   "mimetype": "text/x-python",
   "name": "python",
   "nbconvert_exporter": "python",
   "pygments_lexer": "ipython3",
   "version": "3.7.3"
  }
 },
 "nbformat": 4,
 "nbformat_minor": 1
}
